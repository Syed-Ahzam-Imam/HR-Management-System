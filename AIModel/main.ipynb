{
 "cells": [
  {
   "attachments": {},
   "cell_type": "markdown",
   "metadata": {
    "id": "LhOslm_cswec"
   },
   "source": [
    "# Dataset\n",
    "\n",
    "Dataset : https://www.kaggle.com/snehaanbhawal/resume-dataset"
   ]
  },
  {
   "cell_type": "markdown",
   "metadata": {
    "id": "rX7aN7T2tXSI"
   },
   "source": [
    "## Import"
   ]
  },
  {
   "cell_type": "code",
   "execution_count": 1,
   "metadata": {
    "colab": {
     "base_uri": "https://localhost:8080/"
    },
    "id": "a2DFo5vagMO4",
    "outputId": "0dc81236-df8e-406b-fb24-c65ab155d7e0"
   },
   "outputs": [
    {
     "name": "stderr",
     "output_type": "stream",
     "text": [
      "[nltk_data] Downloading package stopwords to\n",
      "[nltk_data]     C:\\Users\\Dell\\AppData\\Roaming\\nltk_data...\n",
      "[nltk_data]   Package stopwords is already up-to-date!\n",
      "[nltk_data] Downloading package wordnet to\n",
      "[nltk_data]     C:\\Users\\Dell\\AppData\\Roaming\\nltk_data...\n",
      "[nltk_data]   Package wordnet is already up-to-date!\n",
      "c:\\Users\\Dell\\anaconda3\\lib\\site-packages\\plotly\\express\\imshow_utils.py:24: DeprecationWarning: `np.bool8` is a deprecated alias for `np.bool_`.  (Deprecated NumPy 1.24)\n",
      "  np.bool8: (False, True),\n",
      "c:\\Users\\Dell\\anaconda3\\lib\\site-packages\\xarray\\core\\pycompat.py:22: DeprecationWarning: distutils Version classes are deprecated. Use packaging.version instead.\n",
      "  duck_array_version = LooseVersion(duck_array_module.__version__)\n",
      "c:\\Users\\Dell\\anaconda3\\lib\\site-packages\\xarray\\core\\pycompat.py:37: DeprecationWarning: distutils Version classes are deprecated. Use packaging.version instead.\n",
      "  duck_array_version = LooseVersion(\"0.0.0\")\n",
      "c:\\Users\\Dell\\anaconda3\\lib\\site-packages\\xarray\\core\\pycompat.py:37: DeprecationWarning: distutils Version classes are deprecated. Use packaging.version instead.\n",
      "  duck_array_version = LooseVersion(\"0.0.0\")\n",
      "c:\\Users\\Dell\\anaconda3\\lib\\site-packages\\setuptools\\_distutils\\version.py:346: DeprecationWarning: distutils Version classes are deprecated. Use packaging.version instead.\n",
      "  other = LooseVersion(other)\n",
      "c:\\Users\\Dell\\anaconda3\\lib\\site-packages\\setuptools\\_distutils\\version.py:346: DeprecationWarning: distutils Version classes are deprecated. Use packaging.version instead.\n",
      "  other = LooseVersion(other)\n",
      "c:\\Users\\Dell\\anaconda3\\lib\\site-packages\\xarray\\core\\npcompat.py:82: DeprecationWarning: distutils Version classes are deprecated. Use packaging.version instead.\n",
      "  if LooseVersion(np.__version__) >= \"1.20.0\":\n",
      "c:\\Users\\Dell\\anaconda3\\lib\\site-packages\\setuptools\\_distutils\\version.py:346: DeprecationWarning: distutils Version classes are deprecated. Use packaging.version instead.\n",
      "  other = LooseVersion(other)\n",
      "c:\\Users\\Dell\\anaconda3\\lib\\site-packages\\xarray\\core\\pdcompat.py:45: DeprecationWarning: distutils Version classes are deprecated. Use packaging.version instead.\n",
      "  if LooseVersion(pd.__version__) < \"0.25.0\":\n",
      "c:\\Users\\Dell\\anaconda3\\lib\\site-packages\\setuptools\\_distutils\\version.py:346: DeprecationWarning: distutils Version classes are deprecated. Use packaging.version instead.\n",
      "  other = LooseVersion(other)\n",
      "[nltk_data] Downloading package stopwords to\n",
      "[nltk_data]     C:\\Users\\Dell\\AppData\\Roaming\\nltk_data...\n",
      "[nltk_data]   Package stopwords is already up-to-date!\n",
      "[nltk_data] Downloading package wordnet to\n",
      "[nltk_data]     C:\\Users\\Dell\\AppData\\Roaming\\nltk_data...\n",
      "[nltk_data]   Package wordnet is already up-to-date!\n"
     ]
    }
   ],
   "source": [
    "# ! pip install spacy gensim pyLDAvis wordcloud plotly nltk\n",
    "import nltk\n",
    "nltk.download(['stopwords','wordnet'])\n",
    "#spacy\n",
    "# ! pip install spacy\n",
    "import spacy\n",
    "from spacy.pipeline import EntityRuler\n",
    "from spacy.lang.en import English\n",
    "from spacy.tokens import Doc\n",
    "\n",
    "#gensim\n",
    "import gensim\n",
    "from gensim import corpora\n",
    "\n",
    "#Visualization\n",
    "from spacy import displacy\n",
    "import pyLDAvis.gensim_models\n",
    "from wordcloud import WordCloud\n",
    "import plotly.express as px\n",
    "import matplotlib.pyplot as plt\n",
    "\n",
    "#Data loading/ Data manipulation\n",
    "import pandas as pd\n",
    "import numpy as np\n",
    "# ! pip install jsonlines\n",
    "import jsonlines\n",
    "\n",
    "#nltk\n",
    "import re\n",
    "import nltk\n",
    "from nltk.corpus import stopwords\n",
    "from nltk.stem import WordNetLemmatizer\n",
    "nltk.download(['stopwords','wordnet'])\n",
    "\n",
    "#warning\n",
    "import warnings \n",
    "warnings.filterwarnings('ignore')\n",
    "## For dropdown\n",
    "import numpy as np\n",
    "import pandas as pd\n",
    "import textwrap\n",
    "\n",
    "import ipywidgets as widgets\n",
    "from ipywidgets import interact, interact_manual\n",
    "import IPython.display\n",
    "from IPython.display import display, clear_output\n",
    "\n",
    "import plotly.graph_objects as go"
   ]
  },
  {
   "attachments": {},
   "cell_type": "markdown",
   "metadata": {
    "id": "Ex-KFJOGuOYz"
   },
   "source": [
    "# Resume Dataset\n"
   ]
  },
  {
   "cell_type": "code",
   "execution_count": 2,
   "metadata": {
    "id": "zkZ0WlFEtaac"
   },
   "outputs": [],
   "source": [
    "df = pd.read_csv(\"Resume.csv\")\n",
    "\n"
   ]
  },
  {
   "cell_type": "code",
   "execution_count": 3,
   "metadata": {
    "colab": {
     "base_uri": "https://localhost:8080/",
     "height": 204
    },
    "id": "v7273AIC5VUf",
    "outputId": "88e64ba3-cb93-4c79-812f-80ada8466e09"
   },
   "outputs": [
    {
     "data": {
      "text/html": [
       "<div>\n",
       "<style scoped>\n",
       "    .dataframe tbody tr th:only-of-type {\n",
       "        vertical-align: middle;\n",
       "    }\n",
       "\n",
       "    .dataframe tbody tr th {\n",
       "        vertical-align: top;\n",
       "    }\n",
       "\n",
       "    .dataframe thead th {\n",
       "        text-align: right;\n",
       "    }\n",
       "</style>\n",
       "<table border=\"1\" class=\"dataframe\">\n",
       "  <thead>\n",
       "    <tr style=\"text-align: right;\">\n",
       "      <th></th>\n",
       "      <th>ID</th>\n",
       "      <th>Resume_str</th>\n",
       "      <th>Resume_html</th>\n",
       "      <th>Category</th>\n",
       "    </tr>\n",
       "  </thead>\n",
       "  <tbody>\n",
       "    <tr>\n",
       "      <th>1698</th>\n",
       "      <td>20981299</td>\n",
       "      <td>ENGINEERING ASSISTANT       Summary  ...</td>\n",
       "      <td>&lt;div class=\"fontsize fontface vmargins hmargin...</td>\n",
       "      <td>ENGINEERING</td>\n",
       "    </tr>\n",
       "    <tr>\n",
       "      <th>2426</th>\n",
       "      <td>25718772</td>\n",
       "      <td>TSO/FLOATER       Career Overview    ...</td>\n",
       "      <td>&lt;div class=\"fontsize fontface vmargins hmargin...</td>\n",
       "      <td>AVIATION</td>\n",
       "    </tr>\n",
       "    <tr>\n",
       "      <th>923</th>\n",
       "      <td>14140903</td>\n",
       "      <td>GRADUATE RESEARCH ASSISTANT       Pro...</td>\n",
       "      <td>&lt;div class=\"fontsize fontface vmargins hmargin...</td>\n",
       "      <td>AGRICULTURE</td>\n",
       "    </tr>\n",
       "    <tr>\n",
       "      <th>2250</th>\n",
       "      <td>35492909</td>\n",
       "      <td>TAX ACCOUNTANT         Professional S...</td>\n",
       "      <td>&lt;div class=\"MPR skn-cbg1 fontsize fontface vma...</td>\n",
       "      <td>BANKING</td>\n",
       "    </tr>\n",
       "    <tr>\n",
       "      <th>1938</th>\n",
       "      <td>14900898</td>\n",
       "      <td>CONSTRUCTION MANAGER           Summar...</td>\n",
       "      <td>&lt;div class=\"fontsize fontface vmargins hmargin...</td>\n",
       "      <td>CONSTRUCTION</td>\n",
       "    </tr>\n",
       "  </tbody>\n",
       "</table>\n",
       "</div>"
      ],
      "text/plain": [
       "            ID                                         Resume_str   \n",
       "1698  20981299           ENGINEERING ASSISTANT       Summary  ...  \\\n",
       "2426  25718772           TSO/FLOATER       Career Overview    ...   \n",
       "923   14140903           GRADUATE RESEARCH ASSISTANT       Pro...   \n",
       "2250  35492909           TAX ACCOUNTANT         Professional S...   \n",
       "1938  14900898           CONSTRUCTION MANAGER           Summar...   \n",
       "\n",
       "                                            Resume_html      Category  \n",
       "1698  <div class=\"fontsize fontface vmargins hmargin...   ENGINEERING  \n",
       "2426  <div class=\"fontsize fontface vmargins hmargin...      AVIATION  \n",
       "923   <div class=\"fontsize fontface vmargins hmargin...   AGRICULTURE  \n",
       "2250  <div class=\"MPR skn-cbg1 fontsize fontface vma...       BANKING  \n",
       "1938  <div class=\"fontsize fontface vmargins hmargin...  CONSTRUCTION  "
      ]
     },
     "execution_count": 3,
     "metadata": {},
     "output_type": "execute_result"
    }
   ],
   "source": [
    "df = df.reindex(np.random.permutation(df.index))\n",
    "data = df.copy().iloc[0:1000,]\n",
    "data.head()"
   ]
  },
  {
   "cell_type": "code",
   "execution_count": 4,
   "metadata": {
    "id": "I0XtXArh518b"
   },
   "outputs": [
    {
     "name": "stdout",
     "output_type": "stream",
     "text": [
      "Collecting en-core-web-lg==3.5.0\n",
      "  Downloading https://github.com/explosion/spacy-models/releases/download/en_core_web_lg-3.5.0/en_core_web_lg-3.5.0-py3-none-any.whl (587.7 MB)\n",
      "     -------------------------------------- 587.7/587.7 MB 1.3 MB/s eta 0:00:00\n",
      "Requirement already satisfied: spacy<3.6.0,>=3.5.0 in c:\\users\\dell\\anaconda3\\lib\\site-packages (from en-core-web-lg==3.5.0) (3.5.2)\n",
      "Requirement already satisfied: typer<0.8.0,>=0.3.0 in c:\\users\\dell\\anaconda3\\lib\\site-packages (from spacy<3.6.0,>=3.5.0->en-core-web-lg==3.5.0) (0.7.0)\n",
      "Requirement already satisfied: smart-open<7.0.0,>=5.2.1 in c:\\users\\dell\\anaconda3\\lib\\site-packages (from spacy<3.6.0,>=3.5.0->en-core-web-lg==3.5.0) (5.2.1)\n",
      "Requirement already satisfied: setuptools in c:\\users\\dell\\anaconda3\\lib\\site-packages (from spacy<3.6.0,>=3.5.0->en-core-web-lg==3.5.0) (63.4.1)\n",
      "Requirement already satisfied: srsly<3.0.0,>=2.4.3 in c:\\users\\dell\\anaconda3\\lib\\site-packages (from spacy<3.6.0,>=3.5.0->en-core-web-lg==3.5.0) (2.4.6)\n",
      "Requirement already satisfied: langcodes<4.0.0,>=3.2.0 in c:\\users\\dell\\anaconda3\\lib\\site-packages (from spacy<3.6.0,>=3.5.0->en-core-web-lg==3.5.0) (3.3.0)\n",
      "Requirement already satisfied: jinja2 in c:\\users\\dell\\anaconda3\\lib\\site-packages (from spacy<3.6.0,>=3.5.0->en-core-web-lg==3.5.0) (2.11.3)\n",
      "Requirement already satisfied: spacy-legacy<3.1.0,>=3.0.11 in c:\\users\\dell\\anaconda3\\lib\\site-packages (from spacy<3.6.0,>=3.5.0->en-core-web-lg==3.5.0) (3.0.12)\n",
      "Requirement already satisfied: wasabi<1.2.0,>=0.9.1 in c:\\users\\dell\\anaconda3\\lib\\site-packages (from spacy<3.6.0,>=3.5.0->en-core-web-lg==3.5.0) (1.1.1)\n",
      "Requirement already satisfied: spacy-loggers<2.0.0,>=1.0.0 in c:\\users\\dell\\anaconda3\\lib\\site-packages (from spacy<3.6.0,>=3.5.0->en-core-web-lg==3.5.0) (1.0.4)\n",
      "Requirement already satisfied: cymem<2.1.0,>=2.0.2 in c:\\users\\dell\\anaconda3\\lib\\site-packages (from spacy<3.6.0,>=3.5.0->en-core-web-lg==3.5.0) (2.0.7)\n",
      "Requirement already satisfied: preshed<3.1.0,>=3.0.2 in c:\\users\\dell\\anaconda3\\lib\\site-packages (from spacy<3.6.0,>=3.5.0->en-core-web-lg==3.5.0) (3.0.8)\n",
      "Requirement already satisfied: requests<3.0.0,>=2.13.0 in c:\\users\\dell\\anaconda3\\lib\\site-packages (from spacy<3.6.0,>=3.5.0->en-core-web-lg==3.5.0) (2.28.1)\n",
      "Requirement already satisfied: murmurhash<1.1.0,>=0.28.0 in c:\\users\\dell\\anaconda3\\lib\\site-packages (from spacy<3.6.0,>=3.5.0->en-core-web-lg==3.5.0) (1.0.9)\n",
      "Requirement already satisfied: pydantic!=1.8,!=1.8.1,<1.11.0,>=1.7.4 in c:\\users\\dell\\anaconda3\\lib\\site-packages (from spacy<3.6.0,>=3.5.0->en-core-web-lg==3.5.0) (1.10.7)\n",
      "Requirement already satisfied: pathy>=0.10.0 in c:\\users\\dell\\anaconda3\\lib\\site-packages (from spacy<3.6.0,>=3.5.0->en-core-web-lg==3.5.0) (0.10.1)\n",
      "Requirement already satisfied: packaging>=20.0 in c:\\users\\dell\\anaconda3\\lib\\site-packages (from spacy<3.6.0,>=3.5.0->en-core-web-lg==3.5.0) (21.3)\n",
      "Requirement already satisfied: catalogue<2.1.0,>=2.0.6 in c:\\users\\dell\\anaconda3\\lib\\site-packages (from spacy<3.6.0,>=3.5.0->en-core-web-lg==3.5.0) (2.0.8)\n",
      "Requirement already satisfied: numpy>=1.15.0 in c:\\users\\dell\\anaconda3\\lib\\site-packages (from spacy<3.6.0,>=3.5.0->en-core-web-lg==3.5.0) (1.24.3)\n",
      "Requirement already satisfied: tqdm<5.0.0,>=4.38.0 in c:\\users\\dell\\anaconda3\\lib\\site-packages (from spacy<3.6.0,>=3.5.0->en-core-web-lg==3.5.0) (4.64.1)\n",
      "Requirement already satisfied: thinc<8.2.0,>=8.1.8 in c:\\users\\dell\\anaconda3\\lib\\site-packages (from spacy<3.6.0,>=3.5.0->en-core-web-lg==3.5.0) (8.1.9)\n",
      "Requirement already satisfied: pyparsing!=3.0.5,>=2.0.2 in c:\\users\\dell\\anaconda3\\lib\\site-packages (from packaging>=20.0->spacy<3.6.0,>=3.5.0->en-core-web-lg==3.5.0) (3.0.9)\n",
      "Requirement already satisfied: typing-extensions>=4.2.0 in c:\\users\\dell\\anaconda3\\lib\\site-packages (from pydantic!=1.8,!=1.8.1,<1.11.0,>=1.7.4->spacy<3.6.0,>=3.5.0->en-core-web-lg==3.5.0) (4.3.0)\n",
      "Requirement already satisfied: urllib3<1.27,>=1.21.1 in c:\\users\\dell\\anaconda3\\lib\\site-packages (from requests<3.0.0,>=2.13.0->spacy<3.6.0,>=3.5.0->en-core-web-lg==3.5.0) (1.26.11)\n",
      "Requirement already satisfied: idna<4,>=2.5 in c:\\users\\dell\\anaconda3\\lib\\site-packages (from requests<3.0.0,>=2.13.0->spacy<3.6.0,>=3.5.0->en-core-web-lg==3.5.0) (3.3)\n",
      "Requirement already satisfied: charset-normalizer<3,>=2 in c:\\users\\dell\\anaconda3\\lib\\site-packages (from requests<3.0.0,>=2.13.0->spacy<3.6.0,>=3.5.0->en-core-web-lg==3.5.0) (2.0.4)\n",
      "Requirement already satisfied: certifi>=2017.4.17 in c:\\users\\dell\\anaconda3\\lib\\site-packages (from requests<3.0.0,>=2.13.0->spacy<3.6.0,>=3.5.0->en-core-web-lg==3.5.0) (2022.9.14)\n",
      "Requirement already satisfied: confection<1.0.0,>=0.0.1 in c:\\users\\dell\\anaconda3\\lib\\site-packages (from thinc<8.2.0,>=8.1.8->spacy<3.6.0,>=3.5.0->en-core-web-lg==3.5.0) (0.0.4)\n",
      "Requirement already satisfied: blis<0.8.0,>=0.7.8 in c:\\users\\dell\\anaconda3\\lib\\site-packages (from thinc<8.2.0,>=8.1.8->spacy<3.6.0,>=3.5.0->en-core-web-lg==3.5.0) (0.7.9)\n",
      "Requirement already satisfied: colorama in c:\\users\\dell\\anaconda3\\lib\\site-packages (from tqdm<5.0.0,>=4.38.0->spacy<3.6.0,>=3.5.0->en-core-web-lg==3.5.0) (0.4.6)\n",
      "Requirement already satisfied: click<9.0.0,>=7.1.1 in c:\\users\\dell\\anaconda3\\lib\\site-packages (from typer<0.8.0,>=0.3.0->spacy<3.6.0,>=3.5.0->en-core-web-lg==3.5.0) (8.0.4)\n",
      "Requirement already satisfied: MarkupSafe>=0.23 in c:\\users\\dell\\anaconda3\\lib\\site-packages (from jinja2->spacy<3.6.0,>=3.5.0->en-core-web-lg==3.5.0) (2.0.1)\n",
      "\u001b[38;5;2m✔ Download and installation successful\u001b[0m\n",
      "You can now load the package via spacy.load('en_core_web_lg')\n"
     ]
    }
   ],
   "source": [
    "! python -m spacy download en_core_web_lg\n",
    "\n",
    "nlp = spacy.load(\"en_core_web_lg\")\n",
    "# nlp = spacy.load(\"en_core_web_sm\")\n"
   ]
  },
  {
   "cell_type": "code",
   "execution_count": 5,
   "metadata": {
    "id": "uHU85zLf8ICz"
   },
   "outputs": [],
   "source": [
    "\n",
    "skill_pattern_path = \"jz_skill_patterns.jsonl\""
   ]
  },
  {
   "cell_type": "markdown",
   "metadata": {},
   "source": [
    "### **Entity Ruler**\n",
    "To create an entity ruler we need to add a pipeline and then load the .jsonl file containing skills into ruler. As you can see we have successfully added a new pipeline entity_ruler. Entity ruler helps us add additional rules to highlight various categories within the text, such as skills and job description in our case."
   ]
  },
  {
   "cell_type": "code",
   "execution_count": 6,
   "metadata": {
    "colab": {
     "base_uri": "https://localhost:8080/",
     "height": 333
    },
    "id": "wJOYyfAl8Iga",
    "outputId": "f968af29-2fa3-41f0-f1ff-1757b240b4ec"
   },
   "outputs": [
    {
     "data": {
      "text/plain": [
       "['tok2vec',\n",
       " 'tagger',\n",
       " 'parser',\n",
       " 'attribute_ruler',\n",
       " 'lemmatizer',\n",
       " 'ner',\n",
       " 'entity_ruler']"
      ]
     },
     "execution_count": 6,
     "metadata": {},
     "output_type": "execute_result"
    }
   ],
   "source": [
    "ruler = nlp.add_pipe(\"entity_ruler\")\n",
    "ruler.from_disk(skill_pattern_path)\n",
    "nlp.pipe_names"
   ]
  },
  {
   "attachments": {},
   "cell_type": "markdown",
   "metadata": {},
   "source": [
    "### **Skills**\n"
   ]
  },
  {
   "cell_type": "code",
   "execution_count": 7,
   "metadata": {
    "id": "bOU9-DSH_A88"
   },
   "outputs": [],
   "source": [
    "def get_skills(text):\n",
    "    doc = nlp(text)\n",
    "    myset = []\n",
    "    subset = []\n",
    "    for ent in doc.ents:\n",
    "        if ent.label_ == \"SKILL\":\n",
    "            subset.append(ent.text)\n",
    "    myset.append(subset)\n",
    "    return subset\n",
    "\n",
    "\n",
    "def unique_skills(x):\n",
    "    return list(set(x))"
   ]
  },
  {
   "attachments": {},
   "cell_type": "markdown",
   "metadata": {},
   "source": [
    "### Cleaning Resume \n"
   ]
  },
  {
   "cell_type": "code",
   "execution_count": 8,
   "metadata": {},
   "outputs": [],
   "source": [
    "clean = []\n",
    "for i in range(data.shape[0]):\n",
    "    review = re.sub(\n",
    "        '(@[A-Za-z0-9]+)|([^0-9A-Za-z \\t])|(\\w+:\\/\\/\\S+)|^rt|http.+?\"',\n",
    "        \" \",\n",
    "        data[\"Resume_str\"].iloc[i],\n",
    "    )\n",
    "    review = review.lower()\n",
    "    review = review.split()\n",
    "    lm = WordNetLemmatizer()\n",
    "    review = [\n",
    "        lm.lemmatize(word)\n",
    "        for word in review\n",
    "        if not word in set(stopwords.words(\"english\"))\n",
    "    ]\n",
    "    review = \" \".join(review)\n",
    "    clean.append(review)"
   ]
  },
  {
   "attachments": {},
   "cell_type": "markdown",
   "metadata": {},
   "source": [
    "### **Applying functions**\n"
   ]
  },
  {
   "cell_type": "code",
   "execution_count": null,
   "metadata": {},
   "outputs": [
    {
     "data": {
      "text/html": [
       "<div>\n",
       "<style scoped>\n",
       "    .dataframe tbody tr th:only-of-type {\n",
       "        vertical-align: middle;\n",
       "    }\n",
       "\n",
       "    .dataframe tbody tr th {\n",
       "        vertical-align: top;\n",
       "    }\n",
       "\n",
       "    .dataframe thead th {\n",
       "        text-align: right;\n",
       "    }\n",
       "</style>\n",
       "<table border=\"1\" class=\"dataframe\">\n",
       "  <thead>\n",
       "    <tr style=\"text-align: right;\">\n",
       "      <th></th>\n",
       "      <th>ID</th>\n",
       "      <th>Resume_str</th>\n",
       "      <th>Resume_html</th>\n",
       "      <th>Category</th>\n",
       "      <th>Clean_Resume</th>\n",
       "      <th>skills</th>\n",
       "    </tr>\n",
       "  </thead>\n",
       "  <tbody>\n",
       "    <tr>\n",
       "      <th>899</th>\n",
       "      <td>63282405</td>\n",
       "      <td>CUSTOMER SERVICE REPRESENTACTIVE     ...</td>\n",
       "      <td>&lt;div class=\"fontsize fontface vmargins hmargin...</td>\n",
       "      <td>FITNESS</td>\n",
       "      <td>customer service representactive summary energ...</td>\n",
       "      <td>[queue, database, support, certificate]</td>\n",
       "    </tr>\n",
       "    <tr>\n",
       "      <th>757</th>\n",
       "      <td>15499825</td>\n",
       "      <td>HEALTH INFORMATION SPECIALIST       S...</td>\n",
       "      <td>&lt;div class=\"fontsize fontface vmargins hmargin...</td>\n",
       "      <td>HEALTHCARE</td>\n",
       "      <td>health information specialist summary highly e...</td>\n",
       "      <td>[release, support, documentation, database, se...</td>\n",
       "    </tr>\n",
       "    <tr>\n",
       "      <th>33</th>\n",
       "      <td>57667857</td>\n",
       "      <td>HR CONSULTANT       Summary     Detai...</td>\n",
       "      <td>&lt;div class=\"fontsize fontface vmargins hmargin...</td>\n",
       "      <td>HR</td>\n",
       "      <td>hr consultant summary detail oriented 25 year ...</td>\n",
       "      <td>[schedule, design, medium, documentation, stem...</td>\n",
       "    </tr>\n",
       "    <tr>\n",
       "      <th>528</th>\n",
       "      <td>11174187</td>\n",
       "      <td>RN / ASST. HEAD NURSE PRACTICE LEADER...</td>\n",
       "      <td>&lt;div class=\"fontsize fontface vmargins hmargin...</td>\n",
       "      <td>ADVOCATE</td>\n",
       "      <td>rn asst head nurse practice leader skill care ...</td>\n",
       "      <td>[monitoring, certificate, documentation, mater...</td>\n",
       "    </tr>\n",
       "    <tr>\n",
       "      <th>2052</th>\n",
       "      <td>37087371</td>\n",
       "      <td>PUBLIC RELATIONS MANAGER       Summar...</td>\n",
       "      <td>&lt;div class=\"fontsize fontface vmargins hmargin...</td>\n",
       "      <td>PUBLIC-RELATIONS</td>\n",
       "      <td>public relation manager summary interpersonal ...</td>\n",
       "      <td>[release, segment, support, medium, business, ...</td>\n",
       "    </tr>\n",
       "  </tbody>\n",
       "</table>\n",
       "</div>"
      ],
      "text/plain": [
       "            ID                                         Resume_str   \n",
       "899   63282405           CUSTOMER SERVICE REPRESENTACTIVE     ...  \\\n",
       "757   15499825           HEALTH INFORMATION SPECIALIST       S...   \n",
       "33    57667857           HR CONSULTANT       Summary     Detai...   \n",
       "528   11174187           RN / ASST. HEAD NURSE PRACTICE LEADER...   \n",
       "2052  37087371           PUBLIC RELATIONS MANAGER       Summar...   \n",
       "\n",
       "                                            Resume_html          Category   \n",
       "899   <div class=\"fontsize fontface vmargins hmargin...           FITNESS  \\\n",
       "757   <div class=\"fontsize fontface vmargins hmargin...        HEALTHCARE   \n",
       "33    <div class=\"fontsize fontface vmargins hmargin...                HR   \n",
       "528   <div class=\"fontsize fontface vmargins hmargin...          ADVOCATE   \n",
       "2052  <div class=\"fontsize fontface vmargins hmargin...  PUBLIC-RELATIONS   \n",
       "\n",
       "                                           Clean_Resume   \n",
       "899   customer service representactive summary energ...  \\\n",
       "757   health information specialist summary highly e...   \n",
       "33    hr consultant summary detail oriented 25 year ...   \n",
       "528   rn asst head nurse practice leader skill care ...   \n",
       "2052  public relation manager summary interpersonal ...   \n",
       "\n",
       "                                                 skills  \n",
       "899             [queue, database, support, certificate]  \n",
       "757   [release, support, documentation, database, se...  \n",
       "33    [schedule, design, medium, documentation, stem...  \n",
       "528   [monitoring, certificate, documentation, mater...  \n",
       "2052  [release, segment, support, medium, business, ...  "
      ]
     },
     "execution_count": 9,
     "metadata": {},
     "output_type": "execute_result"
    }
   ],
   "source": [
    "data[\"Clean_Resume\"] = clean\n",
    "data[\"skills\"] = data[\"Clean_Resume\"].str.lower().apply(get_skills)\n",
    "data[\"skills\"] = data[\"skills\"].apply(unique_skills)\n",
    "data.head()"
   ]
  },
  {
   "attachments": {},
   "cell_type": "markdown",
   "metadata": {},
   "source": [
    "## **Data Analysis And Visualization**"
   ]
  },
  {
   "cell_type": "code",
   "execution_count": null,
   "metadata": {},
   "outputs": [
    {
     "data": {
      "application/vnd.plotly.v1+json": {
       "config": {
        "plotlyServerURL": "https://plot.ly"
       },
       "data": [
        {
         "alignmentgroup": "True",
         "bingroup": "x",
         "hovertemplate": "Category=%{x}<br>count=%{y}<extra></extra>",
         "legendgroup": "",
         "marker": {
          "color": "#636efa",
          "pattern": {
           "shape": ""
          }
         },
         "name": "",
         "offsetgroup": "",
         "orientation": "v",
         "showlegend": false,
         "type": "histogram",
         "x": [
          "FITNESS",
          "HEALTHCARE",
          "HR",
          "ADVOCATE",
          "PUBLIC-RELATIONS",
          "CHEF",
          "DIGITAL-MEDIA",
          "HR",
          "INFORMATION-TECHNOLOGY",
          "ENGINEERING",
          "CONSTRUCTION",
          "ACCOUNTANT",
          "ADVOCATE",
          "CONSULTANT",
          "APPAREL",
          "ENGINEERING",
          "CHEF",
          "HEALTHCARE",
          "PUBLIC-RELATIONS",
          "CONSULTANT",
          "PUBLIC-RELATIONS",
          "BUSINESS-DEVELOPMENT",
          "FINANCE",
          "FINANCE",
          "ARTS",
          "DIGITAL-MEDIA",
          "BANKING",
          "SALES",
          "CONSTRUCTION",
          "BANKING",
          "CHEF",
          "ACCOUNTANT",
          "AVIATION",
          "BANKING",
          "ADVOCATE",
          "TEACHER",
          "TEACHER",
          "AUTOMOBILE",
          "SALES",
          "CONSULTANT",
          "TEACHER",
          "HEALTHCARE",
          "APPAREL",
          "DESIGNER",
          "TEACHER",
          "HR",
          "SALES",
          "PUBLIC-RELATIONS",
          "TEACHER",
          "PUBLIC-RELATIONS",
          "ARTS",
          "APPAREL",
          "APPAREL",
          "AVIATION",
          "INFORMATION-TECHNOLOGY",
          "ADVOCATE",
          "INFORMATION-TECHNOLOGY",
          "ACCOUNTANT",
          "HR",
          "FINANCE",
          "DESIGNER",
          "BUSINESS-DEVELOPMENT",
          "ARTS",
          "CONSTRUCTION",
          "HEALTHCARE",
          "APPAREL",
          "BANKING",
          "BUSINESS-DEVELOPMENT",
          "AVIATION",
          "APPAREL",
          "AUTOMOBILE",
          "ARTS",
          "CONSULTANT",
          "DESIGNER",
          "FITNESS",
          "ADVOCATE",
          "INFORMATION-TECHNOLOGY",
          "FITNESS",
          "APPAREL",
          "ENGINEERING",
          "FITNESS",
          "HEALTHCARE",
          "ENGINEERING",
          "CONSULTANT",
          "BUSINESS-DEVELOPMENT",
          "AVIATION",
          "BANKING",
          "FITNESS",
          "FINANCE",
          "AVIATION",
          "SALES",
          "INFORMATION-TECHNOLOGY",
          "ENGINEERING",
          "BANKING",
          "HR",
          "CHEF",
          "PUBLIC-RELATIONS",
          "APPAREL",
          "TEACHER",
          "APPAREL",
          "BANKING",
          "DESIGNER",
          "APPAREL",
          "FITNESS",
          "AGRICULTURE",
          "FINANCE",
          "CONSTRUCTION",
          "ARTS",
          "ACCOUNTANT",
          "ADVOCATE",
          "AGRICULTURE",
          "AGRICULTURE",
          "ENGINEERING",
          "FITNESS",
          "CONSULTANT",
          "FINANCE",
          "TEACHER",
          "TEACHER",
          "HR",
          "DESIGNER",
          "ACCOUNTANT",
          "AVIATION",
          "HEALTHCARE",
          "HR",
          "ENGINEERING",
          "DIGITAL-MEDIA",
          "FITNESS",
          "INFORMATION-TECHNOLOGY",
          "ACCOUNTANT",
          "BANKING",
          "HR",
          "FINANCE",
          "DESIGNER",
          "AGRICULTURE",
          "INFORMATION-TECHNOLOGY",
          "FINANCE",
          "FINANCE",
          "APPAREL",
          "CONSULTANT",
          "FINANCE",
          "FINANCE",
          "DESIGNER",
          "SALES",
          "BANKING",
          "FITNESS",
          "SALES",
          "HR",
          "ARTS",
          "DESIGNER",
          "SALES",
          "FINANCE",
          "FITNESS",
          "HEALTHCARE",
          "ENGINEERING",
          "PUBLIC-RELATIONS",
          "BUSINESS-DEVELOPMENT",
          "ACCOUNTANT",
          "AVIATION",
          "ENGINEERING",
          "ARTS",
          "INFORMATION-TECHNOLOGY",
          "PUBLIC-RELATIONS",
          "DESIGNER",
          "AVIATION",
          "BANKING",
          "FINANCE",
          "CONSTRUCTION",
          "CONSULTANT",
          "ADVOCATE",
          "AGRICULTURE",
          "HR",
          "HR",
          "ENGINEERING",
          "DESIGNER",
          "INFORMATION-TECHNOLOGY",
          "BUSINESS-DEVELOPMENT",
          "ACCOUNTANT",
          "ADVOCATE",
          "DIGITAL-MEDIA",
          "ADVOCATE",
          "DESIGNER",
          "DESIGNER",
          "TEACHER",
          "SALES",
          "DIGITAL-MEDIA",
          "BUSINESS-DEVELOPMENT",
          "APPAREL",
          "FITNESS",
          "CONSULTANT",
          "ADVOCATE",
          "ACCOUNTANT",
          "ENGINEERING",
          "CONSULTANT",
          "ENGINEERING",
          "ADVOCATE",
          "HR",
          "ARTS",
          "CONSULTANT",
          "PUBLIC-RELATIONS",
          "ACCOUNTANT",
          "CHEF",
          "BANKING",
          "TEACHER",
          "ADVOCATE",
          "CHEF",
          "DIGITAL-MEDIA",
          "BANKING",
          "ACCOUNTANT",
          "ENGINEERING",
          "FINANCE",
          "CONSULTANT",
          "AUTOMOBILE",
          "PUBLIC-RELATIONS",
          "CHEF",
          "APPAREL",
          "CHEF",
          "CHEF",
          "CHEF",
          "AGRICULTURE",
          "TEACHER",
          "PUBLIC-RELATIONS",
          "TEACHER",
          "ENGINEERING",
          "FINANCE",
          "AVIATION",
          "TEACHER",
          "HEALTHCARE",
          "CHEF",
          "FINANCE",
          "PUBLIC-RELATIONS",
          "CONSTRUCTION",
          "BUSINESS-DEVELOPMENT",
          "BUSINESS-DEVELOPMENT",
          "DESIGNER",
          "BANKING",
          "CONSTRUCTION",
          "CHEF",
          "BUSINESS-DEVELOPMENT",
          "ADVOCATE",
          "AVIATION",
          "ADVOCATE",
          "AGRICULTURE",
          "BPO",
          "ENGINEERING",
          "AVIATION",
          "INFORMATION-TECHNOLOGY",
          "ADVOCATE",
          "PUBLIC-RELATIONS",
          "HR",
          "BANKING",
          "BPO",
          "SALES",
          "ENGINEERING",
          "ARTS",
          "PUBLIC-RELATIONS",
          "ARTS",
          "INFORMATION-TECHNOLOGY",
          "CHEF",
          "ARTS",
          "DESIGNER",
          "BANKING",
          "INFORMATION-TECHNOLOGY",
          "ARTS",
          "CONSTRUCTION",
          "FINANCE",
          "CONSTRUCTION",
          "SALES",
          "BANKING",
          "PUBLIC-RELATIONS",
          "INFORMATION-TECHNOLOGY",
          "HEALTHCARE",
          "AGRICULTURE",
          "CHEF",
          "APPAREL",
          "DIGITAL-MEDIA",
          "ACCOUNTANT",
          "AGRICULTURE",
          "BUSINESS-DEVELOPMENT",
          "ADVOCATE",
          "TEACHER",
          "ADVOCATE",
          "APPAREL",
          "DESIGNER",
          "ENGINEERING",
          "AGRICULTURE",
          "BUSINESS-DEVELOPMENT",
          "SALES",
          "HR",
          "HR",
          "INFORMATION-TECHNOLOGY",
          "BANKING",
          "HEALTHCARE",
          "ADVOCATE",
          "AUTOMOBILE",
          "DESIGNER",
          "ENGINEERING",
          "FINANCE",
          "HEALTHCARE",
          "BANKING",
          "BANKING",
          "PUBLIC-RELATIONS",
          "BUSINESS-DEVELOPMENT",
          "BANKING",
          "APPAREL",
          "CHEF",
          "AUTOMOBILE",
          "HEALTHCARE",
          "ADVOCATE",
          "TEACHER",
          "SALES",
          "CONSTRUCTION",
          "ARTS",
          "ARTS",
          "INFORMATION-TECHNOLOGY",
          "DESIGNER",
          "HR",
          "HEALTHCARE",
          "AVIATION",
          "BUSINESS-DEVELOPMENT",
          "BANKING",
          "INFORMATION-TECHNOLOGY",
          "TEACHER",
          "DIGITAL-MEDIA",
          "FITNESS",
          "BANKING",
          "CONSULTANT",
          "APPAREL",
          "ARTS",
          "AVIATION",
          "FITNESS",
          "HR",
          "ADVOCATE",
          "ACCOUNTANT",
          "FITNESS",
          "APPAREL",
          "ENGINEERING",
          "AGRICULTURE",
          "INFORMATION-TECHNOLOGY",
          "ENGINEERING",
          "DIGITAL-MEDIA",
          "ENGINEERING",
          "ARTS",
          "APPAREL",
          "BANKING",
          "BUSINESS-DEVELOPMENT",
          "ENGINEERING",
          "CONSULTANT",
          "SALES",
          "PUBLIC-RELATIONS",
          "BUSINESS-DEVELOPMENT",
          "ENGINEERING",
          "DESIGNER",
          "AVIATION",
          "ENGINEERING",
          "ACCOUNTANT",
          "CONSTRUCTION",
          "FINANCE",
          "INFORMATION-TECHNOLOGY",
          "ARTS",
          "INFORMATION-TECHNOLOGY",
          "AGRICULTURE",
          "CHEF",
          "CONSTRUCTION",
          "HR",
          "AVIATION",
          "APPAREL",
          "BUSINESS-DEVELOPMENT",
          "INFORMATION-TECHNOLOGY",
          "HEALTHCARE",
          "ARTS",
          "FINANCE",
          "INFORMATION-TECHNOLOGY",
          "BPO",
          "BANKING",
          "FITNESS",
          "ENGINEERING",
          "BUSINESS-DEVELOPMENT",
          "SALES",
          "BANKING",
          "BPO",
          "HEALTHCARE",
          "INFORMATION-TECHNOLOGY",
          "INFORMATION-TECHNOLOGY",
          "CHEF",
          "BANKING",
          "HEALTHCARE",
          "TEACHER",
          "CHEF",
          "FITNESS",
          "HR",
          "HEALTHCARE",
          "SALES",
          "CONSTRUCTION",
          "CONSTRUCTION",
          "ACCOUNTANT",
          "CONSTRUCTION",
          "SALES",
          "AVIATION",
          "ACCOUNTANT",
          "FITNESS",
          "TEACHER",
          "ACCOUNTANT",
          "TEACHER",
          "HR",
          "HR",
          "BUSINESS-DEVELOPMENT",
          "PUBLIC-RELATIONS",
          "ADVOCATE",
          "PUBLIC-RELATIONS",
          "ACCOUNTANT",
          "FINANCE",
          "TEACHER",
          "CHEF",
          "CONSTRUCTION",
          "PUBLIC-RELATIONS",
          "BUSINESS-DEVELOPMENT",
          "APPAREL",
          "CHEF",
          "PUBLIC-RELATIONS",
          "CHEF",
          "FITNESS",
          "CONSULTANT",
          "ARTS",
          "AGRICULTURE",
          "FINANCE",
          "CHEF",
          "SALES",
          "HR",
          "ARTS",
          "ADVOCATE",
          "ACCOUNTANT",
          "CONSULTANT",
          "AVIATION",
          "CONSTRUCTION",
          "AVIATION",
          "BUSINESS-DEVELOPMENT",
          "PUBLIC-RELATIONS",
          "CONSTRUCTION",
          "CHEF",
          "DESIGNER",
          "CONSULTANT",
          "DIGITAL-MEDIA",
          "INFORMATION-TECHNOLOGY",
          "ARTS",
          "INFORMATION-TECHNOLOGY",
          "HEALTHCARE",
          "FINANCE",
          "CONSULTANT",
          "DIGITAL-MEDIA",
          "FITNESS",
          "CHEF",
          "FITNESS",
          "ACCOUNTANT",
          "FITNESS",
          "HEALTHCARE",
          "ARTS",
          "ENGINEERING",
          "ENGINEERING",
          "CHEF",
          "CONSULTANT",
          "ENGINEERING",
          "INFORMATION-TECHNOLOGY",
          "CONSULTANT",
          "INFORMATION-TECHNOLOGY",
          "BUSINESS-DEVELOPMENT",
          "BANKING",
          "BUSINESS-DEVELOPMENT",
          "HR",
          "ENGINEERING",
          "APPAREL",
          "BUSINESS-DEVELOPMENT",
          "HR",
          "ARTS",
          "CHEF",
          "ARTS",
          "ACCOUNTANT",
          "APPAREL",
          "AUTOMOBILE",
          "DIGITAL-MEDIA",
          "INFORMATION-TECHNOLOGY",
          "BANKING",
          "ARTS",
          "ADVOCATE",
          "HR",
          "CONSULTANT",
          "DIGITAL-MEDIA",
          "HEALTHCARE",
          "HEALTHCARE",
          "ACCOUNTANT",
          "DIGITAL-MEDIA",
          "DESIGNER",
          "ENGINEERING",
          "SALES",
          "HR",
          "FITNESS",
          "PUBLIC-RELATIONS",
          "APPAREL",
          "TEACHER",
          "CONSULTANT",
          "HR",
          "INFORMATION-TECHNOLOGY",
          "BUSINESS-DEVELOPMENT",
          "PUBLIC-RELATIONS",
          "AVIATION",
          "FITNESS",
          "CHEF",
          "APPAREL",
          "HEALTHCARE",
          "SALES",
          "TEACHER",
          "ENGINEERING",
          "PUBLIC-RELATIONS",
          "HR",
          "HR",
          "AUTOMOBILE",
          "FINANCE",
          "BUSINESS-DEVELOPMENT",
          "FINANCE",
          "ARTS",
          "SALES",
          "DIGITAL-MEDIA",
          "CHEF",
          "TEACHER",
          "SALES",
          "ACCOUNTANT",
          "BUSINESS-DEVELOPMENT",
          "ARTS",
          "DESIGNER",
          "ARTS",
          "ENGINEERING",
          "BANKING",
          "HR",
          "BANKING",
          "ARTS",
          "BANKING",
          "FITNESS",
          "BPO",
          "SALES",
          "AGRICULTURE",
          "INFORMATION-TECHNOLOGY",
          "ADVOCATE",
          "CONSTRUCTION",
          "ACCOUNTANT",
          "CHEF",
          "APPAREL",
          "HEALTHCARE",
          "FINANCE",
          "AGRICULTURE",
          "BANKING",
          "SALES",
          "DESIGNER",
          "ACCOUNTANT",
          "ADVOCATE",
          "TEACHER",
          "BUSINESS-DEVELOPMENT",
          "CONSTRUCTION",
          "ACCOUNTANT",
          "DESIGNER",
          "DESIGNER",
          "INFORMATION-TECHNOLOGY",
          "ARTS",
          "INFORMATION-TECHNOLOGY",
          "ENGINEERING",
          "CONSULTANT",
          "FITNESS",
          "DESIGNER",
          "DIGITAL-MEDIA",
          "SALES",
          "AGRICULTURE",
          "ADVOCATE",
          "CONSTRUCTION",
          "PUBLIC-RELATIONS",
          "INFORMATION-TECHNOLOGY",
          "CHEF",
          "HEALTHCARE",
          "BUSINESS-DEVELOPMENT",
          "AUTOMOBILE",
          "ACCOUNTANT",
          "HR",
          "TEACHER",
          "CHEF",
          "ARTS",
          "PUBLIC-RELATIONS",
          "DIGITAL-MEDIA",
          "PUBLIC-RELATIONS",
          "AGRICULTURE",
          "BANKING",
          "HEALTHCARE",
          "DIGITAL-MEDIA",
          "CONSTRUCTION",
          "HEALTHCARE",
          "ARTS",
          "AGRICULTURE",
          "AVIATION",
          "ENGINEERING",
          "AVIATION",
          "ARTS",
          "HEALTHCARE",
          "FINANCE",
          "HEALTHCARE",
          "ADVOCATE",
          "FITNESS",
          "BANKING",
          "DIGITAL-MEDIA",
          "HR",
          "DESIGNER",
          "PUBLIC-RELATIONS",
          "ADVOCATE",
          "APPAREL",
          "AVIATION",
          "AUTOMOBILE",
          "TEACHER",
          "FINANCE",
          "DESIGNER",
          "CONSULTANT",
          "HR",
          "HR",
          "CONSULTANT",
          "INFORMATION-TECHNOLOGY",
          "CONSULTANT",
          "BANKING",
          "TEACHER",
          "CONSULTANT",
          "INFORMATION-TECHNOLOGY",
          "ACCOUNTANT",
          "DIGITAL-MEDIA",
          "CONSTRUCTION",
          "INFORMATION-TECHNOLOGY",
          "ENGINEERING",
          "TEACHER",
          "ENGINEERING",
          "DESIGNER",
          "AVIATION",
          "BUSINESS-DEVELOPMENT",
          "AVIATION",
          "ACCOUNTANT",
          "ACCOUNTANT",
          "FINANCE",
          "APPAREL",
          "AVIATION",
          "DESIGNER",
          "DIGITAL-MEDIA",
          "BPO",
          "ENGINEERING",
          "CONSULTANT",
          "BANKING",
          "SALES",
          "HR",
          "DESIGNER",
          "AVIATION",
          "DIGITAL-MEDIA",
          "FITNESS",
          "DIGITAL-MEDIA",
          "FINANCE",
          "ADVOCATE",
          "CONSTRUCTION",
          "BUSINESS-DEVELOPMENT",
          "ENGINEERING",
          "APPAREL",
          "CHEF",
          "SALES",
          "ENGINEERING",
          "BANKING",
          "CHEF",
          "PUBLIC-RELATIONS",
          "AVIATION",
          "CONSULTANT",
          "CHEF",
          "ENGINEERING",
          "AVIATION",
          "ACCOUNTANT",
          "INFORMATION-TECHNOLOGY",
          "DIGITAL-MEDIA",
          "ACCOUNTANT",
          "INFORMATION-TECHNOLOGY",
          "HEALTHCARE",
          "BANKING",
          "ADVOCATE",
          "BUSINESS-DEVELOPMENT",
          "INFORMATION-TECHNOLOGY",
          "HEALTHCARE",
          "SALES",
          "DESIGNER",
          "ADVOCATE",
          "BANKING",
          "APPAREL",
          "ENGINEERING",
          "ACCOUNTANT",
          "HR",
          "BANKING",
          "CONSTRUCTION",
          "HEALTHCARE",
          "PUBLIC-RELATIONS",
          "CONSTRUCTION",
          "FINANCE",
          "HR",
          "AGRICULTURE",
          "ENGINEERING",
          "AUTOMOBILE",
          "ARTS",
          "TEACHER",
          "CHEF",
          "ARTS",
          "PUBLIC-RELATIONS",
          "FITNESS",
          "ENGINEERING",
          "FITNESS",
          "HEALTHCARE",
          "AVIATION",
          "HEALTHCARE",
          "ENGINEERING",
          "ARTS",
          "APPAREL",
          "ADVOCATE",
          "CONSULTANT",
          "FINANCE",
          "ACCOUNTANT",
          "AVIATION",
          "ADVOCATE",
          "ENGINEERING",
          "AGRICULTURE",
          "INFORMATION-TECHNOLOGY",
          "FITNESS",
          "TEACHER",
          "CONSTRUCTION",
          "ENGINEERING",
          "AGRICULTURE",
          "FITNESS",
          "HR",
          "APPAREL",
          "SALES",
          "BUSINESS-DEVELOPMENT",
          "ACCOUNTANT",
          "AUTOMOBILE",
          "ARTS",
          "DIGITAL-MEDIA",
          "CHEF",
          "AVIATION",
          "PUBLIC-RELATIONS",
          "CONSTRUCTION",
          "APPAREL",
          "CHEF",
          "FITNESS",
          "BANKING",
          "BUSINESS-DEVELOPMENT",
          "PUBLIC-RELATIONS",
          "BANKING",
          "ACCOUNTANT",
          "CONSULTANT",
          "CONSULTANT",
          "PUBLIC-RELATIONS",
          "HR",
          "FITNESS",
          "CONSULTANT",
          "CONSTRUCTION",
          "ACCOUNTANT",
          "SALES",
          "BUSINESS-DEVELOPMENT",
          "CHEF",
          "DIGITAL-MEDIA",
          "APPAREL",
          "HEALTHCARE",
          "FINANCE",
          "DIGITAL-MEDIA",
          "FINANCE",
          "BANKING",
          "ENGINEERING",
          "APPAREL",
          "INFORMATION-TECHNOLOGY",
          "AVIATION",
          "ARTS",
          "ARTS",
          "APPAREL",
          "DESIGNER",
          "DESIGNER",
          "TEACHER",
          "INFORMATION-TECHNOLOGY",
          "DESIGNER",
          "BUSINESS-DEVELOPMENT",
          "AGRICULTURE",
          "BUSINESS-DEVELOPMENT",
          "APPAREL",
          "DIGITAL-MEDIA",
          "INFORMATION-TECHNOLOGY",
          "FINANCE",
          "ACCOUNTANT",
          "CONSTRUCTION",
          "SALES",
          "ACCOUNTANT",
          "CHEF",
          "HR",
          "FITNESS",
          "CONSTRUCTION",
          "HEALTHCARE",
          "HR",
          "CHEF",
          "SALES",
          "TEACHER",
          "INFORMATION-TECHNOLOGY",
          "DESIGNER",
          "BUSINESS-DEVELOPMENT",
          "TEACHER",
          "CONSTRUCTION",
          "HEALTHCARE",
          "PUBLIC-RELATIONS",
          "DIGITAL-MEDIA",
          "HR",
          "APPAREL",
          "TEACHER",
          "TEACHER",
          "CONSULTANT",
          "FINANCE",
          "HR",
          "FINANCE",
          "ADVOCATE",
          "CHEF",
          "HEALTHCARE",
          "ADVOCATE",
          "HR",
          "AUTOMOBILE",
          "CHEF",
          "HEALTHCARE",
          "AVIATION",
          "AVIATION",
          "FITNESS",
          "AGRICULTURE",
          "CONSTRUCTION",
          "AGRICULTURE",
          "APPAREL",
          "ARTS",
          "FINANCE",
          "ACCOUNTANT",
          "ARTS",
          "APPAREL",
          "ACCOUNTANT",
          "AGRICULTURE",
          "ACCOUNTANT",
          "FITNESS",
          "TEACHER",
          "BANKING",
          "CHEF",
          "CONSTRUCTION",
          "CONSTRUCTION",
          "ADVOCATE",
          "CONSTRUCTION",
          "FITNESS",
          "HEALTHCARE",
          "ACCOUNTANT",
          "ADVOCATE",
          "HEALTHCARE",
          "CONSTRUCTION",
          "DIGITAL-MEDIA",
          "AUTOMOBILE",
          "PUBLIC-RELATIONS",
          "FITNESS",
          "INFORMATION-TECHNOLOGY",
          "ADVOCATE",
          "INFORMATION-TECHNOLOGY",
          "DIGITAL-MEDIA",
          "ENGINEERING",
          "CONSTRUCTION",
          "BANKING",
          "BANKING",
          "TEACHER",
          "DIGITAL-MEDIA",
          "INFORMATION-TECHNOLOGY",
          "APPAREL",
          "ADVOCATE",
          "SALES",
          "INFORMATION-TECHNOLOGY",
          "CONSULTANT",
          "AVIATION",
          "HEALTHCARE",
          "TEACHER",
          "CONSTRUCTION",
          "AVIATION",
          "AVIATION",
          "APPAREL",
          "CHEF",
          "INFORMATION-TECHNOLOGY",
          "FITNESS",
          "INFORMATION-TECHNOLOGY",
          "TEACHER",
          "BUSINESS-DEVELOPMENT",
          "FINANCE",
          "INFORMATION-TECHNOLOGY",
          "ADVOCATE",
          "CONSULTANT",
          "APPAREL",
          "HR",
          "AVIATION",
          "HEALTHCARE",
          "BUSINESS-DEVELOPMENT",
          "FINANCE",
          "SALES",
          "CHEF",
          "FINANCE",
          "INFORMATION-TECHNOLOGY",
          "INFORMATION-TECHNOLOGY",
          "ACCOUNTANT",
          "BUSINESS-DEVELOPMENT",
          "ARTS",
          "TEACHER",
          "DIGITAL-MEDIA",
          "DIGITAL-MEDIA",
          "CHEF",
          "FINANCE",
          "AVIATION",
          "CHEF",
          "CONSULTANT",
          "TEACHER",
          "INFORMATION-TECHNOLOGY",
          "ARTS",
          "BANKING",
          "FITNESS",
          "AVIATION",
          "SALES",
          "ENGINEERING",
          "BANKING",
          "FINANCE",
          "HEALTHCARE",
          "AVIATION",
          "ADVOCATE",
          "ADVOCATE",
          "HR",
          "HR",
          "APPAREL",
          "FINANCE",
          "AGRICULTURE",
          "TEACHER",
          "AVIATION",
          "ACCOUNTANT",
          "AGRICULTURE",
          "SALES",
          "ENGINEERING",
          "AVIATION",
          "ENGINEERING",
          "FITNESS",
          "ENGINEERING",
          "ACCOUNTANT",
          "FITNESS",
          "SALES",
          "HEALTHCARE",
          "FINANCE",
          "ADVOCATE",
          "HEALTHCARE",
          "APPAREL",
          "ENGINEERING",
          "ARTS",
          "BANKING",
          "DIGITAL-MEDIA",
          "BUSINESS-DEVELOPMENT",
          "TEACHER",
          "AUTOMOBILE",
          "AGRICULTURE",
          "SALES",
          "DIGITAL-MEDIA",
          "CONSULTANT",
          "SALES",
          "CHEF",
          "FITNESS",
          "HEALTHCARE",
          "CHEF",
          "BUSINESS-DEVELOPMENT",
          "BUSINESS-DEVELOPMENT",
          "HR",
          "HR",
          "PUBLIC-RELATIONS",
          "AGRICULTURE",
          "HEALTHCARE",
          "AVIATION",
          "AVIATION",
          "SALES",
          "INFORMATION-TECHNOLOGY",
          "CONSTRUCTION",
          "APPAREL",
          "BUSINESS-DEVELOPMENT",
          "DESIGNER",
          "SALES",
          "ACCOUNTANT",
          "ACCOUNTANT",
          "ACCOUNTANT",
          "HEALTHCARE",
          "HR",
          "DESIGNER",
          "INFORMATION-TECHNOLOGY",
          "BUSINESS-DEVELOPMENT",
          "BANKING",
          "DIGITAL-MEDIA",
          "CONSTRUCTION",
          "APPAREL",
          "APPAREL",
          "HEALTHCARE",
          "PUBLIC-RELATIONS",
          "TEACHER",
          "HEALTHCARE",
          "APPAREL",
          "HR",
          "SALES",
          "CONSTRUCTION"
         ],
         "xaxis": "x",
         "yaxis": "y"
        }
       ],
       "layout": {
        "barmode": "relative",
        "legend": {
         "tracegroupgap": 0
        },
        "template": {
         "data": {
          "bar": [
           {
            "error_x": {
             "color": "#2a3f5f"
            },
            "error_y": {
             "color": "#2a3f5f"
            },
            "marker": {
             "line": {
              "color": "#E5ECF6",
              "width": 0.5
             },
             "pattern": {
              "fillmode": "overlay",
              "size": 10,
              "solidity": 0.2
             }
            },
            "type": "bar"
           }
          ],
          "barpolar": [
           {
            "marker": {
             "line": {
              "color": "#E5ECF6",
              "width": 0.5
             },
             "pattern": {
              "fillmode": "overlay",
              "size": 10,
              "solidity": 0.2
             }
            },
            "type": "barpolar"
           }
          ],
          "carpet": [
           {
            "aaxis": {
             "endlinecolor": "#2a3f5f",
             "gridcolor": "white",
             "linecolor": "white",
             "minorgridcolor": "white",
             "startlinecolor": "#2a3f5f"
            },
            "baxis": {
             "endlinecolor": "#2a3f5f",
             "gridcolor": "white",
             "linecolor": "white",
             "minorgridcolor": "white",
             "startlinecolor": "#2a3f5f"
            },
            "type": "carpet"
           }
          ],
          "choropleth": [
           {
            "colorbar": {
             "outlinewidth": 0,
             "ticks": ""
            },
            "type": "choropleth"
           }
          ],
          "contour": [
           {
            "colorbar": {
             "outlinewidth": 0,
             "ticks": ""
            },
            "colorscale": [
             [
              0,
              "#0d0887"
             ],
             [
              0.1111111111111111,
              "#46039f"
             ],
             [
              0.2222222222222222,
              "#7201a8"
             ],
             [
              0.3333333333333333,
              "#9c179e"
             ],
             [
              0.4444444444444444,
              "#bd3786"
             ],
             [
              0.5555555555555556,
              "#d8576b"
             ],
             [
              0.6666666666666666,
              "#ed7953"
             ],
             [
              0.7777777777777778,
              "#fb9f3a"
             ],
             [
              0.8888888888888888,
              "#fdca26"
             ],
             [
              1,
              "#f0f921"
             ]
            ],
            "type": "contour"
           }
          ],
          "contourcarpet": [
           {
            "colorbar": {
             "outlinewidth": 0,
             "ticks": ""
            },
            "type": "contourcarpet"
           }
          ],
          "heatmap": [
           {
            "colorbar": {
             "outlinewidth": 0,
             "ticks": ""
            },
            "colorscale": [
             [
              0,
              "#0d0887"
             ],
             [
              0.1111111111111111,
              "#46039f"
             ],
             [
              0.2222222222222222,
              "#7201a8"
             ],
             [
              0.3333333333333333,
              "#9c179e"
             ],
             [
              0.4444444444444444,
              "#bd3786"
             ],
             [
              0.5555555555555556,
              "#d8576b"
             ],
             [
              0.6666666666666666,
              "#ed7953"
             ],
             [
              0.7777777777777778,
              "#fb9f3a"
             ],
             [
              0.8888888888888888,
              "#fdca26"
             ],
             [
              1,
              "#f0f921"
             ]
            ],
            "type": "heatmap"
           }
          ],
          "heatmapgl": [
           {
            "colorbar": {
             "outlinewidth": 0,
             "ticks": ""
            },
            "colorscale": [
             [
              0,
              "#0d0887"
             ],
             [
              0.1111111111111111,
              "#46039f"
             ],
             [
              0.2222222222222222,
              "#7201a8"
             ],
             [
              0.3333333333333333,
              "#9c179e"
             ],
             [
              0.4444444444444444,
              "#bd3786"
             ],
             [
              0.5555555555555556,
              "#d8576b"
             ],
             [
              0.6666666666666666,
              "#ed7953"
             ],
             [
              0.7777777777777778,
              "#fb9f3a"
             ],
             [
              0.8888888888888888,
              "#fdca26"
             ],
             [
              1,
              "#f0f921"
             ]
            ],
            "type": "heatmapgl"
           }
          ],
          "histogram": [
           {
            "marker": {
             "pattern": {
              "fillmode": "overlay",
              "size": 10,
              "solidity": 0.2
             }
            },
            "type": "histogram"
           }
          ],
          "histogram2d": [
           {
            "colorbar": {
             "outlinewidth": 0,
             "ticks": ""
            },
            "colorscale": [
             [
              0,
              "#0d0887"
             ],
             [
              0.1111111111111111,
              "#46039f"
             ],
             [
              0.2222222222222222,
              "#7201a8"
             ],
             [
              0.3333333333333333,
              "#9c179e"
             ],
             [
              0.4444444444444444,
              "#bd3786"
             ],
             [
              0.5555555555555556,
              "#d8576b"
             ],
             [
              0.6666666666666666,
              "#ed7953"
             ],
             [
              0.7777777777777778,
              "#fb9f3a"
             ],
             [
              0.8888888888888888,
              "#fdca26"
             ],
             [
              1,
              "#f0f921"
             ]
            ],
            "type": "histogram2d"
           }
          ],
          "histogram2dcontour": [
           {
            "colorbar": {
             "outlinewidth": 0,
             "ticks": ""
            },
            "colorscale": [
             [
              0,
              "#0d0887"
             ],
             [
              0.1111111111111111,
              "#46039f"
             ],
             [
              0.2222222222222222,
              "#7201a8"
             ],
             [
              0.3333333333333333,
              "#9c179e"
             ],
             [
              0.4444444444444444,
              "#bd3786"
             ],
             [
              0.5555555555555556,
              "#d8576b"
             ],
             [
              0.6666666666666666,
              "#ed7953"
             ],
             [
              0.7777777777777778,
              "#fb9f3a"
             ],
             [
              0.8888888888888888,
              "#fdca26"
             ],
             [
              1,
              "#f0f921"
             ]
            ],
            "type": "histogram2dcontour"
           }
          ],
          "mesh3d": [
           {
            "colorbar": {
             "outlinewidth": 0,
             "ticks": ""
            },
            "type": "mesh3d"
           }
          ],
          "parcoords": [
           {
            "line": {
             "colorbar": {
              "outlinewidth": 0,
              "ticks": ""
             }
            },
            "type": "parcoords"
           }
          ],
          "pie": [
           {
            "automargin": true,
            "type": "pie"
           }
          ],
          "scatter": [
           {
            "fillpattern": {
             "fillmode": "overlay",
             "size": 10,
             "solidity": 0.2
            },
            "type": "scatter"
           }
          ],
          "scatter3d": [
           {
            "line": {
             "colorbar": {
              "outlinewidth": 0,
              "ticks": ""
             }
            },
            "marker": {
             "colorbar": {
              "outlinewidth": 0,
              "ticks": ""
             }
            },
            "type": "scatter3d"
           }
          ],
          "scattercarpet": [
           {
            "marker": {
             "colorbar": {
              "outlinewidth": 0,
              "ticks": ""
             }
            },
            "type": "scattercarpet"
           }
          ],
          "scattergeo": [
           {
            "marker": {
             "colorbar": {
              "outlinewidth": 0,
              "ticks": ""
             }
            },
            "type": "scattergeo"
           }
          ],
          "scattergl": [
           {
            "marker": {
             "colorbar": {
              "outlinewidth": 0,
              "ticks": ""
             }
            },
            "type": "scattergl"
           }
          ],
          "scattermapbox": [
           {
            "marker": {
             "colorbar": {
              "outlinewidth": 0,
              "ticks": ""
             }
            },
            "type": "scattermapbox"
           }
          ],
          "scatterpolar": [
           {
            "marker": {
             "colorbar": {
              "outlinewidth": 0,
              "ticks": ""
             }
            },
            "type": "scatterpolar"
           }
          ],
          "scatterpolargl": [
           {
            "marker": {
             "colorbar": {
              "outlinewidth": 0,
              "ticks": ""
             }
            },
            "type": "scatterpolargl"
           }
          ],
          "scatterternary": [
           {
            "marker": {
             "colorbar": {
              "outlinewidth": 0,
              "ticks": ""
             }
            },
            "type": "scatterternary"
           }
          ],
          "surface": [
           {
            "colorbar": {
             "outlinewidth": 0,
             "ticks": ""
            },
            "colorscale": [
             [
              0,
              "#0d0887"
             ],
             [
              0.1111111111111111,
              "#46039f"
             ],
             [
              0.2222222222222222,
              "#7201a8"
             ],
             [
              0.3333333333333333,
              "#9c179e"
             ],
             [
              0.4444444444444444,
              "#bd3786"
             ],
             [
              0.5555555555555556,
              "#d8576b"
             ],
             [
              0.6666666666666666,
              "#ed7953"
             ],
             [
              0.7777777777777778,
              "#fb9f3a"
             ],
             [
              0.8888888888888888,
              "#fdca26"
             ],
             [
              1,
              "#f0f921"
             ]
            ],
            "type": "surface"
           }
          ],
          "table": [
           {
            "cells": {
             "fill": {
              "color": "#EBF0F8"
             },
             "line": {
              "color": "white"
             }
            },
            "header": {
             "fill": {
              "color": "#C8D4E3"
             },
             "line": {
              "color": "white"
             }
            },
            "type": "table"
           }
          ]
         },
         "layout": {
          "annotationdefaults": {
           "arrowcolor": "#2a3f5f",
           "arrowhead": 0,
           "arrowwidth": 1
          },
          "autotypenumbers": "strict",
          "coloraxis": {
           "colorbar": {
            "outlinewidth": 0,
            "ticks": ""
           }
          },
          "colorscale": {
           "diverging": [
            [
             0,
             "#8e0152"
            ],
            [
             0.1,
             "#c51b7d"
            ],
            [
             0.2,
             "#de77ae"
            ],
            [
             0.3,
             "#f1b6da"
            ],
            [
             0.4,
             "#fde0ef"
            ],
            [
             0.5,
             "#f7f7f7"
            ],
            [
             0.6,
             "#e6f5d0"
            ],
            [
             0.7,
             "#b8e186"
            ],
            [
             0.8,
             "#7fbc41"
            ],
            [
             0.9,
             "#4d9221"
            ],
            [
             1,
             "#276419"
            ]
           ],
           "sequential": [
            [
             0,
             "#0d0887"
            ],
            [
             0.1111111111111111,
             "#46039f"
            ],
            [
             0.2222222222222222,
             "#7201a8"
            ],
            [
             0.3333333333333333,
             "#9c179e"
            ],
            [
             0.4444444444444444,
             "#bd3786"
            ],
            [
             0.5555555555555556,
             "#d8576b"
            ],
            [
             0.6666666666666666,
             "#ed7953"
            ],
            [
             0.7777777777777778,
             "#fb9f3a"
            ],
            [
             0.8888888888888888,
             "#fdca26"
            ],
            [
             1,
             "#f0f921"
            ]
           ],
           "sequentialminus": [
            [
             0,
             "#0d0887"
            ],
            [
             0.1111111111111111,
             "#46039f"
            ],
            [
             0.2222222222222222,
             "#7201a8"
            ],
            [
             0.3333333333333333,
             "#9c179e"
            ],
            [
             0.4444444444444444,
             "#bd3786"
            ],
            [
             0.5555555555555556,
             "#d8576b"
            ],
            [
             0.6666666666666666,
             "#ed7953"
            ],
            [
             0.7777777777777778,
             "#fb9f3a"
            ],
            [
             0.8888888888888888,
             "#fdca26"
            ],
            [
             1,
             "#f0f921"
            ]
           ]
          },
          "colorway": [
           "#636efa",
           "#EF553B",
           "#00cc96",
           "#ab63fa",
           "#FFA15A",
           "#19d3f3",
           "#FF6692",
           "#B6E880",
           "#FF97FF",
           "#FECB52"
          ],
          "font": {
           "color": "#2a3f5f"
          },
          "geo": {
           "bgcolor": "white",
           "lakecolor": "white",
           "landcolor": "#E5ECF6",
           "showlakes": true,
           "showland": true,
           "subunitcolor": "white"
          },
          "hoverlabel": {
           "align": "left"
          },
          "hovermode": "closest",
          "mapbox": {
           "style": "light"
          },
          "paper_bgcolor": "white",
          "plot_bgcolor": "#E5ECF6",
          "polar": {
           "angularaxis": {
            "gridcolor": "white",
            "linecolor": "white",
            "ticks": ""
           },
           "bgcolor": "#E5ECF6",
           "radialaxis": {
            "gridcolor": "white",
            "linecolor": "white",
            "ticks": ""
           }
          },
          "scene": {
           "xaxis": {
            "backgroundcolor": "#E5ECF6",
            "gridcolor": "white",
            "gridwidth": 2,
            "linecolor": "white",
            "showbackground": true,
            "ticks": "",
            "zerolinecolor": "white"
           },
           "yaxis": {
            "backgroundcolor": "#E5ECF6",
            "gridcolor": "white",
            "gridwidth": 2,
            "linecolor": "white",
            "showbackground": true,
            "ticks": "",
            "zerolinecolor": "white"
           },
           "zaxis": {
            "backgroundcolor": "#E5ECF6",
            "gridcolor": "white",
            "gridwidth": 2,
            "linecolor": "white",
            "showbackground": true,
            "ticks": "",
            "zerolinecolor": "white"
           }
          },
          "shapedefaults": {
           "line": {
            "color": "#2a3f5f"
           }
          },
          "ternary": {
           "aaxis": {
            "gridcolor": "white",
            "linecolor": "white",
            "ticks": ""
           },
           "baxis": {
            "gridcolor": "white",
            "linecolor": "white",
            "ticks": ""
           },
           "bgcolor": "#E5ECF6",
           "caxis": {
            "gridcolor": "white",
            "linecolor": "white",
            "ticks": ""
           }
          },
          "title": {
           "x": 0.05
          },
          "xaxis": {
           "automargin": true,
           "gridcolor": "white",
           "linecolor": "white",
           "ticks": "",
           "title": {
            "standoff": 15
           },
           "zerolinecolor": "white",
           "zerolinewidth": 2
          },
          "yaxis": {
           "automargin": true,
           "gridcolor": "white",
           "linecolor": "white",
           "ticks": "",
           "title": {
            "standoff": 15
           },
           "zerolinecolor": "white",
           "zerolinewidth": 2
          }
         }
        },
        "title": {
         "text": "Distribution of Jobs Categories"
        },
        "xaxis": {
         "anchor": "y",
         "categoryorder": "total descending",
         "domain": [
          0,
          1
         ],
         "title": {
          "text": "Category"
         }
        },
        "yaxis": {
         "anchor": "x",
         "domain": [
          0,
          1
         ],
         "title": {
          "text": "count"
         }
        }
       }
      }
     },
     "metadata": {},
     "output_type": "display_data"
    }
   ],
   "source": [
    "fig = px.histogram(\n",
    "    data, x=\"Category\", title=\"Distribution of Jobs Categories\"\n",
    ").update_xaxes(categoryorder=\"total descending\")\n",
    "fig.show()"
   ]
  },
  {
   "cell_type": "code",
   "execution_count": null,
   "metadata": {},
   "outputs": [],
   "source": [
    "Job_cat = data[\"Category\"].unique()\n",
    "Job_cat = np.append(Job_cat, \"ALL\")"
   ]
  },
  {
   "cell_type": "code",
   "execution_count": null,
   "metadata": {},
   "outputs": [
    {
     "data": {
      "text/plain": [
       "array(['FITNESS', 'HEALTHCARE', 'HR', 'ADVOCATE', 'PUBLIC-RELATIONS',\n",
       "       'CHEF', 'DIGITAL-MEDIA', 'INFORMATION-TECHNOLOGY', 'ENGINEERING',\n",
       "       'CONSTRUCTION', 'ACCOUNTANT', 'CONSULTANT', 'APPAREL',\n",
       "       'BUSINESS-DEVELOPMENT', 'FINANCE', 'ARTS', 'BANKING', 'SALES',\n",
       "       'AVIATION', 'TEACHER', 'AUTOMOBILE', 'DESIGNER', 'AGRICULTURE',\n",
       "       'BPO', 'ALL'], dtype=object)"
      ]
     },
     "execution_count": 12,
     "metadata": {},
     "output_type": "execute_result"
    }
   ],
   "source": [
    "Job_cat"
   ]
  },
  {
   "cell_type": "code",
   "execution_count": null,
   "metadata": {},
   "outputs": [],
   "source": [
    "def dropdown_menu_widget(Job_Category):\n",
    "    output=widgets.Output()\n",
    "    drop_Job=widgets.Dropdown(options = Job_Category, value=None, description='Job Category:')\n",
    "    \n",
    "    for cat in Job_Category:\n",
    "        def dropdown_Job_eventhandler(change):\n",
    "            display(input_widgets)\n",
    "            job_choice=change.new\n",
    "            IPython.display.clear_output(wait=True)\n",
    "    drop_Job.observe(dropdown_Job_eventhandler,names='value')\n",
    "    input_widgets=widgets.HBox([drop_Job])\n",
    "    display(input_widgets)\n",
    "    IPython.display.clear_output(wait=True)\n"
   ]
  },
  {
   "cell_type": "code",
   "execution_count": null,
   "metadata": {},
   "outputs": [
    {
     "data": {
      "application/vnd.jupyter.widget-view+json": {
       "model_id": "ef01b625ee754e7f87eb98fee02110dd",
       "version_major": 2,
       "version_minor": 0
      },
      "text/plain": [
       "HBox(children=(Dropdown(description='Job Category:', options=('FITNESS', 'HEALTHCARE', 'HR', 'ADVOCATE', 'PUBL…"
      ]
     },
     "metadata": {},
     "output_type": "display_data"
    }
   ],
   "source": [
    "dropdown_menu_widget(Job_cat)"
   ]
  },
  {
   "cell_type": "code",
   "execution_count": null,
   "metadata": {},
   "outputs": [],
   "source": [
    "Job_Category=\"INFORMATION-TECHNOLOGY\""
   ]
  },
  {
   "cell_type": "code",
   "execution_count": null,
   "metadata": {},
   "outputs": [],
   "source": [
    "Total_skills = []\n",
    "if Job_Category != \"ALL\":\n",
    "    fltr = data[data[\"Category\"] == Job_Category][\"skills\"]\n",
    "    for x in fltr:\n",
    "        for i in x:\n",
    "            Total_skills.append(i)\n",
    "else:\n",
    "    fltr = data[\"skills\"]\n",
    "    for x in fltr:\n",
    "        for i in x:\n",
    "            Total_skills.append(i)\n",
    "\n"
   ]
  },
  {
   "cell_type": "code",
   "execution_count": null,
   "metadata": {},
   "outputs": [
    {
     "data": {
      "application/vnd.plotly.v1+json": {
       "config": {
        "plotlyServerURL": "https://plot.ly"
       },
       "data": [
        {
         "alignmentgroup": "True",
         "bingroup": "x",
         "hovertemplate": "Skills=%{x}<br>count=%{y}<extra></extra>",
         "legendgroup": "",
         "marker": {
          "color": "#636efa",
          "pattern": {
           "shape": ""
          }
         },
         "name": "",
         "offsetgroup": "",
         "orientation": "v",
         "showlegend": false,
         "type": "histogram",
         "x": [
          "virtual machine",
          "scanner",
          "router",
          "support",
          "engineering",
          "wireless",
          "security",
          "access network",
          "component",
          "software",
          "server",
          "testing",
          "computer network",
          "linux",
          "specification",
          "component",
          "material",
          "support",
          "design",
          "documentation",
          "monitoring",
          "database",
          "certificate",
          "testing",
          "user interface",
          "google",
          "engineering",
          "computer network",
          "data management",
          "chrome",
          "visual inspection",
          "schedule",
          "release",
          "operating system",
          "security",
          "project management",
          "software",
          "server",
          "collaboration",
          "task management",
          "software",
          "play",
          "support",
          "mode",
          "celery",
          "documentation",
          "engineering",
          "monitoring",
          "certificate",
          "interaction",
          "framework",
          "computer science",
          "material",
          "specification",
          "design",
          "data analysis",
          "certificate",
          "project management",
          "software",
          "marketing",
          "high availability",
          "scanner",
          "financial system",
          "email marketing",
          "material",
          "router",
          "support",
          "design",
          "documentation",
          "monitoring",
          "business",
          "testing",
          "ethernet",
          "sentry",
          "engineering",
          "encryption",
          "data warehouse",
          "computer network",
          "deployment",
          "help desk",
          "relay",
          "project management",
          "software",
          "server",
          "business intelligence",
          "specification",
          "shell",
          "fortran",
          "computer science",
          "wide area network",
          "terminal",
          "data transmission",
          "support",
          "relational database",
          "database",
          "software engineering",
          "wireless",
          "data integrity",
          "data analysis",
          "wireless network",
          "operating system",
          "security",
          "data processing",
          "software",
          "server",
          "web server",
          "router",
          "operating system",
          "support",
          "wireless",
          "business",
          "security",
          "certificate",
          "project management",
          "software",
          "server",
          "deployment",
          "help desk",
          "release",
          "router",
          "support",
          "design",
          "data center",
          "monitoring",
          "business",
          "security",
          "project management",
          "software",
          "server",
          "collaboration",
          "accounting",
          "deployment",
          "help desk",
          "magento",
          "android",
          "router",
          "remote control",
          "operating system",
          "support",
          "design",
          "mobile",
          "network security",
          "database",
          "business",
          "certificate",
          "business process",
          "content management",
          "software",
          "server",
          "marketing",
          "scanner",
          "router",
          "operating system",
          "support",
          "business",
          "security",
          "software",
          "deployment",
          "data file",
          "ethernet",
          "google",
          "router",
          "visual basic",
          "support",
          "design",
          "java",
          "mobile",
          "wireless",
          "project management",
          "software",
          "framework",
          "python",
          "computer science",
          "programming language",
          "help desk",
          "javascript",
          "linux",
          "specification",
          "tracking system",
          "knowledge base",
          "material",
          "support",
          "database",
          "business",
          "drupal",
          "user profile",
          "testing",
          "virtual machine",
          "content management",
          "interaction",
          "web service",
          "publishing",
          "medium",
          "software",
          "server",
          "ubuntu",
          "high availability",
          "oracle",
          "linux",
          "performance monitoring",
          "component",
          "shell",
          "application server",
          "support",
          "diagram",
          "monitoring",
          "database",
          "civil engineering",
          "data integrity",
          "file system",
          "schedule",
          "mysql",
          "bash",
          "security",
          "software",
          "server",
          "business administration",
          "software",
          "segment",
          "support",
          "engineering",
          "design",
          "computer science",
          "business",
          "business process",
          "analytics",
          "accounting",
          "customer relationship management",
          "marketing",
          "deployment",
          "help desk",
          "scanner",
          "computer architecture",
          "wide area network",
          "visual basic",
          "support",
          "design",
          "local area network",
          "database",
          "computer hardware",
          "decision support system",
          "system testing",
          "deployment",
          "help desk",
          "release",
          "operating system",
          "segment",
          "authentication",
          "security",
          "workflow",
          "project management",
          "software",
          "server",
          "microcomputer",
          "linux",
          "android",
          "azure",
          "specification",
          "scanner",
          "java",
          "framework",
          "router",
          "visual basic",
          "mobile",
          "design",
          "documentation",
          "diagram",
          "monitoring",
          "business",
          "database",
          "certificate",
          "wireless",
          "testing",
          "azure storage",
          "programming language",
          "virtual machine",
          "debugging",
          "vmware vsphere",
          "network security",
          "system testing",
          "wireless network",
          "deployment",
          "distributed file system",
          "help desk",
          "vault",
          "release",
          "operating system",
          "bash",
          "security",
          "visual studio",
          "software",
          "server",
          "ubuntu",
          "network architecture",
          "data center",
          "material",
          "wide area network",
          "support",
          "design",
          "mobile",
          "business",
          "database",
          "business process",
          "ecommerce",
          "library",
          "network security",
          "release",
          "medium",
          "document management system",
          "security",
          "software",
          "server",
          "marketing",
          "oracle",
          "data center",
          "material",
          "support",
          "design",
          "documentation",
          "relational database",
          "business",
          "database",
          "certificate",
          "testing",
          "virtual machine",
          "computer hardware",
          "system integration",
          "library",
          "engineering",
          "schedule",
          "operating system",
          "ai",
          "security",
          "project management",
          "software",
          "server",
          "collaboration",
          "workload",
          "router",
          "operating system",
          "support",
          "network performance",
          "design",
          "box",
          "network security",
          "documentation",
          "wireless",
          "business",
          "component",
          "security",
          "data processing",
          "software",
          "server",
          "testing",
          "deployment",
          "help desk",
          "text editor",
          "java",
          "bootstrap",
          "framework",
          "data retrieval",
          "eclipse",
          "support",
          "mobile",
          "design",
          "database",
          "business",
          "sorting",
          "github",
          "user interface",
          "javascript",
          "data model",
          "data access",
          "library",
          "computer engineering",
          "engineering",
          "asp net",
          "front end",
          "web service",
          "data warehouse",
          "file system",
          "schedule",
          "operating system",
          "mysql",
          "jquery",
          "authentication",
          "security",
          "visual studio",
          "software",
          "server",
          "linux",
          "complex system",
          "router",
          "software",
          "support",
          "bash",
          "medium",
          "network security",
          "computer science",
          "monitoring",
          "security",
          "wireless",
          "testing",
          "intrusion detection system",
          "computer network",
          "material",
          "oracle",
          "bootstrap",
          "analytics",
          "framework",
          "computer science",
          "correctness",
          "design",
          "business",
          "database",
          "github",
          "user interface",
          "programming language",
          "javascript",
          "play",
          "engineering",
          "code review",
          "asp net",
          "deployment",
          "mysql",
          "jquery",
          "finance",
          "security",
          "visual studio",
          "software",
          "server",
          "data sharing",
          "commerce",
          "data modeling",
          "support",
          "design",
          "mobile",
          "monitoring",
          "database",
          "business",
          "wireless",
          "data integrity",
          "interaction",
          "accounting",
          "data warehouse",
          "wireless network",
          "deployment",
          "data integration",
          "security",
          "software",
          "server",
          "marketing",
          "publishing",
          "system integration",
          "trend analysis",
          "support",
          "data management",
          "medium",
          "documentation",
          "component",
          "security",
          "project management",
          "software",
          "testing",
          "computer network",
          "linux",
          "android",
          "java",
          "component",
          "graphic design",
          "algorithm",
          "computer science",
          "mobile",
          "support",
          "documentation",
          "diagram",
          "database",
          "business",
          "certificate",
          "wireless",
          "javascript",
          "telephony",
          "engineering",
          "content management",
          "operating system",
          "medium",
          "cloud storage",
          "security",
          "software",
          "server",
          "search engine",
          "ubuntu",
          "marketing",
          "schedule",
          "cataloging",
          "specification",
          "multimedia",
          "support",
          "performance metric",
          "security",
          "business",
          "testing",
          "deployment",
          "material",
          "terminal",
          "skype",
          "router",
          "operating system",
          "support",
          "design",
          "component",
          "business",
          "security",
          "software",
          "server",
          "testing",
          "accounting",
          "schedule",
          "router",
          "visual basic",
          "computer network",
          "material",
          "finance",
          "business",
          "database",
          "certificate",
          "software engineering",
          "software",
          "server",
          "collaboration",
          "marketing",
          "data file",
          "support",
          "documentation",
          "buffer",
          "testing",
          "material",
          "component",
          "material",
          "router",
          "support",
          "documentation",
          "monitoring",
          "database",
          "testing",
          "network security",
          "system testing",
          "wireless network",
          "computer network",
          "data management",
          "file system",
          "help desk",
          "schedule",
          "security",
          "software",
          "server",
          "computer science",
          "support",
          "design",
          "documentation",
          "monitoring",
          "business",
          "database",
          "rotation",
          "testing",
          "information management",
          "resource allocation",
          "trend analysis",
          "engineering",
          "data analysis",
          "front end",
          "data warehouse",
          "data acquisition",
          "deployment",
          "batch processing",
          "project management",
          "software",
          "collaboration",
          "marketing",
          "business intelligence",
          "business administration",
          "terminal",
          "router",
          "support",
          "relay",
          "documentation",
          "monitoring",
          "security",
          "workflow",
          "business process",
          "certificate",
          "server",
          "testing",
          "encryption",
          "system integration",
          "support",
          "design",
          "relay",
          "documentation",
          "security",
          "database",
          "certificate",
          "project management",
          "file system",
          "data system",
          "operating system",
          "support",
          "documentation",
          "business",
          "database",
          "business process",
          "shell",
          "project management",
          "software",
          "interaction",
          "deployment",
          "help desk",
          "oracle",
          "linux",
          "specification",
          "java",
          "electronic document",
          "centos",
          "analytics",
          "application server",
          "material",
          "multimedia",
          "visual basic",
          "support",
          "design",
          "mobile",
          "documentation",
          "business",
          "database",
          "business process",
          "javascript",
          "wordpress",
          "information management",
          "content management",
          "computer network",
          "deployment",
          "publishing",
          "operating system",
          "mysql",
          "medium",
          "security",
          "workflow",
          "project management",
          "software",
          "server",
          "ubuntu",
          "marketing",
          "advertising",
          "high availability",
          "router",
          "operating system",
          "data center",
          "support",
          "design",
          "back office",
          "business",
          "security",
          "access network",
          "project management",
          "software",
          "server",
          "computer science",
          "release",
          "router",
          "specification",
          "operating system",
          "software",
          "support",
          "design",
          "monitoring",
          "database",
          "security",
          "component",
          "analytics",
          "wireless",
          "server",
          "testing",
          "project management",
          "computer security",
          "encryption",
          "schedule",
          "support",
          "finance",
          "business",
          "accounting",
          "material",
          "computer hardware",
          "router",
          "support",
          "design",
          "local area network",
          "computer programming",
          "network security",
          "monitoring",
          "business",
          "database",
          "security",
          "python",
          "project management",
          "software",
          "server",
          "testing",
          "data mining",
          "performance prediction",
          "specification",
          "java",
          "component",
          "support",
          "design",
          "documentation",
          "database",
          "testing",
          "big data",
          "programming language",
          "signal processing",
          "computer engineering",
          "mode",
          "data structure",
          "data acquisition",
          "data manipulation language",
          "data quality",
          "software",
          "python",
          "algorithm",
          "data sharing",
          "support",
          "design",
          "framework",
          "data center",
          "web app",
          "mobile",
          "monitoring",
          "business",
          "security",
          "workflow",
          "project management",
          "software",
          "server",
          "unity",
          "interaction",
          "help desk",
          "business administration",
          "router",
          "software",
          "support",
          "design",
          "documentation",
          "network security",
          "monitoring",
          "security",
          "accounting",
          "server",
          "help desk",
          "computer hardware",
          "scanner",
          "data validation",
          "support",
          "library",
          "network security",
          "wireless",
          "database",
          "business",
          "asp net",
          "visual studio",
          "security",
          "software",
          "testing",
          "wireless network",
          "computer science",
          "deployment",
          "material",
          "tracking system",
          "support",
          "design",
          "mobile",
          "business",
          "database",
          "business process",
          "system integration",
          "asp net",
          "data analysis",
          "task management",
          "security",
          "data processing",
          "workflow",
          "visual studio",
          "software",
          "server",
          "marketing",
          "business intelligence",
          "computer hardware",
          "support",
          "design",
          "engineering",
          "documentation",
          "finance",
          "security",
          "software",
          "server",
          "user interface",
          "linux",
          "android",
          "wordpress",
          "mysql",
          "support",
          "monitoring",
          "security",
          "content management",
          "drupal",
          "wireless",
          "project management",
          "software",
          "server",
          "fusion",
          "wireless network",
          "help desk",
          "business administration",
          "data center",
          "support",
          "design",
          "network security",
          "finance",
          "business",
          "fault tolerance",
          "software",
          "server",
          "deployment",
          "computer hardware",
          "support",
          "documentation",
          "tracking system",
          "business",
          "workflow",
          "certificate",
          "project management",
          "software",
          "material",
          "schedule",
          "deployment",
          "release",
          "support",
          "design",
          "supervisory control",
          "performance metric",
          "business",
          "confluence",
          "workflow",
          "project management",
          "software",
          "framework",
          "data acquisition",
          "collaboration",
          "trello",
          "business administration",
          "support",
          "medium",
          "business",
          "security",
          "workflow",
          "project management",
          "accounting",
          "server",
          "marketing",
          "computer security",
          "advertising",
          "terminal",
          "schedule",
          "database design",
          "support",
          "design",
          "security",
          "database",
          "data analysis",
          "business",
          "data structure",
          "software",
          "project management",
          "testing",
          "material",
          "linux",
          "network interface",
          "azure",
          "financial system",
          "component",
          "computer science",
          "router",
          "visual basic",
          "support",
          "mobile",
          "monitoring",
          "fedora",
          "network security",
          "computer network",
          "help desk",
          "operating system",
          "security",
          "software",
          "server",
          "terminal",
          "microsoft sql server",
          "operating system",
          "support",
          "mobile",
          "database",
          "security",
          "software",
          "server",
          "distributed file system",
          "oracle",
          "bot",
          "echo",
          "mobile",
          "support",
          "design",
          "engineering",
          "business",
          "software engineering",
          "business process",
          "software",
          "server",
          "marketing",
          "data system",
          "schedule",
          "specification",
          "system integration",
          "resource allocation",
          "support",
          "design",
          "engineering",
          "local area network",
          "documentation",
          "security",
          "testing",
          "material",
          "oracle",
          "linux",
          "specification",
          "java",
          "email marketing",
          "analytics",
          "support",
          "design",
          "local area network",
          "documentation",
          "database",
          "business",
          "sorting",
          "database design",
          "perl",
          "trend analysis",
          "information management",
          "library",
          "computer engineering",
          "code review",
          "data analysis",
          "front end",
          "data warehouse",
          "customer relationship management",
          "deployment",
          "data quality",
          "schedule",
          "operating system",
          "data integration",
          "segment",
          "segmentation",
          "project management",
          "software",
          "server",
          "marketing",
          "business intelligence"
         ],
         "xaxis": "x",
         "yaxis": "y"
        }
       ],
       "layout": {
        "barmode": "relative",
        "legend": {
         "tracegroupgap": 0
        },
        "template": {
         "data": {
          "bar": [
           {
            "error_x": {
             "color": "#2a3f5f"
            },
            "error_y": {
             "color": "#2a3f5f"
            },
            "marker": {
             "line": {
              "color": "#E5ECF6",
              "width": 0.5
             },
             "pattern": {
              "fillmode": "overlay",
              "size": 10,
              "solidity": 0.2
             }
            },
            "type": "bar"
           }
          ],
          "barpolar": [
           {
            "marker": {
             "line": {
              "color": "#E5ECF6",
              "width": 0.5
             },
             "pattern": {
              "fillmode": "overlay",
              "size": 10,
              "solidity": 0.2
             }
            },
            "type": "barpolar"
           }
          ],
          "carpet": [
           {
            "aaxis": {
             "endlinecolor": "#2a3f5f",
             "gridcolor": "white",
             "linecolor": "white",
             "minorgridcolor": "white",
             "startlinecolor": "#2a3f5f"
            },
            "baxis": {
             "endlinecolor": "#2a3f5f",
             "gridcolor": "white",
             "linecolor": "white",
             "minorgridcolor": "white",
             "startlinecolor": "#2a3f5f"
            },
            "type": "carpet"
           }
          ],
          "choropleth": [
           {
            "colorbar": {
             "outlinewidth": 0,
             "ticks": ""
            },
            "type": "choropleth"
           }
          ],
          "contour": [
           {
            "colorbar": {
             "outlinewidth": 0,
             "ticks": ""
            },
            "colorscale": [
             [
              0,
              "#0d0887"
             ],
             [
              0.1111111111111111,
              "#46039f"
             ],
             [
              0.2222222222222222,
              "#7201a8"
             ],
             [
              0.3333333333333333,
              "#9c179e"
             ],
             [
              0.4444444444444444,
              "#bd3786"
             ],
             [
              0.5555555555555556,
              "#d8576b"
             ],
             [
              0.6666666666666666,
              "#ed7953"
             ],
             [
              0.7777777777777778,
              "#fb9f3a"
             ],
             [
              0.8888888888888888,
              "#fdca26"
             ],
             [
              1,
              "#f0f921"
             ]
            ],
            "type": "contour"
           }
          ],
          "contourcarpet": [
           {
            "colorbar": {
             "outlinewidth": 0,
             "ticks": ""
            },
            "type": "contourcarpet"
           }
          ],
          "heatmap": [
           {
            "colorbar": {
             "outlinewidth": 0,
             "ticks": ""
            },
            "colorscale": [
             [
              0,
              "#0d0887"
             ],
             [
              0.1111111111111111,
              "#46039f"
             ],
             [
              0.2222222222222222,
              "#7201a8"
             ],
             [
              0.3333333333333333,
              "#9c179e"
             ],
             [
              0.4444444444444444,
              "#bd3786"
             ],
             [
              0.5555555555555556,
              "#d8576b"
             ],
             [
              0.6666666666666666,
              "#ed7953"
             ],
             [
              0.7777777777777778,
              "#fb9f3a"
             ],
             [
              0.8888888888888888,
              "#fdca26"
             ],
             [
              1,
              "#f0f921"
             ]
            ],
            "type": "heatmap"
           }
          ],
          "heatmapgl": [
           {
            "colorbar": {
             "outlinewidth": 0,
             "ticks": ""
            },
            "colorscale": [
             [
              0,
              "#0d0887"
             ],
             [
              0.1111111111111111,
              "#46039f"
             ],
             [
              0.2222222222222222,
              "#7201a8"
             ],
             [
              0.3333333333333333,
              "#9c179e"
             ],
             [
              0.4444444444444444,
              "#bd3786"
             ],
             [
              0.5555555555555556,
              "#d8576b"
             ],
             [
              0.6666666666666666,
              "#ed7953"
             ],
             [
              0.7777777777777778,
              "#fb9f3a"
             ],
             [
              0.8888888888888888,
              "#fdca26"
             ],
             [
              1,
              "#f0f921"
             ]
            ],
            "type": "heatmapgl"
           }
          ],
          "histogram": [
           {
            "marker": {
             "pattern": {
              "fillmode": "overlay",
              "size": 10,
              "solidity": 0.2
             }
            },
            "type": "histogram"
           }
          ],
          "histogram2d": [
           {
            "colorbar": {
             "outlinewidth": 0,
             "ticks": ""
            },
            "colorscale": [
             [
              0,
              "#0d0887"
             ],
             [
              0.1111111111111111,
              "#46039f"
             ],
             [
              0.2222222222222222,
              "#7201a8"
             ],
             [
              0.3333333333333333,
              "#9c179e"
             ],
             [
              0.4444444444444444,
              "#bd3786"
             ],
             [
              0.5555555555555556,
              "#d8576b"
             ],
             [
              0.6666666666666666,
              "#ed7953"
             ],
             [
              0.7777777777777778,
              "#fb9f3a"
             ],
             [
              0.8888888888888888,
              "#fdca26"
             ],
             [
              1,
              "#f0f921"
             ]
            ],
            "type": "histogram2d"
           }
          ],
          "histogram2dcontour": [
           {
            "colorbar": {
             "outlinewidth": 0,
             "ticks": ""
            },
            "colorscale": [
             [
              0,
              "#0d0887"
             ],
             [
              0.1111111111111111,
              "#46039f"
             ],
             [
              0.2222222222222222,
              "#7201a8"
             ],
             [
              0.3333333333333333,
              "#9c179e"
             ],
             [
              0.4444444444444444,
              "#bd3786"
             ],
             [
              0.5555555555555556,
              "#d8576b"
             ],
             [
              0.6666666666666666,
              "#ed7953"
             ],
             [
              0.7777777777777778,
              "#fb9f3a"
             ],
             [
              0.8888888888888888,
              "#fdca26"
             ],
             [
              1,
              "#f0f921"
             ]
            ],
            "type": "histogram2dcontour"
           }
          ],
          "mesh3d": [
           {
            "colorbar": {
             "outlinewidth": 0,
             "ticks": ""
            },
            "type": "mesh3d"
           }
          ],
          "parcoords": [
           {
            "line": {
             "colorbar": {
              "outlinewidth": 0,
              "ticks": ""
             }
            },
            "type": "parcoords"
           }
          ],
          "pie": [
           {
            "automargin": true,
            "type": "pie"
           }
          ],
          "scatter": [
           {
            "fillpattern": {
             "fillmode": "overlay",
             "size": 10,
             "solidity": 0.2
            },
            "type": "scatter"
           }
          ],
          "scatter3d": [
           {
            "line": {
             "colorbar": {
              "outlinewidth": 0,
              "ticks": ""
             }
            },
            "marker": {
             "colorbar": {
              "outlinewidth": 0,
              "ticks": ""
             }
            },
            "type": "scatter3d"
           }
          ],
          "scattercarpet": [
           {
            "marker": {
             "colorbar": {
              "outlinewidth": 0,
              "ticks": ""
             }
            },
            "type": "scattercarpet"
           }
          ],
          "scattergeo": [
           {
            "marker": {
             "colorbar": {
              "outlinewidth": 0,
              "ticks": ""
             }
            },
            "type": "scattergeo"
           }
          ],
          "scattergl": [
           {
            "marker": {
             "colorbar": {
              "outlinewidth": 0,
              "ticks": ""
             }
            },
            "type": "scattergl"
           }
          ],
          "scattermapbox": [
           {
            "marker": {
             "colorbar": {
              "outlinewidth": 0,
              "ticks": ""
             }
            },
            "type": "scattermapbox"
           }
          ],
          "scatterpolar": [
           {
            "marker": {
             "colorbar": {
              "outlinewidth": 0,
              "ticks": ""
             }
            },
            "type": "scatterpolar"
           }
          ],
          "scatterpolargl": [
           {
            "marker": {
             "colorbar": {
              "outlinewidth": 0,
              "ticks": ""
             }
            },
            "type": "scatterpolargl"
           }
          ],
          "scatterternary": [
           {
            "marker": {
             "colorbar": {
              "outlinewidth": 0,
              "ticks": ""
             }
            },
            "type": "scatterternary"
           }
          ],
          "surface": [
           {
            "colorbar": {
             "outlinewidth": 0,
             "ticks": ""
            },
            "colorscale": [
             [
              0,
              "#0d0887"
             ],
             [
              0.1111111111111111,
              "#46039f"
             ],
             [
              0.2222222222222222,
              "#7201a8"
             ],
             [
              0.3333333333333333,
              "#9c179e"
             ],
             [
              0.4444444444444444,
              "#bd3786"
             ],
             [
              0.5555555555555556,
              "#d8576b"
             ],
             [
              0.6666666666666666,
              "#ed7953"
             ],
             [
              0.7777777777777778,
              "#fb9f3a"
             ],
             [
              0.8888888888888888,
              "#fdca26"
             ],
             [
              1,
              "#f0f921"
             ]
            ],
            "type": "surface"
           }
          ],
          "table": [
           {
            "cells": {
             "fill": {
              "color": "#EBF0F8"
             },
             "line": {
              "color": "white"
             }
            },
            "header": {
             "fill": {
              "color": "#C8D4E3"
             },
             "line": {
              "color": "white"
             }
            },
            "type": "table"
           }
          ]
         },
         "layout": {
          "annotationdefaults": {
           "arrowcolor": "#2a3f5f",
           "arrowhead": 0,
           "arrowwidth": 1
          },
          "autotypenumbers": "strict",
          "coloraxis": {
           "colorbar": {
            "outlinewidth": 0,
            "ticks": ""
           }
          },
          "colorscale": {
           "diverging": [
            [
             0,
             "#8e0152"
            ],
            [
             0.1,
             "#c51b7d"
            ],
            [
             0.2,
             "#de77ae"
            ],
            [
             0.3,
             "#f1b6da"
            ],
            [
             0.4,
             "#fde0ef"
            ],
            [
             0.5,
             "#f7f7f7"
            ],
            [
             0.6,
             "#e6f5d0"
            ],
            [
             0.7,
             "#b8e186"
            ],
            [
             0.8,
             "#7fbc41"
            ],
            [
             0.9,
             "#4d9221"
            ],
            [
             1,
             "#276419"
            ]
           ],
           "sequential": [
            [
             0,
             "#0d0887"
            ],
            [
             0.1111111111111111,
             "#46039f"
            ],
            [
             0.2222222222222222,
             "#7201a8"
            ],
            [
             0.3333333333333333,
             "#9c179e"
            ],
            [
             0.4444444444444444,
             "#bd3786"
            ],
            [
             0.5555555555555556,
             "#d8576b"
            ],
            [
             0.6666666666666666,
             "#ed7953"
            ],
            [
             0.7777777777777778,
             "#fb9f3a"
            ],
            [
             0.8888888888888888,
             "#fdca26"
            ],
            [
             1,
             "#f0f921"
            ]
           ],
           "sequentialminus": [
            [
             0,
             "#0d0887"
            ],
            [
             0.1111111111111111,
             "#46039f"
            ],
            [
             0.2222222222222222,
             "#7201a8"
            ],
            [
             0.3333333333333333,
             "#9c179e"
            ],
            [
             0.4444444444444444,
             "#bd3786"
            ],
            [
             0.5555555555555556,
             "#d8576b"
            ],
            [
             0.6666666666666666,
             "#ed7953"
            ],
            [
             0.7777777777777778,
             "#fb9f3a"
            ],
            [
             0.8888888888888888,
             "#fdca26"
            ],
            [
             1,
             "#f0f921"
            ]
           ]
          },
          "colorway": [
           "#636efa",
           "#EF553B",
           "#00cc96",
           "#ab63fa",
           "#FFA15A",
           "#19d3f3",
           "#FF6692",
           "#B6E880",
           "#FF97FF",
           "#FECB52"
          ],
          "font": {
           "color": "#2a3f5f"
          },
          "geo": {
           "bgcolor": "white",
           "lakecolor": "white",
           "landcolor": "#E5ECF6",
           "showlakes": true,
           "showland": true,
           "subunitcolor": "white"
          },
          "hoverlabel": {
           "align": "left"
          },
          "hovermode": "closest",
          "mapbox": {
           "style": "light"
          },
          "paper_bgcolor": "white",
          "plot_bgcolor": "#E5ECF6",
          "polar": {
           "angularaxis": {
            "gridcolor": "white",
            "linecolor": "white",
            "ticks": ""
           },
           "bgcolor": "#E5ECF6",
           "radialaxis": {
            "gridcolor": "white",
            "linecolor": "white",
            "ticks": ""
           }
          },
          "scene": {
           "xaxis": {
            "backgroundcolor": "#E5ECF6",
            "gridcolor": "white",
            "gridwidth": 2,
            "linecolor": "white",
            "showbackground": true,
            "ticks": "",
            "zerolinecolor": "white"
           },
           "yaxis": {
            "backgroundcolor": "#E5ECF6",
            "gridcolor": "white",
            "gridwidth": 2,
            "linecolor": "white",
            "showbackground": true,
            "ticks": "",
            "zerolinecolor": "white"
           },
           "zaxis": {
            "backgroundcolor": "#E5ECF6",
            "gridcolor": "white",
            "gridwidth": 2,
            "linecolor": "white",
            "showbackground": true,
            "ticks": "",
            "zerolinecolor": "white"
           }
          },
          "shapedefaults": {
           "line": {
            "color": "#2a3f5f"
           }
          },
          "ternary": {
           "aaxis": {
            "gridcolor": "white",
            "linecolor": "white",
            "ticks": ""
           },
           "baxis": {
            "gridcolor": "white",
            "linecolor": "white",
            "ticks": ""
           },
           "bgcolor": "#E5ECF6",
           "caxis": {
            "gridcolor": "white",
            "linecolor": "white",
            "ticks": ""
           }
          },
          "title": {
           "x": 0.05
          },
          "xaxis": {
           "automargin": true,
           "gridcolor": "white",
           "linecolor": "white",
           "ticks": "",
           "title": {
            "standoff": 15
           },
           "zerolinecolor": "white",
           "zerolinewidth": 2
          },
          "yaxis": {
           "automargin": true,
           "gridcolor": "white",
           "linecolor": "white",
           "ticks": "",
           "title": {
            "standoff": 15
           },
           "zerolinecolor": "white",
           "zerolinewidth": 2
          }
         }
        },
        "title": {
         "text": "INFORMATION-TECHNOLOGY Distribution of Skills"
        },
        "xaxis": {
         "anchor": "y",
         "categoryorder": "total descending",
         "domain": [
          0,
          1
         ],
         "title": {
          "text": "Skills"
         }
        },
        "yaxis": {
         "anchor": "x",
         "domain": [
          0,
          1
         ],
         "title": {
          "text": "count"
         }
        }
       }
      }
     },
     "metadata": {},
     "output_type": "display_data"
    }
   ],
   "source": [
    "fig = px.histogram(\n",
    "    x=Total_skills,\n",
    "    labels={\"x\": \"Skills\"},\n",
    "    title=f\"{Job_Category} Distribution of Skills\",\n",
    ").update_xaxes(categoryorder=\"total descending\")\n",
    "fig.show()"
   ]
  },
  {
   "attachments": {},
   "cell_type": "markdown",
   "metadata": {},
   "source": [
    "### **Most common words**\n"
   ]
  },
  {
   "cell_type": "code",
   "execution_count": null,
   "metadata": {},
   "outputs": [
    {
     "data": {
      "text/plain": [
       "Text(0.5, 1.0, 'Most Used Words in INFORMATION-TECHNOLOGY Resume')"
      ]
     },
     "execution_count": 18,
     "metadata": {},
     "output_type": "execute_result"
    },
    {
     "data": {
      "image/png": "[encoded data removed]",
      "text/plain": [
       "<Figure size 800x800 with 1 Axes>"
      ]
     },
     "metadata": {},
     "output_type": "display_data"
    }
   ],
   "source": [
    "text = \"\"\n",
    "for i in data[data[\"Category\"] == Job_Category][\"Clean_Resume\"].values:\n",
    "    text += i + \" \"\n",
    "\n",
    "plt.figure(figsize=(8, 8))\n",
    "\n",
    "x, y = np.ogrid[:300, :300]\n",
    "\n",
    "mask = (x - 150) ** 2 + (y - 150) ** 2 > 130 ** 2\n",
    "mask = 255 * mask.astype(int)\n",
    "\n",
    "wc = WordCloud(\n",
    "    width=800,\n",
    "    height=800,\n",
    "    background_color=\"white\",\n",
    "    min_font_size=6,\n",
    "    repeat=True,\n",
    "    mask=mask,\n",
    ")\n",
    "wc.generate(text)\n",
    "\n",
    "plt.axis(\"off\")\n",
    "plt.imshow(wc, interpolation=\"bilinear\")\n",
    "plt.title(f\"Most Used Words in {Job_Category} Resume\", fontsize=20)"
   ]
  },
  {
   "cell_type": "markdown",
   "metadata": {},
   "source": [
    "### **Entity Recognition**\n",
    "We can also display various entities within our raw text by using spaCy displacy.render. I am in love with this function as it is an amazing way to look at your entire document and discover SKILL or GEP within your Resume."
   ]
  },
  {
   "cell_type": "code",
   "execution_count": null,
   "metadata": {},
   "outputs": [
    {
     "data": {
      "text/html": [
       "<span class=\"tex2jax_ignore\"><div class=\"entities\" style=\"line-height: 2.5; direction: ltr\">         CUSTOMER SERVICE REPRESENTACTIVE       Summary    Energetic Customer Service Associate with strong time management skills who thrives in a fast-paced, dynamic environment. Dedicated Customer Service Representative who provides exceptional customer service through active listening and problem solving. \n",
       "<mark class=\"entity\" style=\"background: #7aecec; padding: 0.45em 0.6em; margin: 0 0.25em; line-height: 1; border-radius: 0.35em;\">\n",
       "    Call Center Representative\n",
       "    <span style=\"font-size: 0.8em; font-weight: bold; line-height: 1; border-radius: 0.35em; vertical-align: middle; margin-left: 0.5rem\">ORG</span>\n",
       "</mark>\n",
       " with expertise providing customer \n",
       "<mark class=\"entity\" style=\"background: #ddd; padding: 0.45em 0.6em; margin: 0 0.25em; line-height: 1; border-radius: 0.35em;\">\n",
       "    support\n",
       "    <span style=\"font-size: 0.8em; font-weight: bold; line-height: 1; border-radius: 0.35em; vertical-align: middle; margin-left: 0.5rem\">SKILL</span>\n",
       "</mark>\n",
       " in high call volume environments. Exceptional computer aptitude and telephone etiquette. Hands-on \n",
       "<mark class=\"entity\" style=\"background: #7aecec; padding: 0.45em 0.6em; margin: 0 0.25em; line-height: 1; border-radius: 0.35em;\">\n",
       "    Customer Service\n",
       "    <span style=\"font-size: 0.8em; font-weight: bold; line-height: 1; border-radius: 0.35em; vertical-align: middle; margin-left: 0.5rem\">ORG</span>\n",
       "</mark>\n",
       " Manager effective in motivating others to reach their optimum potential.      Highlights          \n",
       "<mark class=\"entity\" style=\"background: #7aecec; padding: 0.45em 0.6em; margin: 0 0.25em; line-height: 1; border-radius: 0.35em;\">\n",
       "    MS Office\n",
       "    <span style=\"font-size: 0.8em; font-weight: bold; line-height: 1; border-radius: 0.35em; vertical-align: middle; margin-left: 0.5rem\">ORG</span>\n",
       "</mark>\n",
       " proficient  At-home daycare professional  Emotionally supportive  Self-sufficient and confident  Positive and optimistic  People-oriented  Creative problem solver  Exceptional communication skills  Quick learner  Strong client relations  \n",
       "<mark class=\"entity\" style=\"background: #7aecec; padding: 0.45em 0.6em; margin: 0 0.25em; line-height: 1; border-radius: 0.35em;\">\n",
       "    Credit\n",
       "    <span style=\"font-size: 0.8em; font-weight: bold; line-height: 1; border-radius: 0.35em; vertical-align: middle; margin-left: 0.5rem\">ORG</span>\n",
       "</mark>\n",
       " card processing  Multi-line phone talent              Accomplishments    Exceeded all company goal and personal goals. excellent average handle time and outstanding Customer satisfaction reports. Received numerous compliments from members.      Experience      Customer Service Representactive   08/2014   to   Current     Company Name   City  ,   State      Processed applications, \n",
       "<mark class=\"entity\" style=\"background: #ddd; padding: 0.45em 0.6em; margin: 0 0.25em; line-height: 1; border-radius: 0.35em;\">\n",
       "    payments\n",
       "    <span style=\"font-size: 0.8em; font-weight: bold; line-height: 1; border-radius: 0.35em; vertical-align: middle; margin-left: 0.5rem\">SKILL</span>\n",
       "</mark>\n",
       ", corrections, endorsements and cancellations.  Submitted up-to-date activity and production logs to agency management for review.  Presented and clearly explained insurance policy options to clients based on their needs and goals.  Called \n",
       "<mark class=\"entity\" style=\"background: #e4e7d2; padding: 0.45em 0.6em; margin: 0 0.25em; line-height: 1; border-radius: 0.35em;\">\n",
       "    20-30\n",
       "    <span style=\"font-size: 0.8em; font-weight: bold; line-height: 1; border-radius: 0.35em; vertical-align: middle; margin-left: 0.5rem\">CARDINAL</span>\n",
       "</mark>\n",
       " lapsed customers \n",
       "<mark class=\"entity\" style=\"background: #bfe1d9; padding: 0.45em 0.6em; margin: 0 0.25em; line-height: 1; border-radius: 0.35em;\">\n",
       "    each day\n",
       "    <span style=\"font-size: 0.8em; font-weight: bold; line-height: 1; border-radius: 0.35em; vertical-align: middle; margin-left: 0.5rem\">DATE</span>\n",
       "</mark>\n",
       " to inquire about continuing needs. Handled escalated calls. Researched cases, pay by phone, handled vendor return unit calls and also took Supervisor calls. Became a researcher/Supervisor within \n",
       "<mark class=\"entity\" style=\"background: #bfe1d9; padding: 0.45em 0.6em; margin: 0 0.25em; line-height: 1; border-radius: 0.35em;\">\n",
       "    3 months of start date\n",
       "    <span style=\"font-size: 0.8em; font-weight: bold; line-height: 1; border-radius: 0.35em; vertical-align: middle; margin-left: 0.5rem\">DATE</span>\n",
       "</mark>\n",
       ".             Office Manager/ Fitness Instructor   \n",
       "<mark class=\"entity\" style=\"background: #bfe1d9; padding: 0.45em 0.6em; margin: 0 0.25em; line-height: 1; border-radius: 0.35em;\">\n",
       "    04/2013\n",
       "    <span style=\"font-size: 0.8em; font-weight: bold; line-height: 1; border-radius: 0.35em; vertical-align: middle; margin-left: 0.5rem\">DATE</span>\n",
       "</mark>\n",
       "   to   \n",
       "<mark class=\"entity\" style=\"background: #7aecec; padding: 0.45em 0.6em; margin: 0 0.25em; line-height: 1; border-radius: 0.35em;\">\n",
       "    08/2014     \n",
       "    <span style=\"font-size: 0.8em; font-weight: bold; line-height: 1; border-radius: 0.35em; vertical-align: middle; margin-left: 0.5rem\">ORG</span>\n",
       "</mark>\n",
       "Company Name   City  ,   State       Recruited an average of \n",
       "<mark class=\"entity\" style=\"background: #e4e7d2; padding: 0.45em 0.6em; margin: 0 0.25em; line-height: 1; border-radius: 0.35em;\">\n",
       "    7\n",
       "    <span style=\"font-size: 0.8em; font-weight: bold; line-height: 1; border-radius: 0.35em; vertical-align: middle; margin-left: 0.5rem\">CARDINAL</span>\n",
       "</mark>\n",
       " new participants \n",
       "<mark class=\"entity\" style=\"background: #bfe1d9; padding: 0.45em 0.6em; margin: 0 0.25em; line-height: 1; border-radius: 0.35em;\">\n",
       "    each month\n",
       "    <span style=\"font-size: 0.8em; font-weight: bold; line-height: 1; border-radius: 0.35em; vertical-align: middle; margin-left: 0.5rem\">DATE</span>\n",
       "</mark>\n",
       ".  Explained exercise modifications and contraindicated movements to participants with a history of injury.  Cultivated positive relationships with participants by interacting with them during group fitness classes.  Greeted all members in a professional and friendly manner.  Developed safe and effective exercise programs for all members.  Explained class objectives and rules.          \n",
       "<mark class=\"entity\" style=\"background: #7aecec; padding: 0.45em 0.6em; margin: 0 0.25em; line-height: 1; border-radius: 0.35em;\">\n",
       "    Customer Service Associate   01/2013\n",
       "    <span style=\"font-size: 0.8em; font-weight: bold; line-height: 1; border-radius: 0.35em; vertical-align: middle; margin-left: 0.5rem\">ORG</span>\n",
       "</mark>\n",
       "   to   \n",
       "<mark class=\"entity\" style=\"background: #bfe1d9; padding: 0.45em 0.6em; margin: 0 0.25em; line-height: 1; border-radius: 0.35em;\">\n",
       "    04/2013\n",
       "    <span style=\"font-size: 0.8em; font-weight: bold; line-height: 1; border-radius: 0.35em; vertical-align: middle; margin-left: 0.5rem\">DATE</span>\n",
       "</mark>\n",
       "     Company Name   City  ,   State       Effectively managed a high-volume of inbound and outbound customer calls.  Answered a constant flow of customer calls with \n",
       "<mark class=\"entity\" style=\"background: #e4e7d2; padding: 0.45em 0.6em; margin: 0 0.25em; line-height: 1; border-radius: 0.35em;\">\n",
       "    up to 30\n",
       "    <span style=\"font-size: 0.8em; font-weight: bold; line-height: 1; border-radius: 0.35em; vertical-align: middle; margin-left: 0.5rem\">CARDINAL</span>\n",
       "</mark>\n",
       " calls in \n",
       "<mark class=\"entity\" style=\"background: #ddd; padding: 0.45em 0.6em; margin: 0 0.25em; line-height: 1; border-radius: 0.35em;\">\n",
       "    queue\n",
       "    <span style=\"font-size: 0.8em; font-weight: bold; line-height: 1; border-radius: 0.35em; vertical-align: middle; margin-left: 0.5rem\">SKILL</span>\n",
       "</mark>\n",
       " per minute.  Acted professionally and patiently when addressing negative customer feedback.          \n",
       "<mark class=\"entity\" style=\"background: #7aecec; padding: 0.45em 0.6em; margin: 0 0.25em; line-height: 1; border-radius: 0.35em;\">\n",
       "    Customer Service Associate\n",
       "    <span style=\"font-size: 0.8em; font-weight: bold; line-height: 1; border-radius: 0.35em; vertical-align: middle; margin-left: 0.5rem\">ORG</span>\n",
       "</mark>\n",
       "   \n",
       "<mark class=\"entity\" style=\"background: #7aecec; padding: 0.45em 0.6em; margin: 0 0.25em; line-height: 1; border-radius: 0.35em;\">\n",
       "    08/2012\n",
       "    <span style=\"font-size: 0.8em; font-weight: bold; line-height: 1; border-radius: 0.35em; vertical-align: middle; margin-left: 0.5rem\">ORG</span>\n",
       "</mark>\n",
       "   to   \n",
       "<mark class=\"entity\" style=\"background: #7aecec; padding: 0.45em 0.6em; margin: 0 0.25em; line-height: 1; border-radius: 0.35em;\">\n",
       "    01/2013\n",
       "    <span style=\"font-size: 0.8em; font-weight: bold; line-height: 1; border-radius: 0.35em; vertical-align: middle; margin-left: 0.5rem\">ORG</span>\n",
       "</mark>\n",
       "     Company Name   City  ,   State       Assessed clients' financial situations to develop strategic financial planning solutions.          \n",
       "<mark class=\"entity\" style=\"background: #7aecec; padding: 0.45em 0.6em; margin: 0 0.25em; line-height: 1; border-radius: 0.35em;\">\n",
       "    Daycare Assistant/ Office\n",
       "    <span style=\"font-size: 0.8em; font-weight: bold; line-height: 1; border-radius: 0.35em; vertical-align: middle; margin-left: 0.5rem\">ORG</span>\n",
       "</mark>\n",
       " Manager   \n",
       "<mark class=\"entity\" style=\"background: #e4e7d2; padding: 0.45em 0.6em; margin: 0 0.25em; line-height: 1; border-radius: 0.35em;\">\n",
       "    04/2010\n",
       "    <span style=\"font-size: 0.8em; font-weight: bold; line-height: 1; border-radius: 0.35em; vertical-align: middle; margin-left: 0.5rem\">CARDINAL</span>\n",
       "</mark>\n",
       "   to   \n",
       "<mark class=\"entity\" style=\"background: #7aecec; padding: 0.45em 0.6em; margin: 0 0.25em; line-height: 1; border-radius: 0.35em;\">\n",
       "    08/2012\n",
       "    <span style=\"font-size: 0.8em; font-weight: bold; line-height: 1; border-radius: 0.35em; vertical-align: middle; margin-left: 0.5rem\">ORG</span>\n",
       "</mark>\n",
       "     Company Name   City  ,   State       Promoted good behavior by using the positive reinforcement method.  Promoted language development skills through reading and storytelling.  Assisted the lead teacher with snack time, arts and crafts and putting the children down for naps.  Relieved the head teacher and toddler teacher.  Dressed children and changed diapers.  \n",
       "<mark class=\"entity\" style=\"background: #7aecec; padding: 0.45em 0.6em; margin: 0 0.25em; line-height: 1; border-radius: 0.35em;\">\n",
       "    Communicated\n",
       "    <span style=\"font-size: 0.8em; font-weight: bold; line-height: 1; border-radius: 0.35em; vertical-align: middle; margin-left: 0.5rem\">ORG</span>\n",
       "</mark>\n",
       " regularly with parents about \n",
       "<mark class=\"entity\" style=\"background: #bfe1d9; padding: 0.45em 0.6em; margin: 0 0.25em; line-height: 1; border-radius: 0.35em;\">\n",
       "    daily\n",
       "    <span style=\"font-size: 0.8em; font-weight: bold; line-height: 1; border-radius: 0.35em; vertical-align: middle; margin-left: 0.5rem\">DATE</span>\n",
       "</mark>\n",
       " activities and behaviors.  Offered parents detailed \n",
       "<mark class=\"entity\" style=\"background: #bfe1d9; padding: 0.45em 0.6em; margin: 0 0.25em; line-height: 1; border-radius: 0.35em;\">\n",
       "    daily\n",
       "    <span style=\"font-size: 0.8em; font-weight: bold; line-height: 1; border-radius: 0.35em; vertical-align: middle; margin-left: 0.5rem\">DATE</span>\n",
       "</mark>\n",
       " reports that outlined their child's day.  Maintained \n",
       "<mark class=\"entity\" style=\"background: #bfe1d9; padding: 0.45em 0.6em; margin: 0 0.25em; line-height: 1; border-radius: 0.35em;\">\n",
       "    daily\n",
       "    <span style=\"font-size: 0.8em; font-weight: bold; line-height: 1; border-radius: 0.35em; vertical-align: middle; margin-left: 0.5rem\">DATE</span>\n",
       "</mark>\n",
       " records of children's individual activities, behaviors, meals and naps.  \n",
       "<mark class=\"entity\" style=\"background: #7aecec; padding: 0.45em 0.6em; margin: 0 0.25em; line-height: 1; border-radius: 0.35em;\">\n",
       "    Maintaineda\n",
       "    <span style=\"font-size: 0.8em; font-weight: bold; line-height: 1; border-radius: 0.35em; vertical-align: middle; margin-left: 0.5rem\">ORG</span>\n",
       "</mark>\n",
       " child-friendly environment by allowing frequent access to outdoor activities.  Sparked imagination by helping children discover new things each day.  Sparked imagination by helping children discover new things each day.          \n",
       "<mark class=\"entity\" style=\"background: #7aecec; padding: 0.45em 0.6em; margin: 0 0.25em; line-height: 1; border-radius: 0.35em;\">\n",
       "    Customer Service Rep   01/2009\n",
       "    <span style=\"font-size: 0.8em; font-weight: bold; line-height: 1; border-radius: 0.35em; vertical-align: middle; margin-left: 0.5rem\">ORG</span>\n",
       "</mark>\n",
       "   to   \n",
       "<mark class=\"entity\" style=\"background: #e4e7d2; padding: 0.45em 0.6em; margin: 0 0.25em; line-height: 1; border-radius: 0.35em;\">\n",
       "    04/2010     Company Name   City\n",
       "    <span style=\"font-size: 0.8em; font-weight: bold; line-height: 1; border-radius: 0.35em; vertical-align: middle; margin-left: 0.5rem\">CARDINAL</span>\n",
       "</mark>\n",
       "  ,   State       Effectively managed a high-volume of inbound and outbound customer calls.  Answered a constant flow of customer calls with \n",
       "<mark class=\"entity\" style=\"background: #e4e7d2; padding: 0.45em 0.6em; margin: 0 0.25em; line-height: 1; border-radius: 0.35em;\">\n",
       "    up to 25\n",
       "    <span style=\"font-size: 0.8em; font-weight: bold; line-height: 1; border-radius: 0.35em; vertical-align: middle; margin-left: 0.5rem\">CARDINAL</span>\n",
       "</mark>\n",
       " calls in \n",
       "<mark class=\"entity\" style=\"background: #ddd; padding: 0.45em 0.6em; margin: 0 0.25em; line-height: 1; border-radius: 0.35em;\">\n",
       "    queue\n",
       "    <span style=\"font-size: 0.8em; font-weight: bold; line-height: 1; border-radius: 0.35em; vertical-align: middle; margin-left: 0.5rem\">SKILL</span>\n",
       "</mark>\n",
       " per minute.  Addressed and resolved customer product complaints empathetically and professionally.  \n",
       "<mark class=\"entity\" style=\"background: #aa9cfc; padding: 0.45em 0.6em; margin: 0 0.25em; line-height: 1; border-radius: 0.35em;\">\n",
       "    Defused\n",
       "    <span style=\"font-size: 0.8em; font-weight: bold; line-height: 1; border-radius: 0.35em; vertical-align: middle; margin-left: 0.5rem\">PERSON</span>\n",
       "</mark>\n",
       " volatile customer situations calmly and courteously.  Accurately documented, researched and resolved customer service issues.  \n",
       "<mark class=\"entity\" style=\"background: #7aecec; padding: 0.45em 0.6em; margin: 0 0.25em; line-height: 1; border-radius: 0.35em;\">\n",
       "    Mastery\n",
       "    <span style=\"font-size: 0.8em; font-weight: bold; line-height: 1; border-radius: 0.35em; vertical-align: middle; margin-left: 0.5rem\">ORG</span>\n",
       "</mark>\n",
       " of customer service management systems and \n",
       "<mark class=\"entity\" style=\"background: #ddd; padding: 0.45em 0.6em; margin: 0 0.25em; line-height: 1; border-radius: 0.35em;\">\n",
       "    databases\n",
       "    <span style=\"font-size: 0.8em; font-weight: bold; line-height: 1; border-radius: 0.35em; vertical-align: middle; margin-left: 0.5rem\">SKILL</span>\n",
       "</mark>\n",
       ".  Managed customer calls effectively and efficiently in a complex, fast-paced and challenging call center environment.  Identified chronic customer issues by creating and maintaining customer complaint log.  Referred unresolved customer grievances to designated departments for further investigation.  Managed high call volume with tact and professionalism.  Acted professionally and patiently when addressing negative customer feedback.          \n",
       "<mark class=\"entity\" style=\"background: #ff8197; padding: 0.45em 0.6em; margin: 0 0.25em; line-height: 1; border-radius: 0.35em;\">\n",
       "    Education      Paralegal Certificate  Paralegal\n",
       "    <span style=\"font-size: 0.8em; font-weight: bold; line-height: 1; border-radius: 0.35em; vertical-align: middle; margin-left: 0.5rem\">LAW</span>\n",
       "</mark>\n",
       "     \n",
       "<mark class=\"entity\" style=\"background: #bfe1d9; padding: 0.45em 0.6em; margin: 0 0.25em; line-height: 1; border-radius: 0.35em;\">\n",
       "    2009\n",
       "    <span style=\"font-size: 0.8em; font-weight: bold; line-height: 1; border-radius: 0.35em; vertical-align: middle; margin-left: 0.5rem\">DATE</span>\n",
       "</mark>\n",
       "       \n",
       "<mark class=\"entity\" style=\"background: #7aecec; padding: 0.45em 0.6em; margin: 0 0.25em; line-height: 1; border-radius: 0.35em;\">\n",
       "    Branford Hall Career Institute\n",
       "    <span style=\"font-size: 0.8em; font-weight: bold; line-height: 1; border-radius: 0.35em; vertical-align: middle; margin-left: 0.5rem\">ORG</span>\n",
       "</mark>\n",
       "   City  ,   \n",
       "<mark class=\"entity\" style=\"background: #7aecec; padding: 0.45em 0.6em; margin: 0 0.25em; line-height: 1; border-radius: 0.35em;\">\n",
       "    State               Bachelor of Science                  Skills    Accounts\n",
       "    <span style=\"font-size: 0.8em; font-weight: bold; line-height: 1; border-radius: 0.35em; vertical-align: middle; margin-left: 0.5rem\">ORG</span>\n",
       "</mark>\n",
       " payable, arts, \n",
       "<mark class=\"entity\" style=\"background: #aa9cfc; padding: 0.45em 0.6em; margin: 0 0.25em; line-height: 1; border-radius: 0.35em;\">\n",
       "    Billing\n",
       "    <span style=\"font-size: 0.8em; font-weight: bold; line-height: 1; border-radius: 0.35em; vertical-align: middle; margin-left: 0.5rem\">PERSON</span>\n",
       "</mark>\n",
       ", call center, communication skills, \n",
       "<mark class=\"entity\" style=\"background: #7aecec; padding: 0.45em 0.6em; margin: 0 0.25em; line-height: 1; border-radius: 0.35em;\">\n",
       "    CPR Certified\n",
       "    <span style=\"font-size: 0.8em; font-weight: bold; line-height: 1; border-radius: 0.35em; vertical-align: middle; margin-left: 0.5rem\">ORG</span>\n",
       "</mark>\n",
       ", Creative problem solver, \n",
       "<mark class=\"entity\" style=\"background: #7aecec; padding: 0.45em 0.6em; margin: 0 0.25em; line-height: 1; border-radius: 0.35em;\">\n",
       "    Credit\n",
       "    <span style=\"font-size: 0.8em; font-weight: bold; line-height: 1; border-radius: 0.35em; vertical-align: middle; margin-left: 0.5rem\">ORG</span>\n",
       "</mark>\n",
       ", clients, client relations, customer service, \n",
       "<mark class=\"entity\" style=\"background: #ddd; padding: 0.45em 0.6em; margin: 0 0.25em; line-height: 1; border-radius: 0.35em;\">\n",
       "    databases\n",
       "    <span style=\"font-size: 0.8em; font-weight: bold; line-height: 1; border-radius: 0.35em; vertical-align: middle; margin-left: 0.5rem\">SKILL</span>\n",
       "</mark>\n",
       ", fast, financial, financial planning, \n",
       "<mark class=\"entity\" style=\"background: #7aecec; padding: 0.45em 0.6em; margin: 0 0.25em; line-height: 1; border-radius: 0.35em;\">\n",
       "    First Aid\n",
       "    <span style=\"font-size: 0.8em; font-weight: bold; line-height: 1; border-radius: 0.35em; vertical-align: middle; margin-left: 0.5rem\">ORG</span>\n",
       "</mark>\n",
       ", access, \n",
       "<mark class=\"entity\" style=\"background: #7aecec; padding: 0.45em 0.6em; margin: 0 0.25em; line-height: 1; border-radius: 0.35em;\">\n",
       "    MS Office\n",
       "    <span style=\"font-size: 0.8em; font-weight: bold; line-height: 1; border-radius: 0.35em; vertical-align: middle; margin-left: 0.5rem\">ORG</span>\n",
       "</mark>\n",
       ", Paralegal, Persuasive, speaker, Quick learner, reading, strategic, teacher, phone   </div></span>"
      ],
      "text/plain": [
       "<IPython.core.display.HTML object>"
      ]
     },
     "metadata": {},
     "output_type": "display_data"
    }
   ],
   "source": [
    "sent = nlp(data[\"Resume_str\"].iloc[0])\n",
    "displacy.render(sent, style=\"ent\", jupyter=True)"
   ]
  },
  {
   "cell_type": "markdown",
   "metadata": {},
   "source": [
    "### **Dependency Parsing**\n",
    "We can also visualize dependencies by just changing style to dep as shown below. We have also limited words to 10 which includes space too. Limiting the words will make it visualize the small chunk of data and if you want to see the dependency, you can remove the filter."
   ]
  },
  {
   "cell_type": "code",
   "execution_count": null,
   "metadata": {},
   "outputs": [
    {
     "data": {
      "text/html": [
       "<span class=\"tex2jax_ignore\"><svg xmlns=\"http://www.w3.org/2000/svg\" xmlns:xlink=\"http://www.w3.org/1999/xlink\" xml:lang=\"en\" id=\"685cdfac2e7b42e3aa13b103ef5dce62-0\" class=\"displacy\" width=\"950\" height=\"317.0\" direction=\"ltr\" style=\"max-width: none; height: 317.0px; color: #000000; background: #ffffff; font-family: Arial; direction: ltr\">\n",
       "<text class=\"displacy-token\" fill=\"currentColor\" text-anchor=\"middle\" y=\"227.0\">\n",
       "    <tspan class=\"displacy-word\" fill=\"currentColor\" x=\"50\">         </tspan>\n",
       "    <tspan class=\"displacy-tag\" dy=\"2em\" fill=\"currentColor\" x=\"50\">SPACE</tspan>\n",
       "</text>\n",
       "\n",
       "<text class=\"displacy-token\" fill=\"currentColor\" text-anchor=\"middle\" y=\"227.0\">\n",
       "    <tspan class=\"displacy-word\" fill=\"currentColor\" x=\"140\">CUSTOMER</tspan>\n",
       "    <tspan class=\"displacy-tag\" dy=\"2em\" fill=\"currentColor\" x=\"140\">PROPN</tspan>\n",
       "</text>\n",
       "\n",
       "<text class=\"displacy-token\" fill=\"currentColor\" text-anchor=\"middle\" y=\"227.0\">\n",
       "    <tspan class=\"displacy-word\" fill=\"currentColor\" x=\"230\">SERVICE</tspan>\n",
       "    <tspan class=\"displacy-tag\" dy=\"2em\" fill=\"currentColor\" x=\"230\">NOUN</tspan>\n",
       "</text>\n",
       "\n",
       "<text class=\"displacy-token\" fill=\"currentColor\" text-anchor=\"middle\" y=\"227.0\">\n",
       "    <tspan class=\"displacy-word\" fill=\"currentColor\" x=\"320\">REPRESENTACTIVE</tspan>\n",
       "    <tspan class=\"displacy-tag\" dy=\"2em\" fill=\"currentColor\" x=\"320\">PROPN</tspan>\n",
       "</text>\n",
       "\n",
       "<text class=\"displacy-token\" fill=\"currentColor\" text-anchor=\"middle\" y=\"227.0\">\n",
       "    <tspan class=\"displacy-word\" fill=\"currentColor\" x=\"410\">      </tspan>\n",
       "    <tspan class=\"displacy-tag\" dy=\"2em\" fill=\"currentColor\" x=\"410\">SPACE</tspan>\n",
       "</text>\n",
       "\n",
       "<text class=\"displacy-token\" fill=\"currentColor\" text-anchor=\"middle\" y=\"227.0\">\n",
       "    <tspan class=\"displacy-word\" fill=\"currentColor\" x=\"500\">Summary</tspan>\n",
       "    <tspan class=\"displacy-tag\" dy=\"2em\" fill=\"currentColor\" x=\"500\">PROPN</tspan>\n",
       "</text>\n",
       "\n",
       "<text class=\"displacy-token\" fill=\"currentColor\" text-anchor=\"middle\" y=\"227.0\">\n",
       "    <tspan class=\"displacy-word\" fill=\"currentColor\" x=\"590\">   </tspan>\n",
       "    <tspan class=\"displacy-tag\" dy=\"2em\" fill=\"currentColor\" x=\"590\">SPACE</tspan>\n",
       "</text>\n",
       "\n",
       "<text class=\"displacy-token\" fill=\"currentColor\" text-anchor=\"middle\" y=\"227.0\">\n",
       "    <tspan class=\"displacy-word\" fill=\"currentColor\" x=\"680\">Energetic</tspan>\n",
       "    <tspan class=\"displacy-tag\" dy=\"2em\" fill=\"currentColor\" x=\"680\">PROPN</tspan>\n",
       "</text>\n",
       "\n",
       "<text class=\"displacy-token\" fill=\"currentColor\" text-anchor=\"middle\" y=\"227.0\">\n",
       "    <tspan class=\"displacy-word\" fill=\"currentColor\" x=\"770\">Customer</tspan>\n",
       "    <tspan class=\"displacy-tag\" dy=\"2em\" fill=\"currentColor\" x=\"770\">PROPN</tspan>\n",
       "</text>\n",
       "\n",
       "<text class=\"displacy-token\" fill=\"currentColor\" text-anchor=\"middle\" y=\"227.0\">\n",
       "    <tspan class=\"displacy-word\" fill=\"currentColor\" x=\"860\">Service</tspan>\n",
       "    <tspan class=\"displacy-tag\" dy=\"2em\" fill=\"currentColor\" x=\"860\">PROPN</tspan>\n",
       "</text>\n",
       "\n",
       "<g class=\"displacy-arrow\">\n",
       "    <path class=\"displacy-arc\" id=\"arrow-685cdfac2e7b42e3aa13b103ef5dce62-0-0\" stroke-width=\"2px\" d=\"M70,182.0 C70,137.0 125.0,137.0 125.0,182.0\" fill=\"none\" stroke=\"currentColor\"/>\n",
       "    <text dy=\"1.25em\" style=\"font-size: 0.8em; letter-spacing: 1px\">\n",
       "        <textPath xlink:href=\"#arrow-685cdfac2e7b42e3aa13b103ef5dce62-0-0\" class=\"displacy-label\" startOffset=\"50%\" side=\"left\" fill=\"currentColor\" text-anchor=\"middle\">dep</textPath>\n",
       "    </text>\n",
       "    <path class=\"displacy-arrowhead\" d=\"M70,184.0 L62,172.0 78,172.0\" fill=\"currentColor\"/>\n",
       "</g>\n",
       "\n",
       "<g class=\"displacy-arrow\">\n",
       "    <path class=\"displacy-arc\" id=\"arrow-685cdfac2e7b42e3aa13b103ef5dce62-0-1\" stroke-width=\"2px\" d=\"M160,182.0 C160,137.0 215.0,137.0 215.0,182.0\" fill=\"none\" stroke=\"currentColor\"/>\n",
       "    <text dy=\"1.25em\" style=\"font-size: 0.8em; letter-spacing: 1px\">\n",
       "        <textPath xlink:href=\"#arrow-685cdfac2e7b42e3aa13b103ef5dce62-0-1\" class=\"displacy-label\" startOffset=\"50%\" side=\"left\" fill=\"currentColor\" text-anchor=\"middle\">compound</textPath>\n",
       "    </text>\n",
       "    <path class=\"displacy-arrowhead\" d=\"M160,184.0 L152,172.0 168,172.0\" fill=\"currentColor\"/>\n",
       "</g>\n",
       "\n",
       "<g class=\"displacy-arrow\">\n",
       "    <path class=\"displacy-arc\" id=\"arrow-685cdfac2e7b42e3aa13b103ef5dce62-0-2\" stroke-width=\"2px\" d=\"M250,182.0 C250,137.0 305.0,137.0 305.0,182.0\" fill=\"none\" stroke=\"currentColor\"/>\n",
       "    <text dy=\"1.25em\" style=\"font-size: 0.8em; letter-spacing: 1px\">\n",
       "        <textPath xlink:href=\"#arrow-685cdfac2e7b42e3aa13b103ef5dce62-0-2\" class=\"displacy-label\" startOffset=\"50%\" side=\"left\" fill=\"currentColor\" text-anchor=\"middle\">dep</textPath>\n",
       "    </text>\n",
       "    <path class=\"displacy-arrowhead\" d=\"M305.0,184.0 L313.0,172.0 297.0,172.0\" fill=\"currentColor\"/>\n",
       "</g>\n",
       "\n",
       "<g class=\"displacy-arrow\">\n",
       "    <path class=\"displacy-arc\" id=\"arrow-685cdfac2e7b42e3aa13b103ef5dce62-0-3\" stroke-width=\"2px\" d=\"M340,182.0 C340,137.0 395.0,137.0 395.0,182.0\" fill=\"none\" stroke=\"currentColor\"/>\n",
       "    <text dy=\"1.25em\" style=\"font-size: 0.8em; letter-spacing: 1px\">\n",
       "        <textPath xlink:href=\"#arrow-685cdfac2e7b42e3aa13b103ef5dce62-0-3\" class=\"displacy-label\" startOffset=\"50%\" side=\"left\" fill=\"currentColor\" text-anchor=\"middle\">dep</textPath>\n",
       "    </text>\n",
       "    <path class=\"displacy-arrowhead\" d=\"M395.0,184.0 L403.0,172.0 387.0,172.0\" fill=\"currentColor\"/>\n",
       "</g>\n",
       "\n",
       "<g class=\"displacy-arrow\">\n",
       "    <path class=\"displacy-arc\" id=\"arrow-685cdfac2e7b42e3aa13b103ef5dce62-0-4\" stroke-width=\"2px\" d=\"M250,182.0 C250,92.0 490.0,92.0 490.0,182.0\" fill=\"none\" stroke=\"currentColor\"/>\n",
       "    <text dy=\"1.25em\" style=\"font-size: 0.8em; letter-spacing: 1px\">\n",
       "        <textPath xlink:href=\"#arrow-685cdfac2e7b42e3aa13b103ef5dce62-0-4\" class=\"displacy-label\" startOffset=\"50%\" side=\"left\" fill=\"currentColor\" text-anchor=\"middle\">dep</textPath>\n",
       "    </text>\n",
       "    <path class=\"displacy-arrowhead\" d=\"M490.0,184.0 L498.0,172.0 482.0,172.0\" fill=\"currentColor\"/>\n",
       "</g>\n",
       "\n",
       "<g class=\"displacy-arrow\">\n",
       "    <path class=\"displacy-arc\" id=\"arrow-685cdfac2e7b42e3aa13b103ef5dce62-0-5\" stroke-width=\"2px\" d=\"M520,182.0 C520,137.0 575.0,137.0 575.0,182.0\" fill=\"none\" stroke=\"currentColor\"/>\n",
       "    <text dy=\"1.25em\" style=\"font-size: 0.8em; letter-spacing: 1px\">\n",
       "        <textPath xlink:href=\"#arrow-685cdfac2e7b42e3aa13b103ef5dce62-0-5\" class=\"displacy-label\" startOffset=\"50%\" side=\"left\" fill=\"currentColor\" text-anchor=\"middle\">dep</textPath>\n",
       "    </text>\n",
       "    <path class=\"displacy-arrowhead\" d=\"M575.0,184.0 L583.0,172.0 567.0,172.0\" fill=\"currentColor\"/>\n",
       "</g>\n",
       "\n",
       "<g class=\"displacy-arrow\">\n",
       "    <path class=\"displacy-arc\" id=\"arrow-685cdfac2e7b42e3aa13b103ef5dce62-0-6\" stroke-width=\"2px\" d=\"M250,182.0 C250,47.0 675.0,47.0 675.0,182.0\" fill=\"none\" stroke=\"currentColor\"/>\n",
       "    <text dy=\"1.25em\" style=\"font-size: 0.8em; letter-spacing: 1px\">\n",
       "        <textPath xlink:href=\"#arrow-685cdfac2e7b42e3aa13b103ef5dce62-0-6\" class=\"displacy-label\" startOffset=\"50%\" side=\"left\" fill=\"currentColor\" text-anchor=\"middle\">dep</textPath>\n",
       "    </text>\n",
       "    <path class=\"displacy-arrowhead\" d=\"M675.0,184.0 L683.0,172.0 667.0,172.0\" fill=\"currentColor\"/>\n",
       "</g>\n",
       "\n",
       "<g class=\"displacy-arrow\">\n",
       "    <path class=\"displacy-arc\" id=\"arrow-685cdfac2e7b42e3aa13b103ef5dce62-0-7\" stroke-width=\"2px\" d=\"M790,182.0 C790,137.0 845.0,137.0 845.0,182.0\" fill=\"none\" stroke=\"currentColor\"/>\n",
       "    <text dy=\"1.25em\" style=\"font-size: 0.8em; letter-spacing: 1px\">\n",
       "        <textPath xlink:href=\"#arrow-685cdfac2e7b42e3aa13b103ef5dce62-0-7\" class=\"displacy-label\" startOffset=\"50%\" side=\"left\" fill=\"currentColor\" text-anchor=\"middle\">compound</textPath>\n",
       "    </text>\n",
       "    <path class=\"displacy-arrowhead\" d=\"M790,184.0 L782,172.0 798,172.0\" fill=\"currentColor\"/>\n",
       "</g>\n",
       "\n",
       "<g class=\"displacy-arrow\">\n",
       "    <path class=\"displacy-arc\" id=\"arrow-685cdfac2e7b42e3aa13b103ef5dce62-0-8\" stroke-width=\"2px\" d=\"M250,182.0 C250,2.0 860.0,2.0 860.0,182.0\" fill=\"none\" stroke=\"currentColor\"/>\n",
       "    <text dy=\"1.25em\" style=\"font-size: 0.8em; letter-spacing: 1px\">\n",
       "        <textPath xlink:href=\"#arrow-685cdfac2e7b42e3aa13b103ef5dce62-0-8\" class=\"displacy-label\" startOffset=\"50%\" side=\"left\" fill=\"currentColor\" text-anchor=\"middle\">dep</textPath>\n",
       "    </text>\n",
       "    <path class=\"displacy-arrowhead\" d=\"M860.0,184.0 L868.0,172.0 852.0,172.0\" fill=\"currentColor\"/>\n",
       "</g>\n",
       "</svg></span>"
      ],
      "text/plain": [
       "<IPython.core.display.HTML object>"
      ]
     },
     "metadata": {},
     "output_type": "display_data"
    }
   ],
   "source": [
    "displacy.render(sent[0:10], style=\"dep\", jupyter=True, options={\"distance\": 90})"
   ]
  },
  {
   "attachments": {},
   "cell_type": "markdown",
   "metadata": {},
   "source": [
    "## **Custom Entity Recognition**\n"
   ]
  },
  {
   "cell_type": "code",
   "execution_count": null,
   "metadata": {},
   "outputs": [],
   "source": [
    "patterns = df.Category.unique()\n",
    "for a in patterns:\n",
    "    ruler.add_patterns([{\"label\": \"Job-Category\", \"pattern\": a}])"
   ]
  },
  {
   "cell_type": "code",
   "execution_count": null,
   "metadata": {},
   "outputs": [
    {
     "data": {
      "text/html": [
       "<span class=\"tex2jax_ignore\"><div class=\"entities\" style=\"line-height: 2.5; direction: ltr\">         FOOD PREP \n",
       "<mark class=\"entity\" style=\"background: linear-gradient(90deg, #9BE15D, #00E3AE); padding: 0.45em 0.6em; margin: 0 0.25em; line-height: 1; border-radius: 0.35em;\">\n",
       "    CHEF\n",
       "    <span style=\"font-size: 0.8em; font-weight: bold; line-height: 1; border-radius: 0.35em; vertical-align: middle; margin-left: 0.5rem\">SKILL</span>\n",
       "</mark>\n",
       "       Skills       Highly skilled in cooking and preparing a variety of cuisines    Inborn ability to explore new cooking avenues    Thorough understanding of sanitation needs of the kitchen    Operate kitchen equipment such as ovens and grills for cooking purposes    Maintain knowledge of all recipes so that the Head \n",
       "<mark class=\"entity\" style=\"background: linear-gradient(90deg, #9BE15D, #00E3AE); padding: 0.45em 0.6em; margin: 0 0.25em; line-height: 1; border-radius: 0.35em;\">\n",
       "    Chef\n",
       "    <span style=\"font-size: 0.8em; font-weight: bold; line-height: 1; border-radius: 0.35em; vertical-align: middle; margin-left: 0.5rem\">SKILL</span>\n",
       "</mark>\n",
       "'s place can be filled in effectively in case of absenteeism         Summary       Exceptional culinary insight.    Knowledge of standard food preparation    Ability to work in a high volume environment    \n",
       "<mark class=\"entity\" style=\"background: linear-gradient(90deg, #9BE15D, #00E3AE); padding: 0.45em 0.6em; margin: 0 0.25em; line-height: 1; border-radius: 0.35em;\">\n",
       "    Chef\n",
       "    <span style=\"font-size: 0.8em; font-weight: bold; line-height: 1; border-radius: 0.35em; vertical-align: middle; margin-left: 0.5rem\">SKILL</span>\n",
       "</mark>\n",
       " in preparing exceptional meals    Motivated food serving professional with \n",
       "<mark class=\"entity\" style=\"background: #c27ba0; padding: 0.45em 0.6em; margin: 0 0.25em; line-height: 1; border-radius: 0.35em;\">\n",
       "    5+ years\n",
       "    <span style=\"font-size: 0.8em; font-weight: bold; line-height: 1; border-radius: 0.35em; vertical-align: middle; margin-left: 0.5rem\">DATE</span>\n",
       "</mark>\n",
       " food and beverage experience in casual and fine dining.          Highlights           Kitchen productivity    Basic knife skills    Uses proper sanitation practices    Able to regularly lift/move up to 25-50 lbs    Preparation of various food items    Good personal hygiene    Team-oriented    Well groomed    High level of cleanly kitchen maintenance    Team-oriented        Sandwich preparation experience    Knowledge of basic food preparation    Food handling knowledge    Italian cuisine    American cuisine     Ethnic foods preparation    \n",
       "<mark class=\"entity\" style=\"background: #ffd966; padding: 0.45em 0.6em; margin: 0 0.25em; line-height: 1; border-radius: 0.35em;\">\n",
       "    Plate\n",
       "    <span style=\"font-size: 0.8em; font-weight: bold; line-height: 1; border-radius: 0.35em; vertical-align: middle; margin-left: 0.5rem\">ORG</span>\n",
       "</mark>\n",
       " presentation skills    \n",
       "<mark class=\"entity\" style=\"background: #ffd966; padding: 0.45em 0.6em; margin: 0 0.25em; line-height: 1; border-radius: 0.35em;\">\n",
       "    Banquet\n",
       "    <span style=\"font-size: 0.8em; font-weight: bold; line-height: 1; border-radius: 0.35em; vertical-align: middle; margin-left: 0.5rem\">ORG</span>\n",
       "</mark>\n",
       " operations and off-site catering expert             \n",
       "<mark class=\"entity\" style=\"background: #e06666; padding: 0.45em 0.6em; margin: 0 0.25em; line-height: 1; border-radius: 0.35em;\">\n",
       "    Accomplishments       Serve\n",
       "    <span style=\"font-size: 0.8em; font-weight: bold; line-height: 1; border-radius: 0.35em; vertical-align: middle; margin-left: 0.5rem\">PERSON</span>\n",
       "</mark>\n",
       " Safe \n",
       "<mark class=\"entity\" style=\"background: #c27ba0; padding: 0.45em 0.6em; margin: 0 0.25em; line-height: 1; border-radius: 0.35em;\">\n",
       "    2015\n",
       "    <span style=\"font-size: 0.8em; font-weight: bold; line-height: 1; border-radius: 0.35em; vertical-align: middle; margin-left: 0.5rem\">DATE</span>\n",
       "</mark>\n",
       "     Seasoned and cooked food according to recipes or personal judgment and experience.    Ensured consistent high quality of plate presentation.     Maintained contact with kitchen staff, management, serving staff and customers.    Baked, roasted, broiled, and steamed meats, fish, vegetables and other foods.    Supported all kitchen operations when \n",
       "<mark class=\"entity\" style=\"background: linear-gradient(90deg, #9BE15D, #00E3AE); padding: 0.45em 0.6em; margin: 0 0.25em; line-height: 1; border-radius: 0.35em;\">\n",
       "    chef\n",
       "    <span style=\"font-size: 0.8em; font-weight: bold; line-height: 1; border-radius: 0.35em; vertical-align: middle; margin-left: 0.5rem\">SKILL</span>\n",
       "</mark>\n",
       " was absent.         Experience     \n",
       "<mark class=\"entity\" style=\"background: #c27ba0; padding: 0.45em 0.6em; margin: 0 0.25em; line-height: 1; border-radius: 0.35em;\">\n",
       "    09/2010\n",
       "    <span style=\"font-size: 0.8em; font-weight: bold; line-height: 1; border-radius: 0.35em; vertical-align: middle; margin-left: 0.5rem\">DATE</span>\n",
       "</mark>\n",
       "   -   04/2011     Company Name   －   City  ,   \n",
       "<mark class=\"entity\" style=\"background: #ffd966; padding: 0.45em 0.6em; margin: 0 0.25em; line-height: 1; border-radius: 0.35em;\">\n",
       "    State\n",
       "    <span style=\"font-size: 0.8em; font-weight: bold; line-height: 1; border-radius: 0.35em; vertical-align: middle; margin-left: 0.5rem\">ORG</span>\n",
       "</mark>\n",
       "    Food Prep \n",
       "<mark class=\"entity\" style=\"background: linear-gradient(90deg, #9BE15D, #00E3AE); padding: 0.45em 0.6em; margin: 0 0.25em; line-height: 1; border-radius: 0.35em;\">\n",
       "    Chef\n",
       "    <span style=\"font-size: 0.8em; font-weight: bold; line-height: 1; border-radius: 0.35em; vertical-align: middle; margin-left: 0.5rem\">SKILL</span>\n",
       "</mark>\n",
       "         Followed all established restaurant practices and procedures.    Carefully maintained sanitation, health and safety standards in all work areas.    Prepared items according to written or verbal orders, working on several different orders simultaneously.          06/2011   -   \n",
       "<mark class=\"entity\" style=\"background: #ffd966; padding: 0.45em 0.6em; margin: 0 0.25em; line-height: 1; border-radius: 0.35em;\">\n",
       "    11/2012\n",
       "    <span style=\"font-size: 0.8em; font-weight: bold; line-height: 1; border-radius: 0.35em; vertical-align: middle; margin-left: 0.5rem\">ORG</span>\n",
       "</mark>\n",
       "     Company Name   －   City  ,   \n",
       "<mark class=\"entity\" style=\"background: #ffd966; padding: 0.45em 0.6em; margin: 0 0.25em; line-height: 1; border-radius: 0.35em;\">\n",
       "    State\n",
       "    <span style=\"font-size: 0.8em; font-weight: bold; line-height: 1; border-radius: 0.35em; vertical-align: middle; margin-left: 0.5rem\">ORG</span>\n",
       "</mark>\n",
       "    Cook        Followed all established restaurant practices and procedures.   Maintained a neat, well groomed appearance including impeccable personal hygiene, hair restraint and minimal jewelry that met company standards.    Closely followed standard procedures for safe food preparation, assembly and presentation to ensure customer satisfaction.     Cut and chopped food items and cooked on a grill or in fryers.          12/2012   -   03/2013     Company Name   －   City  ,   \n",
       "<mark class=\"entity\" style=\"background: #ffd966; padding: 0.45em 0.6em; margin: 0 0.25em; line-height: 1; border-radius: 0.35em;\">\n",
       "    State\n",
       "    <span style=\"font-size: 0.8em; font-weight: bold; line-height: 1; border-radius: 0.35em; vertical-align: middle; margin-left: 0.5rem\">ORG</span>\n",
       "</mark>\n",
       "    \n",
       "<mark class=\"entity\" style=\"background: #ffd966; padding: 0.45em 0.6em; margin: 0 0.25em; line-height: 1; border-radius: 0.35em;\">\n",
       "    Cook         \n",
       "    <span style=\"font-size: 0.8em; font-weight: bold; line-height: 1; border-radius: 0.35em; vertical-align: middle; margin-left: 0.5rem\">ORG</span>\n",
       "</mark>\n",
       "Operated large-volume cooking equipment such as grills, deep-fat fryers and griddles.    Took necessary steps to meet customer needs and effectively resolve food or service issues.     Served fresh, hot food with a smile in a timely manner.     Accurately measured ingredients required for specific food items.    Followed all established restaurant practices and procedures.          02/2013   -   \n",
       "<mark class=\"entity\" style=\"background: #ffd966; padding: 0.45em 0.6em; margin: 0 0.25em; line-height: 1; border-radius: 0.35em;\">\n",
       "    06/2013\n",
       "    <span style=\"font-size: 0.8em; font-weight: bold; line-height: 1; border-radius: 0.35em; vertical-align: middle; margin-left: 0.5rem\">ORG</span>\n",
       "</mark>\n",
       "     Company Name   －   City  ,   \n",
       "<mark class=\"entity\" style=\"background: #ffd966; padding: 0.45em 0.6em; margin: 0 0.25em; line-height: 1; border-radius: 0.35em;\">\n",
       "    State\n",
       "    <span style=\"font-size: 0.8em; font-weight: bold; line-height: 1; border-radius: 0.35em; vertical-align: middle; margin-left: 0.5rem\">ORG</span>\n",
       "</mark>\n",
       "    \n",
       "<mark class=\"entity\" style=\"background: #e06666; padding: 0.45em 0.6em; margin: 0 0.25em; line-height: 1; border-radius: 0.35em;\">\n",
       "    Cook\n",
       "    <span style=\"font-size: 0.8em; font-weight: bold; line-height: 1; border-radius: 0.35em; vertical-align: middle; margin-left: 0.5rem\">PERSON</span>\n",
       "</mark>\n",
       "          Assisted co-workers.     Cooked food properly and in a timely fashion, using safety precautions    Weighed, measured, and mixed ingredients according to recipes using various kitchen utensils and equipment     \n",
       "<mark class=\"entity\" style=\"background: #f9cb9c; padding: 0.45em 0.6em; margin: 0 0.25em; line-height: 1; border-radius: 0.35em;\">\n",
       "    Cleaned and\n",
       "    <span style=\"font-size: 0.8em; font-weight: bold; line-height: 1; border-radius: 0.35em; vertical-align: middle; margin-left: 0.5rem\">PRODUCT</span>\n",
       "</mark>\n",
       " prepared various foods for cooking or serving          06/2014   -   11/2014     Company Name   －   City  ,   \n",
       "<mark class=\"entity\" style=\"background: #ffd966; padding: 0.45em 0.6em; margin: 0 0.25em; line-height: 1; border-radius: 0.35em;\">\n",
       "    State\n",
       "    <span style=\"font-size: 0.8em; font-weight: bold; line-height: 1; border-radius: 0.35em; vertical-align: middle; margin-left: 0.5rem\">ORG</span>\n",
       "</mark>\n",
       "    \n",
       "<mark class=\"entity\" style=\"background: linear-gradient(90deg, #9BE15D, #00E3AE); padding: 0.45em 0.6em; margin: 0 0.25em; line-height: 1; border-radius: 0.35em;\">\n",
       "    Chef\n",
       "    <span style=\"font-size: 0.8em; font-weight: bold; line-height: 1; border-radius: 0.35em; vertical-align: middle; margin-left: 0.5rem\">SKILL</span>\n",
       "</mark>\n",
       "         Developed strategies to enhance catering and retail food service revenue and productivity goals.    Prepared healthy, enjoyable breakfasts and dinners for diners.    Effectively managed and assisted kitchen staff in producing food for banquets, catered events and member dining areas.    Effectively used items in stock to decrease waste and profit loss.    Ensured consistent high quality of plate presentation    Seasoned and cooked food according to recipes or personal judgment and experience    Created and explored new cuisines    Instructed cooks and other workers in the preparation, cooking, garnishing, and presentation of food    Cooked food properly and in a timely fashion, using safety precautions    Used all food handling standards          \n",
       "<mark class=\"entity\" style=\"background: #c27ba0; padding: 0.45em 0.6em; margin: 0 0.25em; line-height: 1; border-radius: 0.35em;\">\n",
       "    01/2014\n",
       "    <span style=\"font-size: 0.8em; font-weight: bold; line-height: 1; border-radius: 0.35em; vertical-align: middle; margin-left: 0.5rem\">DATE</span>\n",
       "</mark>\n",
       "   -   12/2014     Company Name   －   City  ,   \n",
       "<mark class=\"entity\" style=\"background: #ffd966; padding: 0.45em 0.6em; margin: 0 0.25em; line-height: 1; border-radius: 0.35em;\">\n",
       "    State\n",
       "    <span style=\"font-size: 0.8em; font-weight: bold; line-height: 1; border-radius: 0.35em; vertical-align: middle; margin-left: 0.5rem\">ORG</span>\n",
       "</mark>\n",
       "    Food Service Cook /Temp         Assisted co-workers.    Performed kitchen maintenance for a private facility.    Responsible for \n",
       "<mark class=\"entity\" style=\"background: #c27ba0; padding: 0.45em 0.6em; margin: 0 0.25em; line-height: 1; border-radius: 0.35em;\">\n",
       "    daily\n",
       "    <span style=\"font-size: 0.8em; font-weight: bold; line-height: 1; border-radius: 0.35em; vertical-align: middle; margin-left: 0.5rem\">DATE</span>\n",
       "</mark>\n",
       " set up of five stations.     Stocked and rotated products, stocked supplies, and paper goods in a timely basis    Stored clean equipment and utensils    Supervised and coordinated activities of cooks and workers engaged in food preparation    Used all food handling standards    Cleaned, cut, and cooked meat, fish, or poultry    \n",
       "<mark class=\"entity\" style=\"background: #e06666; padding: 0.45em 0.6em; margin: 0 0.25em; line-height: 1; border-radius: 0.35em;\">\n",
       "    Complied\n",
       "    <span style=\"font-size: 0.8em; font-weight: bold; line-height: 1; border-radius: 0.35em; vertical-align: middle; margin-left: 0.5rem\">PERSON</span>\n",
       "</mark>\n",
       " with scheduled kitchen sanitation and ensured all standards and practices were met    Cooked food properly and in a timely fashion, using safety precautions          \n",
       "<mark class=\"entity\" style=\"background: #c27ba0; padding: 0.45em 0.6em; margin: 0 0.25em; line-height: 1; border-radius: 0.35em;\">\n",
       "    01/2015\n",
       "    <span style=\"font-size: 0.8em; font-weight: bold; line-height: 1; border-radius: 0.35em; vertical-align: middle; margin-left: 0.5rem\">DATE</span>\n",
       "</mark>\n",
       "   -   \n",
       "<mark class=\"entity\" style=\"background: #f9cb9c; padding: 0.45em 0.6em; margin: 0 0.25em; line-height: 1; border-radius: 0.35em;\">\n",
       "    05/2015     Company Name   －\n",
       "    <span style=\"font-size: 0.8em; font-weight: bold; line-height: 1; border-radius: 0.35em; vertical-align: middle; margin-left: 0.5rem\">PRODUCT</span>\n",
       "</mark>\n",
       "   City  ,   \n",
       "<mark class=\"entity\" style=\"background: #ffd966; padding: 0.45em 0.6em; margin: 0 0.25em; line-height: 1; border-radius: 0.35em;\">\n",
       "    State\n",
       "    <span style=\"font-size: 0.8em; font-weight: bold; line-height: 1; border-radius: 0.35em; vertical-align: middle; margin-left: 0.5rem\">ORG</span>\n",
       "</mark>\n",
       "    \n",
       "<mark class=\"entity\" style=\"background: #e06666; padding: 0.45em 0.6em; margin: 0 0.25em; line-height: 1; border-radius: 0.35em;\">\n",
       "    Line Cook\n",
       "    <span style=\"font-size: 0.8em; font-weight: bold; line-height: 1; border-radius: 0.35em; vertical-align: middle; margin-left: 0.5rem\">PERSON</span>\n",
       "</mark>\n",
       "          Consistently verified that kitchen staff followed all recipes and portioned serving guidelines correctly.     Consistently kept a clean and safe environment by adhering to all federal, state and local sanitation and safety requirements.    \n",
       "<mark class=\"entity\" style=\"background: #ffd966; padding: 0.45em 0.6em; margin: 0 0.25em; line-height: 1; border-radius: 0.35em;\">\n",
       "    Communicated\n",
       "    <span style=\"font-size: 0.8em; font-weight: bold; line-height: 1; border-radius: 0.35em; vertical-align: middle; margin-left: 0.5rem\">ORG</span>\n",
       "</mark>\n",
       " clearly and positively with co-workers and management.    Worked well with teammates and openly invited coaching from the management team.    Followed all established restaurant practices and procedures.           \n",
       "<mark class=\"entity\" style=\"background: #ffd966; padding: 0.45em 0.6em; margin: 0 0.25em; line-height: 1; border-radius: 0.35em;\">\n",
       "    Education\n",
       "    <span style=\"font-size: 0.8em; font-weight: bold; line-height: 1; border-radius: 0.35em; vertical-align: middle; margin-left: 0.5rem\">ORG</span>\n",
       "</mark>\n",
       "     \n",
       "<mark class=\"entity\" style=\"background: #c27ba0; padding: 0.45em 0.6em; margin: 0 0.25em; line-height: 1; border-radius: 0.35em;\">\n",
       "    2011\n",
       "    <span style=\"font-size: 0.8em; font-weight: bold; line-height: 1; border-radius: 0.35em; vertical-align: middle; margin-left: 0.5rem\">DATE</span>\n",
       "</mark>\n",
       "     \n",
       "<mark class=\"entity\" style=\"background: #e06666; padding: 0.45em 0.6em; margin: 0 0.25em; line-height: 1; border-radius: 0.35em;\">\n",
       "    William M Davies\n",
       "    <span style=\"font-size: 0.8em; font-weight: bold; line-height: 1; border-radius: 0.35em; vertical-align: middle; margin-left: 0.5rem\">PERSON</span>\n",
       "</mark>\n",
       " Career &amp; Tech   －   City  ,   \n",
       "<mark class=\"entity\" style=\"background: #ffd966; padding: 0.45em 0.6em; margin: 0 0.25em; line-height: 1; border-radius: 0.35em;\">\n",
       "    State\n",
       "    <span style=\"font-size: 0.8em; font-weight: bold; line-height: 1; border-radius: 0.35em; vertical-align: middle; margin-left: 0.5rem\">ORG</span>\n",
       "</mark>\n",
       "  ,   \n",
       "<mark class=\"entity\" style=\"background: #9fc5e8; padding: 0.45em 0.6em; margin: 0 0.25em; line-height: 1; border-radius: 0.35em;\">\n",
       "    USA\n",
       "    <span style=\"font-size: 0.8em; font-weight: bold; line-height: 1; border-radius: 0.35em; vertical-align: middle; margin-left: 0.5rem\">GPE</span>\n",
       "</mark>\n",
       "    High School Diploma  :   Culinary/ \n",
       "<mark class=\"entity\" style=\"background: #f9cb9c; padding: 0.45em 0.6em; margin: 0 0.25em; line-height: 1; border-radius: 0.35em;\">\n",
       "    Auto Body       Courses\n",
       "    <span style=\"font-size: 0.8em; font-weight: bold; line-height: 1; border-radius: 0.35em; vertical-align: middle; margin-left: 0.5rem\">PRODUCT</span>\n",
       "</mark>\n",
       " in \n",
       "<mark class=\"entity\" style=\"background: #ffd966; padding: 0.45em 0.6em; margin: 0 0.25em; line-height: 1; border-radius: 0.35em;\">\n",
       "    Hospitality and Restaurant Management\n",
       "    <span style=\"font-size: 0.8em; font-weight: bold; line-height: 1; border-radius: 0.35em; vertical-align: middle; margin-left: 0.5rem\">ORG</span>\n",
       "</mark>\n",
       "    Classes in Restaurant and Facility Operations     Basic Vocational : Prep Cook    Courses in: Food Preparation, Kitchen Management,\n",
       "<mark class=\"entity\" style=\"background: #ffd966; padding: 0.45em 0.6em; margin: 0 0.25em; line-height: 1; border-radius: 0.35em;\">\n",
       "    Patisserie and Confectionery\n",
       "    <span style=\"font-size: 0.8em; font-weight: bold; line-height: 1; border-radius: 0.35em; vertical-align: middle; margin-left: 0.5rem\">ORG</span>\n",
       "</mark>\n",
       ", International Cuisine        </div></span>"
      ],
      "text/plain": [
       "<IPython.core.display.HTML object>"
      ]
     },
     "metadata": {},
     "output_type": "display_data"
    }
   ],
   "source": [
    "# options=[{\"ents\": \"Job-Category\", \"colors\": \"#ff3232\"},{\"ents\": \"SKILL\", \"colors\": \"#56c426\"}]\n",
    "colors = {\n",
    "    \"Job-Category\": \"linear-gradient(90deg, #aa9cfc, #fc9ce7)\",\n",
    "    \"SKILL\": \"linear-gradient(90deg, #9BE15D, #00E3AE)\",\n",
    "    \"ORG\": \"#ffd966\",\n",
    "    \"PERSON\": \"#e06666\",\n",
    "    \"GPE\": \"#9fc5e8\",\n",
    "    \"DATE\": \"#c27ba0\",\n",
    "    \"ORDINAL\": \"#674ea7\",\n",
    "    \"PRODUCT\": \"#f9cb9c\",\n",
    "}\n",
    "options = {\n",
    "    \"ents\": [\n",
    "        \"Job-Category\",\n",
    "        \"SKILL\",\n",
    "        \"ORG\",\n",
    "        \"PERSON\",\n",
    "        \"GPE\",\n",
    "        \"DATE\",\n",
    "        \"ORDINAL\",\n",
    "        \"PRODUCT\",\n",
    "    ],\n",
    "    \"colors\": colors,\n",
    "}\n",
    "sent = nlp(data[\"Resume_str\"].iloc[5])\n",
    "displacy.render(sent, style=\"ent\", jupyter=True, options=options)"
   ]
  },
  {
   "attachments": {},
   "cell_type": "markdown",
   "metadata": {},
   "source": [
    "## **Resume Analysis**"
   ]
  },
  {
   "attachments": {},
   "cell_type": "markdown",
   "metadata": {},
   "source": [
    "## **Single Resume Analyzer**\n"
   ]
  },
  {
   "cell_type": "code",
   "execution_count": null,
   "metadata": {},
   "outputs": [
    {
     "data": {
      "text/html": [
       "<span class=\"tex2jax_ignore\"><div class=\"entities\" style=\"line-height: 2.5; direction: ltr\"> </br>   MUHAMMAD UMER WASI  \n",
       "     SOFTWARE ENGINEER  </br> </br> </br>As a highly motivated \n",
       "<mark class=\"entity\" style=\"background: linear-gradient(90deg, #9BE15D, #00E3AE); padding: 0.45em 0.6em; margin: 0 0.25em; line-height: 1; border-radius: 0.35em;\">\n",
       "    software\n",
       "    <span style=\"font-size: 0.8em; font-weight: bold; line-height: 1; border-radius: 0.35em; vertical-align: middle; margin-left: 0.5rem\">SKILL</span>\n",
       "</mark>\n",
       " aspirant, my objective is to leverage my </br>passion for \n",
       "<mark class=\"entity\" style=\"background: linear-gradient(90deg, #9BE15D, #00E3AE); padding: 0.45em 0.6em; margin: 0 0.25em; line-height: 1; border-radius: 0.35em;\">\n",
       "    software\n",
       "    <span style=\"font-size: 0.8em; font-weight: bold; line-height: 1; border-radius: 0.35em; vertical-align: middle; margin-left: 0.5rem\">SKILL</span>\n",
       "</mark>\n",
       " development and pursue a successful career  in this </br>industry. I am dedicated to continuously improving my skills and knowledge </br>through ongoing learning and development opportunities. With a strong </br>desire to succeed and a commitment to excellence, I am eager to contribute </br>my expertise and \n",
       "<mark class=\"entity\" style=\"background: #ffd966; padding: 0.45em 0.6em; margin: 0 0.25em; line-height: 1; border-radius: 0.35em;\">\n",
       "    collaborat\n",
       "    <span style=\"font-size: 0.8em; font-weight: bold; line-height: 1; border-radius: 0.35em; vertical-align: middle; margin-left: 0.5rem\">ORG</span>\n",
       "</mark>\n",
       " e with a dynamic team to achieve shared goals. </br>I am seeking a challenging role that will enable me to utilize my skills and </br>expand my capabi lities in the \n",
       "<mark class=\"entity\" style=\"background: linear-gradient(90deg, #9BE15D, #00E3AE); padding: 0.45em 0.6em; margin: 0 0.25em; line-height: 1; border-radius: 0.35em;\">\n",
       "    software\n",
       "    <span style=\"font-size: 0.8em; font-weight: bold; line-height: 1; border-radius: 0.35em; vertical-align: middle; margin-left: 0.5rem\">SKILL</span>\n",
       "</mark>\n",
       " industry  </br>EDUCATION  </br> Bachelor of Science in \n",
       "<mark class=\"entity\" style=\"background: linear-gradient(90deg, #9BE15D, #00E3AE); padding: 0.45em 0.6em; margin: 0 0.25em; line-height: 1; border-radius: 0.35em;\">\n",
       "    Computer Science\n",
       "    <span style=\"font-size: 0.8em; font-weight: bold; line-height: 1; border-radius: 0.35em; vertical-align: middle; margin-left: 0.5rem\">SKILL</span>\n",
       "</mark>\n",
       " (\n",
       "<mark class=\"entity\" style=\"background: #ffd966; padding: 0.45em 0.6em; margin: 0 0.25em; line-height: 1; border-radius: 0.35em;\">\n",
       "    BSCS\n",
       "    <span style=\"font-size: 0.8em; font-weight: bold; line-height: 1; border-radius: 0.35em; vertical-align: middle; margin-left: 0.5rem\">ORG</span>\n",
       "</mark>\n",
       ") from \n",
       "<mark class=\"entity\" style=\"background: #ffd966; padding: 0.45em 0.6em; margin: 0 0.25em; line-height: 1; border-radius: 0.35em;\">\n",
       "    Fast NUCES\n",
       "    <span style=\"font-size: 0.8em; font-weight: bold; line-height: 1; border-radius: 0.35em; vertical-align: middle; margin-left: 0.5rem\">ORG</span>\n",
       "</mark>\n",
       ", </br>\n",
       "<mark class=\"entity\" style=\"background: #9fc5e8; padding: 0.45em 0.6em; margin: 0 0.25em; line-height: 1; border-radius: 0.35em;\">\n",
       "    Karachi\n",
       "    <span style=\"font-size: 0.8em; font-weight: bold; line-height: 1; border-radius: 0.35em; vertical-align: middle; margin-left: 0.5rem\">GPE</span>\n",
       "</mark>\n",
       " (\n",
       "<mark class=\"entity\" style=\"background: #c27ba0; padding: 0.45em 0.6em; margin: 0 0.25em; line-height: 1; border-radius: 0.35em;\">\n",
       "    September 2020 - Present\n",
       "    <span style=\"font-size: 0.8em; font-weight: bold; line-height: 1; border-radius: 0.35em; vertical-align: middle; margin-left: 0.5rem\">DATE</span>\n",
       "</mark>\n",
       ")   </br> Currently in \n",
       "<mark class=\"entity\" style=\"background: #674ea7; padding: 0.45em 0.6em; margin: 0 0.25em; line-height: 1; border-radius: 0.35em;\">\n",
       "    6th\n",
       "    <span style=\"font-size: 0.8em; font-weight: bold; line-height: 1; border-radius: 0.35em; vertical-align: middle; margin-left: 0.5rem\">ORDINAL</span>\n",
       "</mark>\n",
       " semester with a 3.1 \n",
       "<mark class=\"entity\" style=\"background: #ffd966; padding: 0.45em 0.6em; margin: 0 0.25em; line-height: 1; border-radius: 0.35em;\">\n",
       "    CGPA\n",
       "    <span style=\"font-size: 0.8em; font-weight: bold; line-height: 1; border-radius: 0.35em; vertical-align: middle; margin-left: 0.5rem\">ORG</span>\n",
       "</mark>\n",
       "  </br> Bachelor of Science in \n",
       "<mark class=\"entity\" style=\"background: linear-gradient(90deg, #9BE15D, #00E3AE); padding: 0.45em 0.6em; margin: 0 0.25em; line-height: 1; border-radius: 0.35em;\">\n",
       "    Computer Science\n",
       "    <span style=\"font-size: 0.8em; font-weight: bold; line-height: 1; border-radius: 0.35em; vertical-align: middle; margin-left: 0.5rem\">SKILL</span>\n",
       "</mark>\n",
       " (\n",
       "<mark class=\"entity\" style=\"background: #ffd966; padding: 0.45em 0.6em; margin: 0 0.25em; line-height: 1; border-radius: 0.35em;\">\n",
       "    BSCS\n",
       "    <span style=\"font-size: 0.8em; font-weight: bold; line-height: 1; border-radius: 0.35em; vertical-align: middle; margin-left: 0.5rem\">ORG</span>\n",
       "</mark>\n",
       ") from \n",
       "<mark class=\"entity\" style=\"background: #ffd966; padding: 0.45em 0.6em; margin: 0 0.25em; line-height: 1; border-radius: 0.35em;\">\n",
       "    Adamje\n",
       "    <span style=\"font-size: 0.8em; font-weight: bold; line-height: 1; border-radius: 0.35em; vertical-align: middle; margin-left: 0.5rem\">ORG</span>\n",
       "</mark>\n",
       " e </br>\n",
       "<mark class=\"entity\" style=\"background: #ffd966; padding: 0.45em 0.6em; margin: 0 0.25em; line-height: 1; border-radius: 0.35em;\">\n",
       "    Govt Science College\n",
       "    <span style=\"font-size: 0.8em; font-weight: bold; line-height: 1; border-radius: 0.35em; vertical-align: middle; margin-left: 0.5rem\">ORG</span>\n",
       "</mark>\n",
       ", \n",
       "<mark class=\"entity\" style=\"background: #9fc5e8; padding: 0.45em 0.6em; margin: 0 0.25em; line-height: 1; border-radius: 0.35em;\">\n",
       "    Karachi\n",
       "    <span style=\"font-size: 0.8em; font-weight: bold; line-height: 1; border-radius: 0.35em; vertical-align: middle; margin-left: 0.5rem\">GPE</span>\n",
       "</mark>\n",
       " (\n",
       "<mark class=\"entity\" style=\"background: #c27ba0; padding: 0.45em 0.6em; margin: 0 0.25em; line-height: 1; border-radius: 0.35em;\">\n",
       "    September 2018 - September 2020\n",
       "    <span style=\"font-size: 0.8em; font-weight: bold; line-height: 1; border-radius: 0.35em; vertical-align: middle; margin-left: 0.5rem\">DATE</span>\n",
       "</mark>\n",
       ")    </br>Obtained an AONE Grade  </br>EXPERIENCE  </br> Sayabidevs Pvt LTD, \n",
       "<mark class=\"entity\" style=\"background: #e06666; padding: 0.45em 0.6em; margin: 0 0.25em; line-height: 1; border-radius: 0.35em;\">\n",
       "    Remot\n",
       "    <span style=\"font-size: 0.8em; font-weight: bold; line-height: 1; border-radius: 0.35em; vertical-align: middle; margin-left: 0.5rem\">PERSON</span>\n",
       "</mark>\n",
       " e — \n",
       "<mark class=\"entity\" style=\"background: #ffd966; padding: 0.45em 0.6em; margin: 0 0.25em; line-height: 1; border-radius: 0.35em;\">\n",
       "    Data Science\n",
       "    <span style=\"font-size: 0.8em; font-weight: bold; line-height: 1; border-radius: 0.35em; vertical-align: middle; margin-left: 0.5rem\">ORG</span>\n",
       "</mark>\n",
       " And \n",
       "<mark class=\"entity\" style=\"background: #ffd966; padding: 0.45em 0.6em; margin: 0 0.25em; line-height: 1; border-radius: 0.35em;\">\n",
       "    AI Internship\n",
       "    <span style=\"font-size: 0.8em; font-weight: bold; line-height: 1; border-radius: 0.35em; vertical-align: middle; margin-left: 0.5rem\">ORG</span>\n",
       "</mark>\n",
       ", </br>\n",
       "<mark class=\"entity\" style=\"background: #c27ba0; padding: 0.45em 0.6em; margin: 0 0.25em; line-height: 1; border-radius: 0.35em;\">\n",
       "    May 2022 - Feb 2023\n",
       "    <span style=\"font-size: 0.8em; font-weight: bold; line-height: 1; border-radius: 0.35em; vertical-align: middle; margin-left: 0.5rem\">DATE</span>\n",
       "</mark>\n",
       "  —Completed four projects in \n",
       "<mark class=\"entity\" style=\"background: #ffd966; padding: 0.45em 0.6em; margin: 0 0.25em; line-height: 1; border-radius: 0.35em;\">\n",
       "    the Data \n",
       "Science Internship\n",
       "    <span style=\"font-size: 0.8em; font-weight: bold; line-height: 1; border-radius: 0.35em; vertical-align: middle; margin-left: 0.5rem\">ORG</span>\n",
       "</mark>\n",
       " program, utilizing \n",
       "<mark class=\"entity\" style=\"background: #ffd966; padding: 0.45em 0.6em; margin: 0 0.25em; line-height: 1; border-radius: 0.35em;\">\n",
       "    Natural Language Processing\n",
       "    <span style=\"font-size: 0.8em; font-weight: bold; line-height: 1; border-radius: 0.35em; vertical-align: middle; margin-left: 0.5rem\">ORG</span>\n",
       "</mark>\n",
       " </br>(\n",
       "<mark class=\"entity\" style=\"background: linear-gradient(90deg, #9BE15D, #00E3AE); padding: 0.45em 0.6em; margin: 0 0.25em; line-height: 1; border-radius: 0.35em;\">\n",
       "    NLP\n",
       "    <span style=\"font-size: 0.8em; font-weight: bold; line-height: 1; border-radius: 0.35em; vertical-align: middle; margin-left: 0.5rem\">SKILL</span>\n",
       "</mark>\n",
       ") for the development of a chatbot, a fake news classifier, and </br>a sales prediction model.  </br> Suven Consultants And \n",
       "<mark class=\"entity\" style=\"background: #ffd966; padding: 0.45em 0.6em; margin: 0 0.25em; line-height: 1; border-radius: 0.35em;\">\n",
       "    Technology Pvt LTD\n",
       "    <span style=\"font-size: 0.8em; font-weight: bold; line-height: 1; border-radius: 0.35em; vertical-align: middle; margin-left: 0.5rem\">ORG</span>\n",
       "</mark>\n",
       ", \n",
       "<mark class=\"entity\" style=\"background: #ffd966; padding: 0.45em 0.6em; margin: 0 0.25em; line-height: 1; border-radius: 0.35em;\">\n",
       "    Remote — Data \n",
       "Science\n",
       "    <span style=\"font-size: 0.8em; font-weight: bold; line-height: 1; border-radius: 0.35em; vertical-align: middle; margin-left: 0.5rem\">ORG</span>\n",
       "</mark>\n",
       " (\n",
       "<mark class=\"entity\" style=\"background: linear-gradient(90deg, #9BE15D, #00E3AE); padding: 0.45em 0.6em; margin: 0 0.25em; line-height: 1; border-radius: 0.35em;\">\n",
       "    NLP\n",
       "    <span style=\"font-size: 0.8em; font-weight: bold; line-height: 1; border-radius: 0.35em; vertical-align: middle; margin-left: 0.5rem\">SKILL</span>\n",
       "</mark>\n",
       ") Internship , \n",
       "<mark class=\"entity\" style=\"background: #c27ba0; padding: 0.45em 0.6em; margin: 0 0.25em; line-height: 1; border-radius: 0.35em;\">\n",
       "    May 2022 - April 2022\n",
       "    <span style=\"font-size: 0.8em; font-weight: bold; line-height: 1; border-radius: 0.35em; vertical-align: middle; margin-left: 0.5rem\">DATE</span>\n",
       "</mark>\n",
       " — Participated in </br>a two -week \n",
       "<mark class=\"entity\" style=\"background: #ffd966; padding: 0.45em 0.6em; margin: 0 0.25em; line-height: 1; border-radius: 0.35em;\">\n",
       "    Data Science Internship\n",
       "    <span style=\"font-size: 0.8em; font-weight: bold; line-height: 1; border-radius: 0.35em; vertical-align: middle; margin-left: 0.5rem\">ORG</span>\n",
       "</mark>\n",
       " program, implementing \n",
       "<mark class=\"entity\" style=\"background: #ffd966; padding: 0.45em 0.6em; margin: 0 0.25em; line-height: 1; border-radius: 0.35em;\">\n",
       "    NLP\n",
       "    <span style=\"font-size: 0.8em; font-weight: bold; line-height: 1; border-radius: 0.35em; vertical-align: middle; margin-left: 0.5rem\">ORG</span>\n",
       "</mark>\n",
       " </br>on an \n",
       "<mark class=\"entity\" style=\"background: #ffd966; padding: 0.45em 0.6em; margin: 0 0.25em; line-height: 1; border-radius: 0.35em;\">\n",
       "    IBM\n",
       "    <span style=\"font-size: 0.8em; font-weight: bold; line-height: 1; border-radius: 0.35em; vertical-align: middle; margin-left: 0.5rem\">ORG</span>\n",
       "</mark>\n",
       " movie review dataset and achieving an 80+ score in the </br>final \n",
       "<mark class=\"entity\" style=\"background: #ffd966; padding: 0.45em 0.6em; margin: 0 0.25em; line-height: 1; border-radius: 0.35em;\">\n",
       "    asse\n",
       "    <span style=\"font-size: 0.8em; font-weight: bold; line-height: 1; border-radius: 0.35em; vertical-align: middle; margin-left: 0.5rem\">ORG</span>\n",
       "</mark>\n",
       " ssment.  </br> \n",
       "<mark class=\"entity\" style=\"background: linear-gradient(90deg, #9BE15D, #00E3AE); padding: 0.45em 0.6em; margin: 0 0.25em; line-height: 1; border-radius: 0.35em;\">\n",
       "    Google\n",
       "    <span style=\"font-size: 0.8em; font-weight: bold; line-height: 1; border-radius: 0.35em; vertical-align: middle; margin-left: 0.5rem\">SKILL</span>\n",
       "</mark>\n",
       " Developer Students Club, \n",
       "<mark class=\"entity\" style=\"background: #9fc5e8; padding: 0.45em 0.6em; margin: 0 0.25em; line-height: 1; border-radius: 0.35em;\">\n",
       "    Karachi\n",
       "    <span style=\"font-size: 0.8em; font-weight: bold; line-height: 1; border-radius: 0.35em; vertical-align: middle; margin-left: 0.5rem\">GPE</span>\n",
       "</mark>\n",
       " — \n",
       "<mark class=\"entity\" style=\"background: linear-gradient(90deg, #9BE15D, #00E3AE); padding: 0.45em 0.6em; margin: 0 0.25em; line-height: 1; border-radius: 0.35em;\">\n",
       "    Data Science\n",
       "    <span style=\"font-size: 0.8em; font-weight: bold; line-height: 1; border-radius: 0.35em; vertical-align: middle; margin-left: 0.5rem\">SKILL</span>\n",
       "</mark>\n",
       " </br>Instructor, \n",
       "<mark class=\"entity\" style=\"background: #c27ba0; padding: 0.45em 0.6em; margin: 0 0.25em; line-height: 1; border-radius: 0.35em;\">\n",
       "    Feb 2022\n",
       "    <span style=\"font-size: 0.8em; font-weight: bold; line-height: 1; border-radius: 0.35em; vertical-align: middle; margin-left: 0.5rem\">DATE</span>\n",
       "</mark>\n",
       " – \n",
       "<mark class=\"entity\" style=\"background: #c27ba0; padding: 0.45em 0.6em; margin: 0 0.25em; line-height: 1; border-radius: 0.35em;\">\n",
       "    Nov 2022\n",
       "    <span style=\"font-size: 0.8em; font-weight: bold; line-height: 1; border-radius: 0.35em; vertical-align: middle; margin-left: 0.5rem\">DATE</span>\n",
       "</mark>\n",
       " — Instructed core \n",
       "<mark class=\"entity\" style=\"background: linear-gradient(90deg, #9BE15D, #00E3AE); padding: 0.45em 0.6em; margin: 0 0.25em; line-height: 1; border-radius: 0.35em;\">\n",
       "    data analysis\n",
       "    <span style=\"font-size: 0.8em; font-weight: bold; line-height: 1; border-radius: 0.35em; vertical-align: middle; margin-left: 0.5rem\">SKILL</span>\n",
       "</mark>\n",
       " </br>and manipulation to \n",
       "<mark class=\"entity\" style=\"background: #ffd966; padding: 0.45em 0.6em; margin: 0 0.25em; line-height: 1; border-radius: 0.35em;\">\n",
       "    GDSC\n",
       "    <span style=\"font-size: 0.8em; font-weight: bold; line-height: 1; border-radius: 0.35em; vertical-align: middle; margin-left: 0.5rem\">ORG</span>\n",
       "</mark>\n",
       " learners.  </br> Fast Nuces Karachi — Teaching Assistant, \n",
       "<mark class=\"entity\" style=\"background: #c27ba0; padding: 0.45em 0.6em; margin: 0 0.25em; line-height: 1; border-radius: 0.35em;\">\n",
       "    Jan 2022\n",
       "    <span style=\"font-size: 0.8em; font-weight: bold; line-height: 1; border-radius: 0.35em; vertical-align: middle; margin-left: 0.5rem\">DATE</span>\n",
       "</mark>\n",
       " – \n",
       "<mark class=\"entity\" style=\"background: #c27ba0; padding: 0.45em 0.6em; margin: 0 0.25em; line-height: 1; border-radius: 0.35em;\">\n",
       "    July 2022\n",
       "    <span style=\"font-size: 0.8em; font-weight: bold; line-height: 1; border-radius: 0.35em; vertical-align: middle; margin-left: 0.5rem\">DATE</span>\n",
       "</mark>\n",
       "  </br>Assisted in teaching core data ana lysis and manipulation.  </br> Data Glacier, \n",
       "<mark class=\"entity\" style=\"background: #ffd966; padding: 0.45em 0.6em; margin: 0 0.25em; line-height: 1; border-radius: 0.35em;\">\n",
       "    Remote — Data Science Internship\n",
       "    <span style=\"font-size: 0.8em; font-weight: bold; line-height: 1; border-radius: 0.35em; vertical-align: middle; margin-left: 0.5rem\">ORG</span>\n",
       "</mark>\n",
       ", \n",
       "<mark class=\"entity\" style=\"background: #c27ba0; padding: 0.45em 0.6em; margin: 0 0.25em; line-height: 1; border-radius: 0.35em;\">\n",
       "    July 2021 - \n",
       "\n",
       "    <span style=\"font-size: 0.8em; font-weight: bold; line-height: 1; border-radius: 0.35em; vertical-align: middle; margin-left: 0.5rem\">DATE</span>\n",
       "</mark>\n",
       "\n",
       "<mark class=\"entity\" style=\"background: #c27ba0; padding: 0.45em 0.6em; margin: 0 0.25em; line-height: 1; border-radius: 0.35em;\">\n",
       "    October 2021\n",
       "    <span style=\"font-size: 0.8em; font-weight: bold; line-height: 1; border-radius: 0.35em; vertical-align: middle; margin-left: 0.5rem\">DATE</span>\n",
       "</mark>\n",
       "  — Performed \n",
       "<mark class=\"entity\" style=\"background: linear-gradient(90deg, #9BE15D, #00E3AE); padding: 0.45em 0.6em; margin: 0 0.25em; line-height: 1; border-radius: 0.35em;\">\n",
       "    data science\n",
       "    <span style=\"font-size: 0.8em; font-weight: bold; line-height: 1; border-radius: 0.35em; vertical-align: middle; margin-left: 0.5rem\">SKILL</span>\n",
       "</mark>\n",
       " tasks as part of an </br>internship program.  </br>TECHNICAL SKILLS  </br> Problem Solving Proficient in analyzing complex problems and </br>developing effective solutions through logical and analytical </br>thinking.  </br> \n",
       "<mark class=\"entity\" style=\"background: linear-gradient(90deg, #9BE15D, #00E3AE); padding: 0.45em 0.6em; margin: 0 0.25em; line-height: 1; border-radius: 0.35em;\">\n",
       "    Data Analysis\n",
       "    <span style=\"font-size: 0.8em; font-weight: bold; line-height: 1; border-radius: 0.35em; vertical-align: middle; margin-left: 0.5rem\">SKILL</span>\n",
       "</mark>\n",
       " Skilled in collecting, organizing, and interpreting </br>data using various tools and techniques to provide meaningful </br>insights.  </br> Web Development Experienced in designing and developing </br>responsive web applications using \n",
       "<mark class=\"entity\" style=\"background: linear-gradient(90deg, #9BE15D, #00E3AE); padding: 0.45em 0.6em; margin: 0 0.25em; line-height: 1; border-radius: 0.35em;\">\n",
       "    HTML\n",
       "    <span style=\"font-size: 0.8em; font-weight: bold; line-height: 1; border-radius: 0.35em; vertical-align: middle; margin-left: 0.5rem\">SKILL</span>\n",
       "</mark>\n",
       ", \n",
       "<mark class=\"entity\" style=\"background: linear-gradient(90deg, #9BE15D, #00E3AE); padding: 0.45em 0.6em; margin: 0 0.25em; line-height: 1; border-radius: 0.35em;\">\n",
       "    CSS\n",
       "    <span style=\"font-size: 0.8em; font-weight: bold; line-height: 1; border-radius: 0.35em; vertical-align: middle; margin-left: 0.5rem\">SKILL</span>\n",
       "</mark>\n",
       ", \n",
       "<mark class=\"entity\" style=\"background: #f9cb9c; padding: 0.45em 0.6em; margin: 0 0.25em; line-height: 1; border-radius: 0.35em;\">\n",
       "    JavaScript\n",
       "    <span style=\"font-size: 0.8em; font-weight: bold; line-height: 1; border-radius: 0.35em; vertical-align: middle; margin-left: 0.5rem\">PRODUCT</span>\n",
       "</mark>\n",
       ", and </br>\n",
       "<mark class=\"entity\" style=\"background: linear-gradient(90deg, #9BE15D, #00E3AE); padding: 0.45em 0.6em; margin: 0 0.25em; line-height: 1; border-radius: 0.35em;\">\n",
       "    jQuery\n",
       "    <span style=\"font-size: 0.8em; font-weight: bold; line-height: 1; border-radius: 0.35em; vertical-align: middle; margin-left: 0.5rem\">SKILL</span>\n",
       "</mark>\n",
       ".  </br> \n",
       "<mark class=\"entity\" style=\"background: linear-gradient(90deg, #9BE15D, #00E3AE); padding: 0.45em 0.6em; margin: 0 0.25em; line-height: 1; border-radius: 0.35em;\">\n",
       "    Natural Language Processing\n",
       "    <span style=\"font-size: 0.8em; font-weight: bold; line-height: 1; border-radius: 0.35em; vertical-align: middle; margin-left: 0.5rem\">SKILL</span>\n",
       "</mark>\n",
       " Familiar with \n",
       "<mark class=\"entity\" style=\"background: linear-gradient(90deg, #9BE15D, #00E3AE); padding: 0.45em 0.6em; margin: 0 0.25em; line-height: 1; border-radius: 0.35em;\">\n",
       "    NLP\n",
       "    <span style=\"font-size: 0.8em; font-weight: bold; line-height: 1; border-radius: 0.35em; vertical-align: middle; margin-left: 0.5rem\">SKILL</span>\n",
       "</mark>\n",
       " techniques for </br>text analysis, classification, and \n",
       "<mark class=\"entity\" style=\"background: linear-gradient(90deg, #9BE15D, #00E3AE); padding: 0.45em 0.6em; margin: 0 0.25em; line-height: 1; border-radius: 0.35em;\">\n",
       "    sentiment analysis\n",
       "    <span style=\"font-size: 0.8em; font-weight: bold; line-height: 1; border-radius: 0.35em; vertical-align: middle; margin-left: 0.5rem\">SKILL</span>\n",
       "</mark>\n",
       " using \n",
       "<mark class=\"entity\" style=\"background: linear-gradient(90deg, #9BE15D, #00E3AE); padding: 0.45em 0.6em; margin: 0 0.25em; line-height: 1; border-radius: 0.35em;\">\n",
       "    Python\n",
       "    <span style=\"font-size: 0.8em; font-weight: bold; line-height: 1; border-radius: 0.35em; vertical-align: middle; margin-left: 0.5rem\">SKILL</span>\n",
       "</mark>\n",
       " </br>\n",
       "<mark class=\"entity\" style=\"background: linear-gradient(90deg, #9BE15D, #00E3AE); padding: 0.45em 0.6em; margin: 0 0.25em; line-height: 1; border-radius: 0.35em;\">\n",
       "    libraries\n",
       "    <span style=\"font-size: 0.8em; font-weight: bold; line-height: 1; border-radius: 0.35em; vertical-align: middle; margin-left: 0.5rem\">SKILL</span>\n",
       "</mark>\n",
       " such as NLTK and spaCy.  </br> MERN Stack Proficient in developing web applications using the </br>MERN (\n",
       "<mark class=\"entity\" style=\"background: linear-gradient(90deg, #9BE15D, #00E3AE); padding: 0.45em 0.6em; margin: 0 0.25em; line-height: 1; border-radius: 0.35em;\">\n",
       "    MongoDB\n",
       "    <span style=\"font-size: 0.8em; font-weight: bold; line-height: 1; border-radius: 0.35em; vertical-align: middle; margin-left: 0.5rem\">SKILL</span>\n",
       "</mark>\n",
       ", \n",
       "<mark class=\"entity\" style=\"background: #ffd966; padding: 0.45em 0.6em; margin: 0 0.25em; line-height: 1; border-radius: 0.35em;\">\n",
       "    Express\n",
       "    <span style=\"font-size: 0.8em; font-weight: bold; line-height: 1; border-radius: 0.35em; vertical-align: middle; margin-left: 0.5rem\">ORG</span>\n",
       "</mark>\n",
       ", \n",
       "<mark class=\"entity\" style=\"background: #9fc5e8; padding: 0.45em 0.6em; margin: 0 0.25em; line-height: 1; border-radius: 0.35em;\">\n",
       "    React\n",
       "    <span style=\"font-size: 0.8em; font-weight: bold; line-height: 1; border-radius: 0.35em; vertical-align: middle; margin-left: 0.5rem\">GPE</span>\n",
       "</mark>\n",
       ", \n",
       "<mark class=\"entity\" style=\"background: linear-gradient(90deg, #9BE15D, #00E3AE); padding: 0.45em 0.6em; margin: 0 0.25em; line-height: 1; border-radius: 0.35em;\">\n",
       "    Node.js\n",
       "    <span style=\"font-size: 0.8em; font-weight: bold; line-height: 1; border-radius: 0.35em; vertical-align: middle; margin-left: 0.5rem\">SKILL</span>\n",
       "</mark>\n",
       ") stack.  </br> \n",
       "<mark class=\"entity\" style=\"background: #ffd966; padding: 0.45em 0.6em; margin: 0 0.25em; line-height: 1; border-radius: 0.35em;\">\n",
       "    A-464\n",
       "    <span style=\"font-size: 0.8em; font-weight: bold; line-height: 1; border-radius: 0.35em; vertical-align: middle; margin-left: 0.5rem\">ORG</span>\n",
       "</mark>\n",
       " sector 14 B North Na zimabad  \n",
       "<mark class=\"entity\" style=\"background: #9fc5e8; padding: 0.45em 0.6em; margin: 0 0.25em; line-height: 1; border-radius: 0.35em;\">\n",
       "    Karachi\n",
       "    <span style=\"font-size: 0.8em; font-weight: bold; line-height: 1; border-radius: 0.35em; vertical-align: middle; margin-left: 0.5rem\">GPE</span>\n",
       "</mark>\n",
       " , 75850      </br>03343068546      </br>\n",
       "<mark class=\"entity\" style=\"background: #9fc5e8; padding: 0.45em 0.6em; margin: 0 0.25em; line-height: 1; border-radius: 0.35em;\">\n",
       "    umerwasi1234\n",
       "    <span style=\"font-size: 0.8em; font-weight: bold; line-height: 1; border-radius: 0.35em; vertical-align: middle; margin-left: 0.5rem\">GPE</span>\n",
       "</mark>\n",
       " \n",
       "<mark class=\"entity\" style=\"background: #ffd966; padding: 0.45em 0.6em; margin: 0 0.25em; line-height: 1; border-radius: 0.35em;\">\n",
       "    @gmail.com\n",
       "    <span style=\"font-size: 0.8em; font-weight: bold; line-height: 1; border-radius: 0.35em; vertical-align: middle; margin-left: 0.5rem\">ORG</span>\n",
       "</mark>\n",
       "  </br>https://www.lin kedin.com/in/muhammad -umer -wasi/      </br> </br>PROJECTS  </br>ACADEMIC PROJECTS  </br> Carpool Management System (\n",
       "<mark class=\"entity\" style=\"background: #ffd966; padding: 0.45em 0.6em; margin: 0 0.25em; line-height: 1; border-radius: 0.35em;\">\n",
       "    MERN\n",
       "    <span style=\"font-size: 0.8em; font-weight: bold; line-height: 1; border-radius: 0.35em; vertical-align: middle; margin-left: 0.5rem\">ORG</span>\n",
       "</mark>\n",
       ")  Designed and built a fully </br>functional carpooling application using \n",
       "<mark class=\"entity\" style=\"background: linear-gradient(90deg, #9BE15D, #00E3AE); padding: 0.45em 0.6em; margin: 0 0.25em; line-height: 1; border-radius: 0.35em;\">\n",
       "    MongoDB\n",
       "    <span style=\"font-size: 0.8em; font-weight: bold; line-height: 1; border-radius: 0.35em; vertical-align: middle; margin-left: 0.5rem\">SKILL</span>\n",
       "</mark>\n",
       ", \n",
       "<mark class=\"entity\" style=\"background: #ffd966; padding: 0.45em 0.6em; margin: 0 0.25em; line-height: 1; border-radius: 0.35em;\">\n",
       "    Express\n",
       "    <span style=\"font-size: 0.8em; font-weight: bold; line-height: 1; border-radius: 0.35em; vertical-align: middle; margin-left: 0.5rem\">ORG</span>\n",
       "</mark>\n",
       ", \n",
       "<mark class=\"entity\" style=\"background: #9fc5e8; padding: 0.45em 0.6em; margin: 0 0.25em; line-height: 1; border-radius: 0.35em;\">\n",
       "    React\n",
       "    <span style=\"font-size: 0.8em; font-weight: bold; line-height: 1; border-radius: 0.35em; vertical-align: middle; margin-left: 0.5rem\">GPE</span>\n",
       "</mark>\n",
       ", </br>and \n",
       "<mark class=\"entity\" style=\"background: #9fc5e8; padding: 0.45em 0.6em; margin: 0 0.25em; line-height: 1; border-radius: 0.35em;\">\n",
       "    Node.js\n",
       "    <span style=\"font-size: 0.8em; font-weight: bold; line-height: 1; border-radius: 0.35em; vertical-align: middle; margin-left: 0.5rem\">GPE</span>\n",
       "</mark>\n",
       ".  </br> Chain Smoker Problem (\n",
       "<mark class=\"entity\" style=\"background: linear-gradient(90deg, #9BE15D, #00E3AE); padding: 0.45em 0.6em; margin: 0 0.25em; line-height: 1; border-radius: 0.35em;\">\n",
       "    Operating System\n",
       "    <span style=\"font-size: 0.8em; font-weight: bold; line-height: 1; border-radius: 0.35em; vertical-align: middle; margin-left: 0.5rem\">SKILL</span>\n",
       "</mark>\n",
       ")  Developed a </br>\n",
       "<mark class=\"entity\" style=\"background: linear-gradient(90deg, #9BE15D, #00E3AE); padding: 0.45em 0.6em; margin: 0 0.25em; line-height: 1; border-radius: 0.35em;\">\n",
       "    synchronization\n",
       "    <span style=\"font-size: 0.8em; font-weight: bold; line-height: 1; border-radius: 0.35em; vertical-align: middle; margin-left: 0.5rem\">SKILL</span>\n",
       "</mark>\n",
       " mechanism using locks, semaphores, and </br>monitors to solve t he Chain Smoker problem using an Operating </br>System.  </br> Fast \n",
       "<mark class=\"entity\" style=\"background: linear-gradient(90deg, #9BE15D, #00E3AE); padding: 0.45em 0.6em; margin: 0 0.25em; line-height: 1; border-radius: 0.35em;\">\n",
       "    Business Intelligence\n",
       "    <span style=\"font-size: 0.8em; font-weight: bold; line-height: 1; border-radius: 0.35em; vertical-align: middle; margin-left: 0.5rem\">SKILL</span>\n",
       "</mark>\n",
       " \n",
       "<mark class=\"entity\" style=\"background: linear-gradient(90deg, #9BE15D, #00E3AE); padding: 0.45em 0.6em; margin: 0 0.25em; line-height: 1; border-radius: 0.35em;\">\n",
       "    Commerce\n",
       "    <span style=\"font-size: 0.8em; font-weight: bold; line-height: 1; border-radius: 0.35em; vertical-align: middle; margin-left: 0.5rem\">SKILL</span>\n",
       "</mark>\n",
       " System using \n",
       "<mark class=\"entity\" style=\"background: #ffd966; padding: 0.45em 0.6em; margin: 0 0.25em; line-height: 1; border-radius: 0.35em;\">\n",
       "    Kaggle\n",
       "    <span style=\"font-size: 0.8em; font-weight: bold; line-height: 1; border-radius: 0.35em; vertical-align: middle; margin-left: 0.5rem\">ORG</span>\n",
       "</mark>\n",
       " </br>Dataset (\n",
       "<mark class=\"entity\" style=\"background: linear-gradient(90deg, #9BE15D, #00E3AE); padding: 0.45em 0.6em; margin: 0 0.25em; line-height: 1; border-radius: 0.35em;\">\n",
       "    Data Structures\n",
       "    <span style=\"font-size: 0.8em; font-weight: bold; line-height: 1; border-radius: 0.35em; vertical-align: middle; margin-left: 0.5rem\">SKILL</span>\n",
       "</mark>\n",
       " -C++)   Developed a fast and efficient </br>\n",
       "<mark class=\"entity\" style=\"background: linear-gradient(90deg, #9BE15D, #00E3AE); padding: 0.45em 0.6em; margin: 0 0.25em; line-height: 1; border-radius: 0.35em;\">\n",
       "    business intelligence\n",
       "    <span style=\"font-size: 0.8em; font-weight: bold; line-height: 1; border-radius: 0.35em; vertical-align: middle; margin-left: 0.5rem\">SKILL</span>\n",
       "</mark>\n",
       " \n",
       "<mark class=\"entity\" style=\"background: linear-gradient(90deg, #9BE15D, #00E3AE); padding: 0.45em 0.6em; margin: 0 0.25em; line-height: 1; border-radius: 0.35em;\">\n",
       "    commerce\n",
       "    <span style=\"font-size: 0.8em; font-weight: bold; line-height: 1; border-radius: 0.35em; vertical-align: middle; margin-left: 0.5rem\">SKILL</span>\n",
       "</mark>\n",
       " system utilizing a \n",
       "<mark class=\"entity\" style=\"background: #ffd966; padding: 0.45em 0.6em; margin: 0 0.25em; line-height: 1; border-radius: 0.35em;\">\n",
       "    Kaggle\n",
       "    <span style=\"font-size: 0.8em; font-weight: bold; line-height: 1; border-radius: 0.35em; vertical-align: middle; margin-left: 0.5rem\">ORG</span>\n",
       "</mark>\n",
       " dataset </br>and \n",
       "<mark class=\"entity\" style=\"background: linear-gradient(90deg, #9BE15D, #00E3AE); padding: 0.45em 0.6em; margin: 0 0.25em; line-height: 1; border-radius: 0.35em;\">\n",
       "    data structures\n",
       "    <span style=\"font-size: 0.8em; font-weight: bold; line-height: 1; border-radius: 0.35em; vertical-align: middle; margin-left: 0.5rem\">SKILL</span>\n",
       "</mark>\n",
       " in  C++.  </br> Food Ordering and Delivery System (\n",
       "<mark class=\"entity\" style=\"background: linear-gradient(90deg, #9BE15D, #00E3AE); padding: 0.45em 0.6em; margin: 0 0.25em; line-height: 1; border-radius: 0.35em;\">\n",
       "    C++\n",
       "    <span style=\"font-size: 0.8em; font-weight: bold; line-height: 1; border-radius: 0.35em; vertical-align: middle; margin-left: 0.5rem\">SKILL</span>\n",
       "</mark>\n",
       ")  Developed a food </br>ordering and delivery system in C++.  </br> Prison Management System (\n",
       "<mark class=\"entity\" style=\"background: linear-gradient(90deg, #9BE15D, #00E3AE); padding: 0.45em 0.6em; margin: 0 0.25em; line-height: 1; border-radius: 0.35em;\">\n",
       "    C\n",
       "    <span style=\"font-size: 0.8em; font-weight: bold; line-height: 1; border-radius: 0.35em; vertical-align: middle; margin-left: 0.5rem\">SKILL</span>\n",
       "</mark>\n",
       ")  Implemented a prison </br>management system using \n",
       "<mark class=\"entity\" style=\"background: #ffd966; padding: 0.45em 0.6em; margin: 0 0.25em; line-height: 1; border-radius: 0.35em;\">\n",
       "    C.  \n",
       "INTERNSHIP  PROJECTS\n",
       "    <span style=\"font-size: 0.8em; font-weight: bold; line-height: 1; border-radius: 0.35em; vertical-align: middle; margin-left: 0.5rem\">ORG</span>\n",
       "</mark>\n",
       "  </br> Chatbot using NLTK -Python (\n",
       "<mark class=\"entity\" style=\"background: #e06666; padding: 0.45em 0.6em; margin: 0 0.25em; line-height: 1; border-radius: 0.35em;\">\n",
       "    Sayabidevs\n",
       "    <span style=\"font-size: 0.8em; font-weight: bold; line-height: 1; border-radius: 0.35em; vertical-align: middle; margin-left: 0.5rem\">PERSON</span>\n",
       "</mark>\n",
       " ) Developed a chatbot </br>using NLTK and \n",
       "<mark class=\"entity\" style=\"background: linear-gradient(90deg, #9BE15D, #00E3AE); padding: 0.45em 0.6em; margin: 0 0.25em; line-height: 1; border-radius: 0.35em;\">\n",
       "    Python\n",
       "    <span style=\"font-size: 0.8em; font-weight: bold; line-height: 1; border-radius: 0.35em; vertical-align: middle; margin-left: 0.5rem\">SKILL</span>\n",
       "</mark>\n",
       ".  </br> Sentiment Analysis on IMDB dataset - (\n",
       "<mark class=\"entity\" style=\"background: linear-gradient(90deg, #9BE15D, #00E3AE); padding: 0.45em 0.6em; margin: 0 0.25em; line-height: 1; border-radius: 0.35em;\">\n",
       "    NLP\n",
       "    <span style=\"font-size: 0.8em; font-weight: bold; line-height: 1; border-radius: 0.35em; vertical-align: middle; margin-left: 0.5rem\">SKILL</span>\n",
       "</mark>\n",
       " -Python) (\n",
       "<mark class=\"entity\" style=\"background: #ffd966; padding: 0.45em 0.6em; margin: 0 0.25em; line-height: 1; border-radius: 0.35em;\">\n",
       "    Suven \n",
       "Consultants\n",
       "    <span style=\"font-size: 0.8em; font-weight: bold; line-height: 1; border-radius: 0.35em; vertical-align: middle; margin-left: 0.5rem\">ORG</span>\n",
       "</mark>\n",
       ")  Developed a \n",
       "<mark class=\"entity\" style=\"background: linear-gradient(90deg, #9BE15D, #00E3AE); padding: 0.45em 0.6em; margin: 0 0.25em; line-height: 1; border-radius: 0.35em;\">\n",
       "    sentiment analysis\n",
       "    <span style=\"font-size: 0.8em; font-weight: bold; line-height: 1; border-radius: 0.35em; vertical-align: middle; margin-left: 0.5rem\">SKILL</span>\n",
       "</mark>\n",
       " system using the </br>IMDB dataset and \n",
       "<mark class=\"entity\" style=\"background: linear-gradient(90deg, #9BE15D, #00E3AE); padding: 0.45em 0.6em; margin: 0 0.25em; line-height: 1; border-radius: 0.35em;\">\n",
       "    natural language processing\n",
       "    <span style=\"font-size: 0.8em; font-weight: bold; line-height: 1; border-radius: 0.35em; vertical-align: middle; margin-left: 0.5rem\">SKILL</span>\n",
       "</mark>\n",
       " techniques in </br>\n",
       "<mark class=\"entity\" style=\"background: linear-gradient(90deg, #9BE15D, #00E3AE); padding: 0.45em 0.6em; margin: 0 0.25em; line-height: 1; border-radius: 0.35em;\">\n",
       "    Python\n",
       "    <span style=\"font-size: 0.8em; font-weight: bold; line-height: 1; border-radius: 0.35em; vertical-align: middle; margin-left: 0.5rem\">SKILL</span>\n",
       "</mark>\n",
       ".  </br> State -of-the-Art \n",
       "<mark class=\"entity\" style=\"background: linear-gradient(90deg, #9BE15D, #00E3AE); padding: 0.45em 0.6em; margin: 0 0.25em; line-height: 1; border-radius: 0.35em;\">\n",
       "    Sentiment Analysis\n",
       "    <span style=\"font-size: 0.8em; font-weight: bold; line-height: 1; border-radius: 0.35em; vertical-align: middle; margin-left: 0.5rem\">SKILL</span>\n",
       "</mark>\n",
       " (MASM) Imple mented a </br>state -of-the-art \n",
       "<mark class=\"entity\" style=\"background: linear-gradient(90deg, #9BE15D, #00E3AE); padding: 0.45em 0.6em; margin: 0 0.25em; line-height: 1; border-radius: 0.35em;\">\n",
       "    sentiment analysis\n",
       "    <span style=\"font-size: 0.8em; font-weight: bold; line-height: 1; border-radius: 0.35em; vertical-align: middle; margin-left: 0.5rem\">SKILL</span>\n",
       "</mark>\n",
       " system using the MASM </br>\n",
       "<mark class=\"entity\" style=\"background: linear-gradient(90deg, #9BE15D, #00E3AE); padding: 0.45em 0.6em; margin: 0 0.25em; line-height: 1; border-radius: 0.35em;\">\n",
       "    framework\n",
       "    <span style=\"font-size: 0.8em; font-weight: bold; line-height: 1; border-radius: 0.35em; vertical-align: middle; margin-left: 0.5rem\">SKILL</span>\n",
       "</mark>\n",
       ".  </br>VIRTUAL EXPERIENCE PROGRAMS  </br> KPMG Australia — \n",
       "<mark class=\"entity\" style=\"background: linear-gradient(90deg, #9BE15D, #00E3AE); padding: 0.45em 0.6em; margin: 0 0.25em; line-height: 1; border-radius: 0.35em;\">\n",
       "    Data Science\n",
       "    <span style=\"font-size: 0.8em; font-weight: bold; line-height: 1; border-radius: 0.35em; vertical-align: middle; margin-left: 0.5rem\">SKILL</span>\n",
       "</mark>\n",
       " \n",
       "<mark class=\"entity\" style=\"background: #c27ba0; padding: 0.45em 0.6em; margin: 0 0.25em; line-height: 1; border-radius: 0.35em;\">\n",
       "    May 2022 - May 2022\n",
       "    <span style=\"font-size: 0.8em; font-weight: bold; line-height: 1; border-radius: 0.35em; vertical-align: middle; margin-left: 0.5rem\">DATE</span>\n",
       "</mark>\n",
       "  </br> Master Card -- Data Analysis  April2022 -April2022  </br> Walmart Global Tech — \n",
       "<mark class=\"entity\" style=\"background: linear-gradient(90deg, #9BE15D, #00E3AE); padding: 0.45em 0.6em; margin: 0 0.25em; line-height: 1; border-radius: 0.35em;\">\n",
       "    Software\n",
       "    <span style=\"font-size: 0.8em; font-weight: bold; line-height: 1; border-radius: 0.35em; vertical-align: middle; margin-left: 0.5rem\">SKILL</span>\n",
       "</mark>\n",
       " \n",
       "<mark class=\"entity\" style=\"background: #c27ba0; padding: 0.45em 0.6em; margin: 0 0.25em; line-height: 1; border-radius: 0.35em;\">\n",
       "    Jan 2022 - Feb 2022\n",
       "    <span style=\"font-size: 0.8em; font-weight: bold; line-height: 1; border-radius: 0.35em; vertical-align: middle; margin-left: 0.5rem\">DATE</span>\n",
       "</mark>\n",
       "  </br> </br>ACHIEVEMENTS  </br> Runners Up - Bytecorp Hackathon for FYP Idea Presentation, \n",
       "<mark class=\"entity\" style=\"background: #c27ba0; padding: 0.45em 0.6em; margin: 0 0.25em; line-height: 1; border-radius: 0.35em;\">\n",
       "    Fall \n",
       "2022\n",
       "    <span style=\"font-size: 0.8em; font-weight: bold; line-height: 1; border-radius: 0.35em; vertical-align: middle; margin-left: 0.5rem\">DATE</span>\n",
       "</mark>\n",
       "  </br> Deans List of Honors – FAST NUCES, \n",
       "<mark class=\"entity\" style=\"background: #c27ba0; padding: 0.45em 0.6em; margin: 0 0.25em; line-height: 1; border-radius: 0.35em;\">\n",
       "    Fall 2022\n",
       "    <span style=\"font-size: 0.8em; font-weight: bold; line-height: 1; border-radius: 0.35em; vertical-align: middle; margin-left: 0.5rem\">DATE</span>\n",
       "</mark>\n",
       "  </br> Special Mention - Sayabidevs, \n",
       "<mark class=\"entity\" style=\"background: #c27ba0; padding: 0.45em 0.6em; margin: 0 0.25em; line-height: 1; border-radius: 0.35em;\">\n",
       "    Fall 2022\n",
       "    <span style=\"font-size: 0.8em; font-weight: bold; line-height: 1; border-radius: 0.35em; vertical-align: middle; margin-left: 0.5rem\">DATE</span>\n",
       "</mark>\n",
       "  </br> \n",
       "<mark class=\"entity\" style=\"background: #ffd966; padding: 0.45em 0.6em; margin: 0 0.25em; line-height: 1; border-radius: 0.35em;\">\n",
       "    Enviable - Suven Consultants\n",
       "    <span style=\"font-size: 0.8em; font-weight: bold; line-height: 1; border-radius: 0.35em; vertical-align: middle; margin-left: 0.5rem\">ORG</span>\n",
       "</mark>\n",
       ", \n",
       "<mark class=\"entity\" style=\"background: #c27ba0; padding: 0.45em 0.6em; margin: 0 0.25em; line-height: 1; border-radius: 0.35em;\">\n",
       "    Fall 2022\n",
       "    <span style=\"font-size: 0.8em; font-weight: bold; line-height: 1; border-radius: 0.35em; vertical-align: middle; margin-left: 0.5rem\">DATE</span>\n",
       "</mark>\n",
       "  </br>CO-CURRICULAR ACTIVITIES  </br> PROCOM (Guest Relation Officer)  Assisted with the planning and </br>coordination of events and activities, developed creative </br>\n",
       "<mark class=\"entity\" style=\"background: linear-gradient(90deg, #9BE15D, #00E3AE); padding: 0.45em 0.6em; margin: 0 0.25em; line-height: 1; border-radius: 0.35em;\">\n",
       "    marketing\n",
       "    <span style=\"font-size: 0.8em; font-weight: bold; line-height: 1; border-radius: 0.35em; vertical-align: middle; margin-left: 0.5rem\">SKILL</span>\n",
       "</mark>\n",
       " strategies to promote the e vent, and provided excellent </br>customer service to guests.  </br> SOFTEC (Campus Ambassador)  Represented the organization on </br>campus, organized events, and promoted the organization’s </br>activities to students.  </br> Devday (Guest Relation Officer)  Developed and implemented </br>creative \n",
       "<mark class=\"entity\" style=\"background: linear-gradient(90deg, #9BE15D, #00E3AE); padding: 0.45em 0.6em; margin: 0 0.25em; line-height: 1; border-radius: 0.35em;\">\n",
       "    marketing\n",
       "    <span style=\"font-size: 0.8em; font-weight: bold; line-height: 1; border-radius: 0.35em; vertical-align: middle; margin-left: 0.5rem\">SKILL</span>\n",
       "</mark>\n",
       " strategies to promote events, managed guest </br>lists, and provided customer service to guests.  </br> NFLYP (Ambassador)  Served as a brand ambassador for the \n",
       "<mark class=\"entity\" style=\"background: #ffd966; padding: 0.45em 0.6em; margin: 0 0.25em; line-height: 1; border-radius: 0.35em;\">\n",
       "    SBP\n",
       "    <span style=\"font-size: 0.8em; font-weight: bold; line-height: 1; border-radius: 0.35em; vertical-align: middle; margin-left: 0.5rem\">ORG</span>\n",
       "</mark>\n",
       " </div></span>"
      ],
      "text/plain": [
       "<IPython.core.display.HTML object>"
      ]
     },
     "metadata": {},
     "output_type": "display_data"
    },
    {
     "data": {
      "text/html": [
       "<span class=\"tex2jax_ignore\"><div class=\"entities\" style=\"line-height: 2.5; direction: ltr\"> </br>   MUHAMMAD UMER WASI  \n",
       "     SOFTWARE ENGINEER  </br> </br> </br>As a highly motivated \n",
       "<mark class=\"entity\" style=\"background: linear-gradient(90deg, #9BE15D, #00E3AE); padding: 0.45em 0.6em; margin: 0 0.25em; line-height: 1; border-radius: 0.35em;\">\n",
       "    software\n",
       "    <span style=\"font-size: 0.8em; font-weight: bold; line-height: 1; border-radius: 0.35em; vertical-align: middle; margin-left: 0.5rem\">SKILL</span>\n",
       "</mark>\n",
       " aspirant, my objective is to leverage my </br>passion for \n",
       "<mark class=\"entity\" style=\"background: linear-gradient(90deg, #9BE15D, #00E3AE); padding: 0.45em 0.6em; margin: 0 0.25em; line-height: 1; border-radius: 0.35em;\">\n",
       "    software\n",
       "    <span style=\"font-size: 0.8em; font-weight: bold; line-height: 1; border-radius: 0.35em; vertical-align: middle; margin-left: 0.5rem\">SKILL</span>\n",
       "</mark>\n",
       " development and pursue a successful career  in this </br>industry. I am dedicated to continuously improving my skills and knowledge </br>through ongoing learning and development opportunities. With a strong </br>desire to succeed and a commitment to excellence, I am eager to contribute </br>my expertise and \n",
       "<mark class=\"entity\" style=\"background: #ffd966; padding: 0.45em 0.6em; margin: 0 0.25em; line-height: 1; border-radius: 0.35em;\">\n",
       "    collaborat\n",
       "    <span style=\"font-size: 0.8em; font-weight: bold; line-height: 1; border-radius: 0.35em; vertical-align: middle; margin-left: 0.5rem\">ORG</span>\n",
       "</mark>\n",
       " e with a dynamic team to achieve shared goals. </br>I am seeking a challenging role that will enable me to utilize my skills and </br>expand my capabi lities in the \n",
       "<mark class=\"entity\" style=\"background: linear-gradient(90deg, #9BE15D, #00E3AE); padding: 0.45em 0.6em; margin: 0 0.25em; line-height: 1; border-radius: 0.35em;\">\n",
       "    software\n",
       "    <span style=\"font-size: 0.8em; font-weight: bold; line-height: 1; border-radius: 0.35em; vertical-align: middle; margin-left: 0.5rem\">SKILL</span>\n",
       "</mark>\n",
       " industry  </br>EDUCATION  </br> Bachelor of Science in \n",
       "<mark class=\"entity\" style=\"background: linear-gradient(90deg, #9BE15D, #00E3AE); padding: 0.45em 0.6em; margin: 0 0.25em; line-height: 1; border-radius: 0.35em;\">\n",
       "    Computer Science\n",
       "    <span style=\"font-size: 0.8em; font-weight: bold; line-height: 1; border-radius: 0.35em; vertical-align: middle; margin-left: 0.5rem\">SKILL</span>\n",
       "</mark>\n",
       " (\n",
       "<mark class=\"entity\" style=\"background: #ffd966; padding: 0.45em 0.6em; margin: 0 0.25em; line-height: 1; border-radius: 0.35em;\">\n",
       "    BSCS\n",
       "    <span style=\"font-size: 0.8em; font-weight: bold; line-height: 1; border-radius: 0.35em; vertical-align: middle; margin-left: 0.5rem\">ORG</span>\n",
       "</mark>\n",
       ") from \n",
       "<mark class=\"entity\" style=\"background: #ffd966; padding: 0.45em 0.6em; margin: 0 0.25em; line-height: 1; border-radius: 0.35em;\">\n",
       "    Fast NUCES\n",
       "    <span style=\"font-size: 0.8em; font-weight: bold; line-height: 1; border-radius: 0.35em; vertical-align: middle; margin-left: 0.5rem\">ORG</span>\n",
       "</mark>\n",
       ", </br>\n",
       "<mark class=\"entity\" style=\"background: #9fc5e8; padding: 0.45em 0.6em; margin: 0 0.25em; line-height: 1; border-radius: 0.35em;\">\n",
       "    Karachi\n",
       "    <span style=\"font-size: 0.8em; font-weight: bold; line-height: 1; border-radius: 0.35em; vertical-align: middle; margin-left: 0.5rem\">GPE</span>\n",
       "</mark>\n",
       " (\n",
       "<mark class=\"entity\" style=\"background: #c27ba0; padding: 0.45em 0.6em; margin: 0 0.25em; line-height: 1; border-radius: 0.35em;\">\n",
       "    September 2020 - Present\n",
       "    <span style=\"font-size: 0.8em; font-weight: bold; line-height: 1; border-radius: 0.35em; vertical-align: middle; margin-left: 0.5rem\">DATE</span>\n",
       "</mark>\n",
       ")   </br> Currently in \n",
       "<mark class=\"entity\" style=\"background: #674ea7; padding: 0.45em 0.6em; margin: 0 0.25em; line-height: 1; border-radius: 0.35em;\">\n",
       "    6th\n",
       "    <span style=\"font-size: 0.8em; font-weight: bold; line-height: 1; border-radius: 0.35em; vertical-align: middle; margin-left: 0.5rem\">ORDINAL</span>\n",
       "</mark>\n",
       " semester with a 3.1 \n",
       "<mark class=\"entity\" style=\"background: #ffd966; padding: 0.45em 0.6em; margin: 0 0.25em; line-height: 1; border-radius: 0.35em;\">\n",
       "    CGPA\n",
       "    <span style=\"font-size: 0.8em; font-weight: bold; line-height: 1; border-radius: 0.35em; vertical-align: middle; margin-left: 0.5rem\">ORG</span>\n",
       "</mark>\n",
       "  </br> Bachelor of Science in \n",
       "<mark class=\"entity\" style=\"background: linear-gradient(90deg, #9BE15D, #00E3AE); padding: 0.45em 0.6em; margin: 0 0.25em; line-height: 1; border-radius: 0.35em;\">\n",
       "    Computer Science\n",
       "    <span style=\"font-size: 0.8em; font-weight: bold; line-height: 1; border-radius: 0.35em; vertical-align: middle; margin-left: 0.5rem\">SKILL</span>\n",
       "</mark>\n",
       " (\n",
       "<mark class=\"entity\" style=\"background: #ffd966; padding: 0.45em 0.6em; margin: 0 0.25em; line-height: 1; border-radius: 0.35em;\">\n",
       "    BSCS\n",
       "    <span style=\"font-size: 0.8em; font-weight: bold; line-height: 1; border-radius: 0.35em; vertical-align: middle; margin-left: 0.5rem\">ORG</span>\n",
       "</mark>\n",
       ") from \n",
       "<mark class=\"entity\" style=\"background: #ffd966; padding: 0.45em 0.6em; margin: 0 0.25em; line-height: 1; border-radius: 0.35em;\">\n",
       "    Adamje\n",
       "    <span style=\"font-size: 0.8em; font-weight: bold; line-height: 1; border-radius: 0.35em; vertical-align: middle; margin-left: 0.5rem\">ORG</span>\n",
       "</mark>\n",
       " e </br>\n",
       "<mark class=\"entity\" style=\"background: #ffd966; padding: 0.45em 0.6em; margin: 0 0.25em; line-height: 1; border-radius: 0.35em;\">\n",
       "    Govt Science College\n",
       "    <span style=\"font-size: 0.8em; font-weight: bold; line-height: 1; border-radius: 0.35em; vertical-align: middle; margin-left: 0.5rem\">ORG</span>\n",
       "</mark>\n",
       ", \n",
       "<mark class=\"entity\" style=\"background: #9fc5e8; padding: 0.45em 0.6em; margin: 0 0.25em; line-height: 1; border-radius: 0.35em;\">\n",
       "    Karachi\n",
       "    <span style=\"font-size: 0.8em; font-weight: bold; line-height: 1; border-radius: 0.35em; vertical-align: middle; margin-left: 0.5rem\">GPE</span>\n",
       "</mark>\n",
       " (\n",
       "<mark class=\"entity\" style=\"background: #c27ba0; padding: 0.45em 0.6em; margin: 0 0.25em; line-height: 1; border-radius: 0.35em;\">\n",
       "    September 2018 - September 2020\n",
       "    <span style=\"font-size: 0.8em; font-weight: bold; line-height: 1; border-radius: 0.35em; vertical-align: middle; margin-left: 0.5rem\">DATE</span>\n",
       "</mark>\n",
       ")    </br>Obtained an AONE Grade  </br>EXPERIENCE  </br> Sayabidevs Pvt LTD, \n",
       "<mark class=\"entity\" style=\"background: #e06666; padding: 0.45em 0.6em; margin: 0 0.25em; line-height: 1; border-radius: 0.35em;\">\n",
       "    Remot\n",
       "    <span style=\"font-size: 0.8em; font-weight: bold; line-height: 1; border-radius: 0.35em; vertical-align: middle; margin-left: 0.5rem\">PERSON</span>\n",
       "</mark>\n",
       " e — \n",
       "<mark class=\"entity\" style=\"background: #ffd966; padding: 0.45em 0.6em; margin: 0 0.25em; line-height: 1; border-radius: 0.35em;\">\n",
       "    Data Science\n",
       "    <span style=\"font-size: 0.8em; font-weight: bold; line-height: 1; border-radius: 0.35em; vertical-align: middle; margin-left: 0.5rem\">ORG</span>\n",
       "</mark>\n",
       " And \n",
       "<mark class=\"entity\" style=\"background: #ffd966; padding: 0.45em 0.6em; margin: 0 0.25em; line-height: 1; border-radius: 0.35em;\">\n",
       "    AI Internship\n",
       "    <span style=\"font-size: 0.8em; font-weight: bold; line-height: 1; border-radius: 0.35em; vertical-align: middle; margin-left: 0.5rem\">ORG</span>\n",
       "</mark>\n",
       ", </br>\n",
       "<mark class=\"entity\" style=\"background: #c27ba0; padding: 0.45em 0.6em; margin: 0 0.25em; line-height: 1; border-radius: 0.35em;\">\n",
       "    May 2022 - Feb 2023\n",
       "    <span style=\"font-size: 0.8em; font-weight: bold; line-height: 1; border-radius: 0.35em; vertical-align: middle; margin-left: 0.5rem\">DATE</span>\n",
       "</mark>\n",
       "  —Completed four projects in \n",
       "<mark class=\"entity\" style=\"background: #ffd966; padding: 0.45em 0.6em; margin: 0 0.25em; line-height: 1; border-radius: 0.35em;\">\n",
       "    the Data \n",
       "Science Internship\n",
       "    <span style=\"font-size: 0.8em; font-weight: bold; line-height: 1; border-radius: 0.35em; vertical-align: middle; margin-left: 0.5rem\">ORG</span>\n",
       "</mark>\n",
       " program, utilizing \n",
       "<mark class=\"entity\" style=\"background: #ffd966; padding: 0.45em 0.6em; margin: 0 0.25em; line-height: 1; border-radius: 0.35em;\">\n",
       "    Natural Language Processing\n",
       "    <span style=\"font-size: 0.8em; font-weight: bold; line-height: 1; border-radius: 0.35em; vertical-align: middle; margin-left: 0.5rem\">ORG</span>\n",
       "</mark>\n",
       " </br>(\n",
       "<mark class=\"entity\" style=\"background: linear-gradient(90deg, #9BE15D, #00E3AE); padding: 0.45em 0.6em; margin: 0 0.25em; line-height: 1; border-radius: 0.35em;\">\n",
       "    NLP\n",
       "    <span style=\"font-size: 0.8em; font-weight: bold; line-height: 1; border-radius: 0.35em; vertical-align: middle; margin-left: 0.5rem\">SKILL</span>\n",
       "</mark>\n",
       ") for the development of a chatbot, a fake news classifier, and </br>a sales prediction model.  </br> Suven Consultants And \n",
       "<mark class=\"entity\" style=\"background: #ffd966; padding: 0.45em 0.6em; margin: 0 0.25em; line-height: 1; border-radius: 0.35em;\">\n",
       "    Technology Pvt LTD\n",
       "    <span style=\"font-size: 0.8em; font-weight: bold; line-height: 1; border-radius: 0.35em; vertical-align: middle; margin-left: 0.5rem\">ORG</span>\n",
       "</mark>\n",
       ", \n",
       "<mark class=\"entity\" style=\"background: #ffd966; padding: 0.45em 0.6em; margin: 0 0.25em; line-height: 1; border-radius: 0.35em;\">\n",
       "    Remote — Data \n",
       "Science\n",
       "    <span style=\"font-size: 0.8em; font-weight: bold; line-height: 1; border-radius: 0.35em; vertical-align: middle; margin-left: 0.5rem\">ORG</span>\n",
       "</mark>\n",
       " (\n",
       "<mark class=\"entity\" style=\"background: linear-gradient(90deg, #9BE15D, #00E3AE); padding: 0.45em 0.6em; margin: 0 0.25em; line-height: 1; border-radius: 0.35em;\">\n",
       "    NLP\n",
       "    <span style=\"font-size: 0.8em; font-weight: bold; line-height: 1; border-radius: 0.35em; vertical-align: middle; margin-left: 0.5rem\">SKILL</span>\n",
       "</mark>\n",
       ") Internship , \n",
       "<mark class=\"entity\" style=\"background: #c27ba0; padding: 0.45em 0.6em; margin: 0 0.25em; line-height: 1; border-radius: 0.35em;\">\n",
       "    May 2022 - April 2022\n",
       "    <span style=\"font-size: 0.8em; font-weight: bold; line-height: 1; border-radius: 0.35em; vertical-align: middle; margin-left: 0.5rem\">DATE</span>\n",
       "</mark>\n",
       " — Participated in </br>a two -week \n",
       "<mark class=\"entity\" style=\"background: #ffd966; padding: 0.45em 0.6em; margin: 0 0.25em; line-height: 1; border-radius: 0.35em;\">\n",
       "    Data Science Internship\n",
       "    <span style=\"font-size: 0.8em; font-weight: bold; line-height: 1; border-radius: 0.35em; vertical-align: middle; margin-left: 0.5rem\">ORG</span>\n",
       "</mark>\n",
       " program, implementing \n",
       "<mark class=\"entity\" style=\"background: #ffd966; padding: 0.45em 0.6em; margin: 0 0.25em; line-height: 1; border-radius: 0.35em;\">\n",
       "    NLP\n",
       "    <span style=\"font-size: 0.8em; font-weight: bold; line-height: 1; border-radius: 0.35em; vertical-align: middle; margin-left: 0.5rem\">ORG</span>\n",
       "</mark>\n",
       " </br>on an \n",
       "<mark class=\"entity\" style=\"background: #ffd966; padding: 0.45em 0.6em; margin: 0 0.25em; line-height: 1; border-radius: 0.35em;\">\n",
       "    IBM\n",
       "    <span style=\"font-size: 0.8em; font-weight: bold; line-height: 1; border-radius: 0.35em; vertical-align: middle; margin-left: 0.5rem\">ORG</span>\n",
       "</mark>\n",
       " movie review dataset and achieving an 80+ score in the </br>final \n",
       "<mark class=\"entity\" style=\"background: #ffd966; padding: 0.45em 0.6em; margin: 0 0.25em; line-height: 1; border-radius: 0.35em;\">\n",
       "    asse\n",
       "    <span style=\"font-size: 0.8em; font-weight: bold; line-height: 1; border-radius: 0.35em; vertical-align: middle; margin-left: 0.5rem\">ORG</span>\n",
       "</mark>\n",
       " ssment.  </br> \n",
       "<mark class=\"entity\" style=\"background: linear-gradient(90deg, #9BE15D, #00E3AE); padding: 0.45em 0.6em; margin: 0 0.25em; line-height: 1; border-radius: 0.35em;\">\n",
       "    Google\n",
       "    <span style=\"font-size: 0.8em; font-weight: bold; line-height: 1; border-radius: 0.35em; vertical-align: middle; margin-left: 0.5rem\">SKILL</span>\n",
       "</mark>\n",
       " Developer Students Club, \n",
       "<mark class=\"entity\" style=\"background: #9fc5e8; padding: 0.45em 0.6em; margin: 0 0.25em; line-height: 1; border-radius: 0.35em;\">\n",
       "    Karachi\n",
       "    <span style=\"font-size: 0.8em; font-weight: bold; line-height: 1; border-radius: 0.35em; vertical-align: middle; margin-left: 0.5rem\">GPE</span>\n",
       "</mark>\n",
       " — \n",
       "<mark class=\"entity\" style=\"background: linear-gradient(90deg, #9BE15D, #00E3AE); padding: 0.45em 0.6em; margin: 0 0.25em; line-height: 1; border-radius: 0.35em;\">\n",
       "    Data Science\n",
       "    <span style=\"font-size: 0.8em; font-weight: bold; line-height: 1; border-radius: 0.35em; vertical-align: middle; margin-left: 0.5rem\">SKILL</span>\n",
       "</mark>\n",
       " </br>Instructor, \n",
       "<mark class=\"entity\" style=\"background: #c27ba0; padding: 0.45em 0.6em; margin: 0 0.25em; line-height: 1; border-radius: 0.35em;\">\n",
       "    Feb 2022\n",
       "    <span style=\"font-size: 0.8em; font-weight: bold; line-height: 1; border-radius: 0.35em; vertical-align: middle; margin-left: 0.5rem\">DATE</span>\n",
       "</mark>\n",
       " – \n",
       "<mark class=\"entity\" style=\"background: #c27ba0; padding: 0.45em 0.6em; margin: 0 0.25em; line-height: 1; border-radius: 0.35em;\">\n",
       "    Nov 2022\n",
       "    <span style=\"font-size: 0.8em; font-weight: bold; line-height: 1; border-radius: 0.35em; vertical-align: middle; margin-left: 0.5rem\">DATE</span>\n",
       "</mark>\n",
       " — Instructed core \n",
       "<mark class=\"entity\" style=\"background: linear-gradient(90deg, #9BE15D, #00E3AE); padding: 0.45em 0.6em; margin: 0 0.25em; line-height: 1; border-radius: 0.35em;\">\n",
       "    data analysis\n",
       "    <span style=\"font-size: 0.8em; font-weight: bold; line-height: 1; border-radius: 0.35em; vertical-align: middle; margin-left: 0.5rem\">SKILL</span>\n",
       "</mark>\n",
       " </br>and manipulation to \n",
       "<mark class=\"entity\" style=\"background: #ffd966; padding: 0.45em 0.6em; margin: 0 0.25em; line-height: 1; border-radius: 0.35em;\">\n",
       "    GDSC\n",
       "    <span style=\"font-size: 0.8em; font-weight: bold; line-height: 1; border-radius: 0.35em; vertical-align: middle; margin-left: 0.5rem\">ORG</span>\n",
       "</mark>\n",
       " learners.  </br> Fast Nuces Karachi — Teaching Assistant, \n",
       "<mark class=\"entity\" style=\"background: #c27ba0; padding: 0.45em 0.6em; margin: 0 0.25em; line-height: 1; border-radius: 0.35em;\">\n",
       "    Jan 2022\n",
       "    <span style=\"font-size: 0.8em; font-weight: bold; line-height: 1; border-radius: 0.35em; vertical-align: middle; margin-left: 0.5rem\">DATE</span>\n",
       "</mark>\n",
       " – \n",
       "<mark class=\"entity\" style=\"background: #c27ba0; padding: 0.45em 0.6em; margin: 0 0.25em; line-height: 1; border-radius: 0.35em;\">\n",
       "    July 2022\n",
       "    <span style=\"font-size: 0.8em; font-weight: bold; line-height: 1; border-radius: 0.35em; vertical-align: middle; margin-left: 0.5rem\">DATE</span>\n",
       "</mark>\n",
       "  </br>Assisted in teaching core data ana lysis and manipulation.  </br> Data Glacier, \n",
       "<mark class=\"entity\" style=\"background: #ffd966; padding: 0.45em 0.6em; margin: 0 0.25em; line-height: 1; border-radius: 0.35em;\">\n",
       "    Remote — Data Science Internship\n",
       "    <span style=\"font-size: 0.8em; font-weight: bold; line-height: 1; border-radius: 0.35em; vertical-align: middle; margin-left: 0.5rem\">ORG</span>\n",
       "</mark>\n",
       ", \n",
       "<mark class=\"entity\" style=\"background: #c27ba0; padding: 0.45em 0.6em; margin: 0 0.25em; line-height: 1; border-radius: 0.35em;\">\n",
       "    July 2021 - \n",
       "\n",
       "    <span style=\"font-size: 0.8em; font-weight: bold; line-height: 1; border-radius: 0.35em; vertical-align: middle; margin-left: 0.5rem\">DATE</span>\n",
       "</mark>\n",
       "\n",
       "<mark class=\"entity\" style=\"background: #c27ba0; padding: 0.45em 0.6em; margin: 0 0.25em; line-height: 1; border-radius: 0.35em;\">\n",
       "    October 2021\n",
       "    <span style=\"font-size: 0.8em; font-weight: bold; line-height: 1; border-radius: 0.35em; vertical-align: middle; margin-left: 0.5rem\">DATE</span>\n",
       "</mark>\n",
       "  — Performed \n",
       "<mark class=\"entity\" style=\"background: linear-gradient(90deg, #9BE15D, #00E3AE); padding: 0.45em 0.6em; margin: 0 0.25em; line-height: 1; border-radius: 0.35em;\">\n",
       "    data science\n",
       "    <span style=\"font-size: 0.8em; font-weight: bold; line-height: 1; border-radius: 0.35em; vertical-align: middle; margin-left: 0.5rem\">SKILL</span>\n",
       "</mark>\n",
       " tasks as part of an </br>internship program.  </br>TECHNICAL SKILLS  </br> Problem Solving Proficient in analyzing complex problems and </br>developing effective solutions through logical and analytical </br>thinking.  </br> \n",
       "<mark class=\"entity\" style=\"background: linear-gradient(90deg, #9BE15D, #00E3AE); padding: 0.45em 0.6em; margin: 0 0.25em; line-height: 1; border-radius: 0.35em;\">\n",
       "    Data Analysis\n",
       "    <span style=\"font-size: 0.8em; font-weight: bold; line-height: 1; border-radius: 0.35em; vertical-align: middle; margin-left: 0.5rem\">SKILL</span>\n",
       "</mark>\n",
       " Skilled in collecting, organizing, and interpreting </br>data using various tools and techniques to provide meaningful </br>insights.  </br> Web Development Experienced in designing and developing </br>responsive web applications using \n",
       "<mark class=\"entity\" style=\"background: linear-gradient(90deg, #9BE15D, #00E3AE); padding: 0.45em 0.6em; margin: 0 0.25em; line-height: 1; border-radius: 0.35em;\">\n",
       "    HTML\n",
       "    <span style=\"font-size: 0.8em; font-weight: bold; line-height: 1; border-radius: 0.35em; vertical-align: middle; margin-left: 0.5rem\">SKILL</span>\n",
       "</mark>\n",
       ", \n",
       "<mark class=\"entity\" style=\"background: linear-gradient(90deg, #9BE15D, #00E3AE); padding: 0.45em 0.6em; margin: 0 0.25em; line-height: 1; border-radius: 0.35em;\">\n",
       "    CSS\n",
       "    <span style=\"font-size: 0.8em; font-weight: bold; line-height: 1; border-radius: 0.35em; vertical-align: middle; margin-left: 0.5rem\">SKILL</span>\n",
       "</mark>\n",
       ", \n",
       "<mark class=\"entity\" style=\"background: #f9cb9c; padding: 0.45em 0.6em; margin: 0 0.25em; line-height: 1; border-radius: 0.35em;\">\n",
       "    JavaScript\n",
       "    <span style=\"font-size: 0.8em; font-weight: bold; line-height: 1; border-radius: 0.35em; vertical-align: middle; margin-left: 0.5rem\">PRODUCT</span>\n",
       "</mark>\n",
       ", and </br>\n",
       "<mark class=\"entity\" style=\"background: linear-gradient(90deg, #9BE15D, #00E3AE); padding: 0.45em 0.6em; margin: 0 0.25em; line-height: 1; border-radius: 0.35em;\">\n",
       "    jQuery\n",
       "    <span style=\"font-size: 0.8em; font-weight: bold; line-height: 1; border-radius: 0.35em; vertical-align: middle; margin-left: 0.5rem\">SKILL</span>\n",
       "</mark>\n",
       ".  </br> \n",
       "<mark class=\"entity\" style=\"background: linear-gradient(90deg, #9BE15D, #00E3AE); padding: 0.45em 0.6em; margin: 0 0.25em; line-height: 1; border-radius: 0.35em;\">\n",
       "    Natural Language Processing\n",
       "    <span style=\"font-size: 0.8em; font-weight: bold; line-height: 1; border-radius: 0.35em; vertical-align: middle; margin-left: 0.5rem\">SKILL</span>\n",
       "</mark>\n",
       " Familiar with \n",
       "<mark class=\"entity\" style=\"background: linear-gradient(90deg, #9BE15D, #00E3AE); padding: 0.45em 0.6em; margin: 0 0.25em; line-height: 1; border-radius: 0.35em;\">\n",
       "    NLP\n",
       "    <span style=\"font-size: 0.8em; font-weight: bold; line-height: 1; border-radius: 0.35em; vertical-align: middle; margin-left: 0.5rem\">SKILL</span>\n",
       "</mark>\n",
       " techniques for </br>text analysis, classification, and \n",
       "<mark class=\"entity\" style=\"background: linear-gradient(90deg, #9BE15D, #00E3AE); padding: 0.45em 0.6em; margin: 0 0.25em; line-height: 1; border-radius: 0.35em;\">\n",
       "    sentiment analysis\n",
       "    <span style=\"font-size: 0.8em; font-weight: bold; line-height: 1; border-radius: 0.35em; vertical-align: middle; margin-left: 0.5rem\">SKILL</span>\n",
       "</mark>\n",
       " using \n",
       "<mark class=\"entity\" style=\"background: linear-gradient(90deg, #9BE15D, #00E3AE); padding: 0.45em 0.6em; margin: 0 0.25em; line-height: 1; border-radius: 0.35em;\">\n",
       "    Python\n",
       "    <span style=\"font-size: 0.8em; font-weight: bold; line-height: 1; border-radius: 0.35em; vertical-align: middle; margin-left: 0.5rem\">SKILL</span>\n",
       "</mark>\n",
       " </br>\n",
       "<mark class=\"entity\" style=\"background: linear-gradient(90deg, #9BE15D, #00E3AE); padding: 0.45em 0.6em; margin: 0 0.25em; line-height: 1; border-radius: 0.35em;\">\n",
       "    libraries\n",
       "    <span style=\"font-size: 0.8em; font-weight: bold; line-height: 1; border-radius: 0.35em; vertical-align: middle; margin-left: 0.5rem\">SKILL</span>\n",
       "</mark>\n",
       " such as NLTK and spaCy.  </br> MERN Stack Proficient in developing web applications using the </br>MERN (\n",
       "<mark class=\"entity\" style=\"background: linear-gradient(90deg, #9BE15D, #00E3AE); padding: 0.45em 0.6em; margin: 0 0.25em; line-height: 1; border-radius: 0.35em;\">\n",
       "    MongoDB\n",
       "    <span style=\"font-size: 0.8em; font-weight: bold; line-height: 1; border-radius: 0.35em; vertical-align: middle; margin-left: 0.5rem\">SKILL</span>\n",
       "</mark>\n",
       ", \n",
       "<mark class=\"entity\" style=\"background: #ffd966; padding: 0.45em 0.6em; margin: 0 0.25em; line-height: 1; border-radius: 0.35em;\">\n",
       "    Express\n",
       "    <span style=\"font-size: 0.8em; font-weight: bold; line-height: 1; border-radius: 0.35em; vertical-align: middle; margin-left: 0.5rem\">ORG</span>\n",
       "</mark>\n",
       ", \n",
       "<mark class=\"entity\" style=\"background: #9fc5e8; padding: 0.45em 0.6em; margin: 0 0.25em; line-height: 1; border-radius: 0.35em;\">\n",
       "    React\n",
       "    <span style=\"font-size: 0.8em; font-weight: bold; line-height: 1; border-radius: 0.35em; vertical-align: middle; margin-left: 0.5rem\">GPE</span>\n",
       "</mark>\n",
       ", \n",
       "<mark class=\"entity\" style=\"background: linear-gradient(90deg, #9BE15D, #00E3AE); padding: 0.45em 0.6em; margin: 0 0.25em; line-height: 1; border-radius: 0.35em;\">\n",
       "    Node.js\n",
       "    <span style=\"font-size: 0.8em; font-weight: bold; line-height: 1; border-radius: 0.35em; vertical-align: middle; margin-left: 0.5rem\">SKILL</span>\n",
       "</mark>\n",
       ") stack.  </br> \n",
       "<mark class=\"entity\" style=\"background: #ffd966; padding: 0.45em 0.6em; margin: 0 0.25em; line-height: 1; border-radius: 0.35em;\">\n",
       "    A-464\n",
       "    <span style=\"font-size: 0.8em; font-weight: bold; line-height: 1; border-radius: 0.35em; vertical-align: middle; margin-left: 0.5rem\">ORG</span>\n",
       "</mark>\n",
       " sector 14 B North Na zimabad  \n",
       "<mark class=\"entity\" style=\"background: #9fc5e8; padding: 0.45em 0.6em; margin: 0 0.25em; line-height: 1; border-radius: 0.35em;\">\n",
       "    Karachi\n",
       "    <span style=\"font-size: 0.8em; font-weight: bold; line-height: 1; border-radius: 0.35em; vertical-align: middle; margin-left: 0.5rem\">GPE</span>\n",
       "</mark>\n",
       " , 75850      </br>03343068546      </br>\n",
       "<mark class=\"entity\" style=\"background: #9fc5e8; padding: 0.45em 0.6em; margin: 0 0.25em; line-height: 1; border-radius: 0.35em;\">\n",
       "    umerwasi1234\n",
       "    <span style=\"font-size: 0.8em; font-weight: bold; line-height: 1; border-radius: 0.35em; vertical-align: middle; margin-left: 0.5rem\">GPE</span>\n",
       "</mark>\n",
       " \n",
       "<mark class=\"entity\" style=\"background: #ffd966; padding: 0.45em 0.6em; margin: 0 0.25em; line-height: 1; border-radius: 0.35em;\">\n",
       "    @gmail.com\n",
       "    <span style=\"font-size: 0.8em; font-weight: bold; line-height: 1; border-radius: 0.35em; vertical-align: middle; margin-left: 0.5rem\">ORG</span>\n",
       "</mark>\n",
       "  </br>https://www.lin kedin.com/in/muhammad -umer -wasi/      </br> </br>PROJECTS  </br>ACADEMIC PROJECTS  </br> Carpool Management System (\n",
       "<mark class=\"entity\" style=\"background: #ffd966; padding: 0.45em 0.6em; margin: 0 0.25em; line-height: 1; border-radius: 0.35em;\">\n",
       "    MERN\n",
       "    <span style=\"font-size: 0.8em; font-weight: bold; line-height: 1; border-radius: 0.35em; vertical-align: middle; margin-left: 0.5rem\">ORG</span>\n",
       "</mark>\n",
       ")  Designed and built a fully </br>functional carpooling application using \n",
       "<mark class=\"entity\" style=\"background: linear-gradient(90deg, #9BE15D, #00E3AE); padding: 0.45em 0.6em; margin: 0 0.25em; line-height: 1; border-radius: 0.35em;\">\n",
       "    MongoDB\n",
       "    <span style=\"font-size: 0.8em; font-weight: bold; line-height: 1; border-radius: 0.35em; vertical-align: middle; margin-left: 0.5rem\">SKILL</span>\n",
       "</mark>\n",
       ", \n",
       "<mark class=\"entity\" style=\"background: #ffd966; padding: 0.45em 0.6em; margin: 0 0.25em; line-height: 1; border-radius: 0.35em;\">\n",
       "    Express\n",
       "    <span style=\"font-size: 0.8em; font-weight: bold; line-height: 1; border-radius: 0.35em; vertical-align: middle; margin-left: 0.5rem\">ORG</span>\n",
       "</mark>\n",
       ", \n",
       "<mark class=\"entity\" style=\"background: #9fc5e8; padding: 0.45em 0.6em; margin: 0 0.25em; line-height: 1; border-radius: 0.35em;\">\n",
       "    React\n",
       "    <span style=\"font-size: 0.8em; font-weight: bold; line-height: 1; border-radius: 0.35em; vertical-align: middle; margin-left: 0.5rem\">GPE</span>\n",
       "</mark>\n",
       ", </br>and \n",
       "<mark class=\"entity\" style=\"background: #9fc5e8; padding: 0.45em 0.6em; margin: 0 0.25em; line-height: 1; border-radius: 0.35em;\">\n",
       "    Node.js\n",
       "    <span style=\"font-size: 0.8em; font-weight: bold; line-height: 1; border-radius: 0.35em; vertical-align: middle; margin-left: 0.5rem\">GPE</span>\n",
       "</mark>\n",
       ".  </br> Chain Smoker Problem (\n",
       "<mark class=\"entity\" style=\"background: linear-gradient(90deg, #9BE15D, #00E3AE); padding: 0.45em 0.6em; margin: 0 0.25em; line-height: 1; border-radius: 0.35em;\">\n",
       "    Operating System\n",
       "    <span style=\"font-size: 0.8em; font-weight: bold; line-height: 1; border-radius: 0.35em; vertical-align: middle; margin-left: 0.5rem\">SKILL</span>\n",
       "</mark>\n",
       ")  Developed a </br>\n",
       "<mark class=\"entity\" style=\"background: linear-gradient(90deg, #9BE15D, #00E3AE); padding: 0.45em 0.6em; margin: 0 0.25em; line-height: 1; border-radius: 0.35em;\">\n",
       "    synchronization\n",
       "    <span style=\"font-size: 0.8em; font-weight: bold; line-height: 1; border-radius: 0.35em; vertical-align: middle; margin-left: 0.5rem\">SKILL</span>\n",
       "</mark>\n",
       " mechanism using locks, semaphores, and </br>monitors to solve t he Chain Smoker problem using an Operating </br>System.  </br> Fast \n",
       "<mark class=\"entity\" style=\"background: linear-gradient(90deg, #9BE15D, #00E3AE); padding: 0.45em 0.6em; margin: 0 0.25em; line-height: 1; border-radius: 0.35em;\">\n",
       "    Business Intelligence\n",
       "    <span style=\"font-size: 0.8em; font-weight: bold; line-height: 1; border-radius: 0.35em; vertical-align: middle; margin-left: 0.5rem\">SKILL</span>\n",
       "</mark>\n",
       " \n",
       "<mark class=\"entity\" style=\"background: linear-gradient(90deg, #9BE15D, #00E3AE); padding: 0.45em 0.6em; margin: 0 0.25em; line-height: 1; border-radius: 0.35em;\">\n",
       "    Commerce\n",
       "    <span style=\"font-size: 0.8em; font-weight: bold; line-height: 1; border-radius: 0.35em; vertical-align: middle; margin-left: 0.5rem\">SKILL</span>\n",
       "</mark>\n",
       " System using \n",
       "<mark class=\"entity\" style=\"background: #ffd966; padding: 0.45em 0.6em; margin: 0 0.25em; line-height: 1; border-radius: 0.35em;\">\n",
       "    Kaggle\n",
       "    <span style=\"font-size: 0.8em; font-weight: bold; line-height: 1; border-radius: 0.35em; vertical-align: middle; margin-left: 0.5rem\">ORG</span>\n",
       "</mark>\n",
       " </br>Dataset (\n",
       "<mark class=\"entity\" style=\"background: linear-gradient(90deg, #9BE15D, #00E3AE); padding: 0.45em 0.6em; margin: 0 0.25em; line-height: 1; border-radius: 0.35em;\">\n",
       "    Data Structures\n",
       "    <span style=\"font-size: 0.8em; font-weight: bold; line-height: 1; border-radius: 0.35em; vertical-align: middle; margin-left: 0.5rem\">SKILL</span>\n",
       "</mark>\n",
       " -C++)   Developed a fast and efficient </br>\n",
       "<mark class=\"entity\" style=\"background: linear-gradient(90deg, #9BE15D, #00E3AE); padding: 0.45em 0.6em; margin: 0 0.25em; line-height: 1; border-radius: 0.35em;\">\n",
       "    business intelligence\n",
       "    <span style=\"font-size: 0.8em; font-weight: bold; line-height: 1; border-radius: 0.35em; vertical-align: middle; margin-left: 0.5rem\">SKILL</span>\n",
       "</mark>\n",
       " \n",
       "<mark class=\"entity\" style=\"background: linear-gradient(90deg, #9BE15D, #00E3AE); padding: 0.45em 0.6em; margin: 0 0.25em; line-height: 1; border-radius: 0.35em;\">\n",
       "    commerce\n",
       "    <span style=\"font-size: 0.8em; font-weight: bold; line-height: 1; border-radius: 0.35em; vertical-align: middle; margin-left: 0.5rem\">SKILL</span>\n",
       "</mark>\n",
       " system utilizing a \n",
       "<mark class=\"entity\" style=\"background: #ffd966; padding: 0.45em 0.6em; margin: 0 0.25em; line-height: 1; border-radius: 0.35em;\">\n",
       "    Kaggle\n",
       "    <span style=\"font-size: 0.8em; font-weight: bold; line-height: 1; border-radius: 0.35em; vertical-align: middle; margin-left: 0.5rem\">ORG</span>\n",
       "</mark>\n",
       " dataset </br>and \n",
       "<mark class=\"entity\" style=\"background: linear-gradient(90deg, #9BE15D, #00E3AE); padding: 0.45em 0.6em; margin: 0 0.25em; line-height: 1; border-radius: 0.35em;\">\n",
       "    data structures\n",
       "    <span style=\"font-size: 0.8em; font-weight: bold; line-height: 1; border-radius: 0.35em; vertical-align: middle; margin-left: 0.5rem\">SKILL</span>\n",
       "</mark>\n",
       " in  C++.  </br> Food Ordering and Delivery System (\n",
       "<mark class=\"entity\" style=\"background: linear-gradient(90deg, #9BE15D, #00E3AE); padding: 0.45em 0.6em; margin: 0 0.25em; line-height: 1; border-radius: 0.35em;\">\n",
       "    C++\n",
       "    <span style=\"font-size: 0.8em; font-weight: bold; line-height: 1; border-radius: 0.35em; vertical-align: middle; margin-left: 0.5rem\">SKILL</span>\n",
       "</mark>\n",
       ")  Developed a food </br>ordering and delivery system in C++.  </br> Prison Management System (\n",
       "<mark class=\"entity\" style=\"background: linear-gradient(90deg, #9BE15D, #00E3AE); padding: 0.45em 0.6em; margin: 0 0.25em; line-height: 1; border-radius: 0.35em;\">\n",
       "    C\n",
       "    <span style=\"font-size: 0.8em; font-weight: bold; line-height: 1; border-radius: 0.35em; vertical-align: middle; margin-left: 0.5rem\">SKILL</span>\n",
       "</mark>\n",
       ")  Implemented a prison </br>management system using \n",
       "<mark class=\"entity\" style=\"background: #ffd966; padding: 0.45em 0.6em; margin: 0 0.25em; line-height: 1; border-radius: 0.35em;\">\n",
       "    C.  \n",
       "INTERNSHIP  PROJECTS\n",
       "    <span style=\"font-size: 0.8em; font-weight: bold; line-height: 1; border-radius: 0.35em; vertical-align: middle; margin-left: 0.5rem\">ORG</span>\n",
       "</mark>\n",
       "  </br> Chatbot using NLTK -Python (\n",
       "<mark class=\"entity\" style=\"background: #e06666; padding: 0.45em 0.6em; margin: 0 0.25em; line-height: 1; border-radius: 0.35em;\">\n",
       "    Sayabidevs\n",
       "    <span style=\"font-size: 0.8em; font-weight: bold; line-height: 1; border-radius: 0.35em; vertical-align: middle; margin-left: 0.5rem\">PERSON</span>\n",
       "</mark>\n",
       " ) Developed a chatbot </br>using NLTK and \n",
       "<mark class=\"entity\" style=\"background: linear-gradient(90deg, #9BE15D, #00E3AE); padding: 0.45em 0.6em; margin: 0 0.25em; line-height: 1; border-radius: 0.35em;\">\n",
       "    Python\n",
       "    <span style=\"font-size: 0.8em; font-weight: bold; line-height: 1; border-radius: 0.35em; vertical-align: middle; margin-left: 0.5rem\">SKILL</span>\n",
       "</mark>\n",
       ".  </br> Sentiment Analysis on IMDB dataset - (\n",
       "<mark class=\"entity\" style=\"background: linear-gradient(90deg, #9BE15D, #00E3AE); padding: 0.45em 0.6em; margin: 0 0.25em; line-height: 1; border-radius: 0.35em;\">\n",
       "    NLP\n",
       "    <span style=\"font-size: 0.8em; font-weight: bold; line-height: 1; border-radius: 0.35em; vertical-align: middle; margin-left: 0.5rem\">SKILL</span>\n",
       "</mark>\n",
       " -Python) (\n",
       "<mark class=\"entity\" style=\"background: #ffd966; padding: 0.45em 0.6em; margin: 0 0.25em; line-height: 1; border-radius: 0.35em;\">\n",
       "    Suven \n",
       "Consultants\n",
       "    <span style=\"font-size: 0.8em; font-weight: bold; line-height: 1; border-radius: 0.35em; vertical-align: middle; margin-left: 0.5rem\">ORG</span>\n",
       "</mark>\n",
       ")  Developed a \n",
       "<mark class=\"entity\" style=\"background: linear-gradient(90deg, #9BE15D, #00E3AE); padding: 0.45em 0.6em; margin: 0 0.25em; line-height: 1; border-radius: 0.35em;\">\n",
       "    sentiment analysis\n",
       "    <span style=\"font-size: 0.8em; font-weight: bold; line-height: 1; border-radius: 0.35em; vertical-align: middle; margin-left: 0.5rem\">SKILL</span>\n",
       "</mark>\n",
       " system using the </br>IMDB dataset and \n",
       "<mark class=\"entity\" style=\"background: linear-gradient(90deg, #9BE15D, #00E3AE); padding: 0.45em 0.6em; margin: 0 0.25em; line-height: 1; border-radius: 0.35em;\">\n",
       "    natural language processing\n",
       "    <span style=\"font-size: 0.8em; font-weight: bold; line-height: 1; border-radius: 0.35em; vertical-align: middle; margin-left: 0.5rem\">SKILL</span>\n",
       "</mark>\n",
       " techniques in </br>\n",
       "<mark class=\"entity\" style=\"background: linear-gradient(90deg, #9BE15D, #00E3AE); padding: 0.45em 0.6em; margin: 0 0.25em; line-height: 1; border-radius: 0.35em;\">\n",
       "    Python\n",
       "    <span style=\"font-size: 0.8em; font-weight: bold; line-height: 1; border-radius: 0.35em; vertical-align: middle; margin-left: 0.5rem\">SKILL</span>\n",
       "</mark>\n",
       ".  </br> State -of-the-Art \n",
       "<mark class=\"entity\" style=\"background: linear-gradient(90deg, #9BE15D, #00E3AE); padding: 0.45em 0.6em; margin: 0 0.25em; line-height: 1; border-radius: 0.35em;\">\n",
       "    Sentiment Analysis\n",
       "    <span style=\"font-size: 0.8em; font-weight: bold; line-height: 1; border-radius: 0.35em; vertical-align: middle; margin-left: 0.5rem\">SKILL</span>\n",
       "</mark>\n",
       " (MASM) Imple mented a </br>state -of-the-art \n",
       "<mark class=\"entity\" style=\"background: linear-gradient(90deg, #9BE15D, #00E3AE); padding: 0.45em 0.6em; margin: 0 0.25em; line-height: 1; border-radius: 0.35em;\">\n",
       "    sentiment analysis\n",
       "    <span style=\"font-size: 0.8em; font-weight: bold; line-height: 1; border-radius: 0.35em; vertical-align: middle; margin-left: 0.5rem\">SKILL</span>\n",
       "</mark>\n",
       " system using the MASM </br>\n",
       "<mark class=\"entity\" style=\"background: linear-gradient(90deg, #9BE15D, #00E3AE); padding: 0.45em 0.6em; margin: 0 0.25em; line-height: 1; border-radius: 0.35em;\">\n",
       "    framework\n",
       "    <span style=\"font-size: 0.8em; font-weight: bold; line-height: 1; border-radius: 0.35em; vertical-align: middle; margin-left: 0.5rem\">SKILL</span>\n",
       "</mark>\n",
       ".  </br>VIRTUAL EXPERIENCE PROGRAMS  </br> KPMG Australia — \n",
       "<mark class=\"entity\" style=\"background: linear-gradient(90deg, #9BE15D, #00E3AE); padding: 0.45em 0.6em; margin: 0 0.25em; line-height: 1; border-radius: 0.35em;\">\n",
       "    Data Science\n",
       "    <span style=\"font-size: 0.8em; font-weight: bold; line-height: 1; border-radius: 0.35em; vertical-align: middle; margin-left: 0.5rem\">SKILL</span>\n",
       "</mark>\n",
       " \n",
       "<mark class=\"entity\" style=\"background: #c27ba0; padding: 0.45em 0.6em; margin: 0 0.25em; line-height: 1; border-radius: 0.35em;\">\n",
       "    May 2022 - May 2022\n",
       "    <span style=\"font-size: 0.8em; font-weight: bold; line-height: 1; border-radius: 0.35em; vertical-align: middle; margin-left: 0.5rem\">DATE</span>\n",
       "</mark>\n",
       "  </br> Master Card -- Data Analysis  April2022 -April2022  </br> Walmart Global Tech — \n",
       "<mark class=\"entity\" style=\"background: linear-gradient(90deg, #9BE15D, #00E3AE); padding: 0.45em 0.6em; margin: 0 0.25em; line-height: 1; border-radius: 0.35em;\">\n",
       "    Software\n",
       "    <span style=\"font-size: 0.8em; font-weight: bold; line-height: 1; border-radius: 0.35em; vertical-align: middle; margin-left: 0.5rem\">SKILL</span>\n",
       "</mark>\n",
       " \n",
       "<mark class=\"entity\" style=\"background: #c27ba0; padding: 0.45em 0.6em; margin: 0 0.25em; line-height: 1; border-radius: 0.35em;\">\n",
       "    Jan 2022 - Feb 2022\n",
       "    <span style=\"font-size: 0.8em; font-weight: bold; line-height: 1; border-radius: 0.35em; vertical-align: middle; margin-left: 0.5rem\">DATE</span>\n",
       "</mark>\n",
       "  </br> </br>ACHIEVEMENTS  </br> Runners Up - Bytecorp Hackathon for FYP Idea Presentation, \n",
       "<mark class=\"entity\" style=\"background: #c27ba0; padding: 0.45em 0.6em; margin: 0 0.25em; line-height: 1; border-radius: 0.35em;\">\n",
       "    Fall \n",
       "2022\n",
       "    <span style=\"font-size: 0.8em; font-weight: bold; line-height: 1; border-radius: 0.35em; vertical-align: middle; margin-left: 0.5rem\">DATE</span>\n",
       "</mark>\n",
       "  </br> Deans List of Honors – FAST NUCES, \n",
       "<mark class=\"entity\" style=\"background: #c27ba0; padding: 0.45em 0.6em; margin: 0 0.25em; line-height: 1; border-radius: 0.35em;\">\n",
       "    Fall 2022\n",
       "    <span style=\"font-size: 0.8em; font-weight: bold; line-height: 1; border-radius: 0.35em; vertical-align: middle; margin-left: 0.5rem\">DATE</span>\n",
       "</mark>\n",
       "  </br> Special Mention - Sayabidevs, \n",
       "<mark class=\"entity\" style=\"background: #c27ba0; padding: 0.45em 0.6em; margin: 0 0.25em; line-height: 1; border-radius: 0.35em;\">\n",
       "    Fall 2022\n",
       "    <span style=\"font-size: 0.8em; font-weight: bold; line-height: 1; border-radius: 0.35em; vertical-align: middle; margin-left: 0.5rem\">DATE</span>\n",
       "</mark>\n",
       "  </br> \n",
       "<mark class=\"entity\" style=\"background: #ffd966; padding: 0.45em 0.6em; margin: 0 0.25em; line-height: 1; border-radius: 0.35em;\">\n",
       "    Enviable - Suven Consultants\n",
       "    <span style=\"font-size: 0.8em; font-weight: bold; line-height: 1; border-radius: 0.35em; vertical-align: middle; margin-left: 0.5rem\">ORG</span>\n",
       "</mark>\n",
       ", \n",
       "<mark class=\"entity\" style=\"background: #c27ba0; padding: 0.45em 0.6em; margin: 0 0.25em; line-height: 1; border-radius: 0.35em;\">\n",
       "    Fall 2022\n",
       "    <span style=\"font-size: 0.8em; font-weight: bold; line-height: 1; border-radius: 0.35em; vertical-align: middle; margin-left: 0.5rem\">DATE</span>\n",
       "</mark>\n",
       "  </br>CO-CURRICULAR ACTIVITIES  </br> PROCOM (Guest Relation Officer)  Assisted with the planning and </br>coordination of events and activities, developed creative </br>\n",
       "<mark class=\"entity\" style=\"background: linear-gradient(90deg, #9BE15D, #00E3AE); padding: 0.45em 0.6em; margin: 0 0.25em; line-height: 1; border-radius: 0.35em;\">\n",
       "    marketing\n",
       "    <span style=\"font-size: 0.8em; font-weight: bold; line-height: 1; border-radius: 0.35em; vertical-align: middle; margin-left: 0.5rem\">SKILL</span>\n",
       "</mark>\n",
       " strategies to promote the e vent, and provided excellent </br>customer service to guests.  </br> SOFTEC (Campus Ambassador)  Represented the organization on </br>campus, organized events, and promoted the organization’s </br>activities to students.  </br> Devday (Guest Relation Officer)  Developed and implemented </br>creative \n",
       "<mark class=\"entity\" style=\"background: linear-gradient(90deg, #9BE15D, #00E3AE); padding: 0.45em 0.6em; margin: 0 0.25em; line-height: 1; border-radius: 0.35em;\">\n",
       "    marketing\n",
       "    <span style=\"font-size: 0.8em; font-weight: bold; line-height: 1; border-radius: 0.35em; vertical-align: middle; margin-left: 0.5rem\">SKILL</span>\n",
       "</mark>\n",
       " strategies to promote events, managed guest </br>lists, and provided customer service to guests.  </br> NFLYP (Ambassador)  Served as a brand ambassador for the \n",
       "<mark class=\"entity\" style=\"background: #ffd966; padding: 0.45em 0.6em; margin: 0 0.25em; line-height: 1; border-radius: 0.35em;\">\n",
       "    SBP\n",
       "    <span style=\"font-size: 0.8em; font-weight: bold; line-height: 1; border-radius: 0.35em; vertical-align: middle; margin-left: 0.5rem\">ORG</span>\n",
       "</mark>\n",
       " </div></span>"
      ],
      "text/plain": [
       "<IPython.core.display.HTML object>"
      ]
     },
     "metadata": {},
     "output_type": "display_data"
    }
   ],
   "source": [
    "import PyPDF2\n",
    "import tkinter as tk\n",
    "from tkinter import filedialog\n",
    "from tkinter import ttk\n",
    "\n",
    "# Create a Tkinter root window\n",
    "root = tk.Tk()\n",
    "root.title(\"Resume Recommendation System\")\n",
    "\n",
    "# Define style for the widgets\n",
    "style = ttk.Style()\n",
    "style.configure('TLabel', foreground='black', font=('Arial', 12))\n",
    "style.configure('TButton', foreground='black', font=('Arial', 12))\n",
    "style.configure('TEntry', foreground='black', font=('Arial', 12))\n",
    "\n",
    "# Define a function to handle the file chooser button click event\n",
    "def choose_file():\n",
    "    # Get the desired skills from the entry widget\n",
    "    input_skills = tag_entry.get()\n",
    "\n",
    "    file_path = filedialog.askopenfilename()\n",
    "    if file_path:\n",
    "        # Open the selected PDF file in read binary mode\n",
    "        with open(file_path, 'rb') as pdf_file:\n",
    "            # Create a PDF reader object\n",
    "            pdf_reader = PyPDF2.PdfReader(pdf_file)\n",
    "            # Read the text from each page of the PDF file\n",
    "            pdf_text = []\n",
    "            for page_num in range(len(pdf_reader.pages)):\n",
    "                page_obj = pdf_reader.pages[page_num]\n",
    "                pdf_text.append(page_obj.extract_text())\n",
    "            # Join the text from each page into a single string\n",
    "            input_resume = '\\n'.join(pdf_text)\n",
    "\n",
    "            # Now you can use the 'text' variable to store the extracted text from the PDF file\n",
    "            sent2 = nlp(input_resume)\n",
    "            displacy.render(sent2, style=\"ent\", jupyter=True, options=options)\n",
    "\n",
    "\n",
    "            req_skills = input_skills.lower().split(\",\")\n",
    "            resume_skills = unique_skills(get_skills(input_resume.lower()))\n",
    "            score = 0\n",
    "            for x in req_skills:\n",
    "                if x in resume_skills:\n",
    "                    score += 1\n",
    "            req_skills_len = len(req_skills)\n",
    "            match = round(score / req_skills_len * 100, 1)\n",
    "            result_textbox.delete(1.0, tk.END)\n",
    "            result_textbox.insert(tk.END, f\"The current Resume is {match}% matched to your requirements\\n{resume_skills}\")\n",
    "\n",
    "# Create a label for the user to enter their desired skills\n",
    "tag_label = ttk.Label(root, text=\"Enter desired skills (comma-separated): \")\n",
    "tag_label.pack()\n",
    "\n",
    "# Create an entry widget for the user to enter their desired skills\n",
    "tag_entry = ttk.Entry(root)\n",
    "tag_entry.pack()\n",
    "\n",
    "# Create a label for the file chooser button\n",
    "file_label = ttk.Label(root, text=\"Upload Resume:\")\n",
    "file_label.pack()\n",
    "\n",
    "# Create a file chooser button\n",
    "file_button = ttk.Button(root, text=\"Choose File\", command=choose_file)\n",
    "file_button.pack()\n",
    "\n",
    "# Create a label to display the result\n",
    "result_label = ttk.Label(root, text=\"Result: \")\n",
    "result_label.pack()\n",
    "\n",
    "# Create a text box to display the result\n",
    "result_textbox = tk.Text(root, height=10, width=50)\n",
    "result_textbox.pack()\n",
    "\n",
    "# Create an exit button to close the Tkinter window\n",
    "exit_button = ttk.Button(root, text=\"Exit\", command=root.destroy)\n",
    "exit_button.pack()\n",
    "\n",
    "# Start the Tkinter event loop\n",
    "root.mainloop()\n"
   ]
  },
  {
   "attachments": {},
   "cell_type": "markdown",
   "metadata": {},
   "source": [
    "**Resume Recommender**\n"
   ]
  },
  {
   "cell_type": "code",
   "execution_count": null,
   "metadata": {},
   "outputs": [],
   "source": [
    "import os\n",
    "import PyPDF2\n",
    "import tkinter as tk\n",
    "from tkinter import filedialog\n",
    "import pandas as pd\n",
    "\n",
    "\n",
    "def get_resume_skills(resume_text):\n",
    "    resume_skills = get_skills(resume_text.lower())\n",
    "    return unique_skills(resume_skills)\n",
    "\n",
    "\n",
    "def calculate_match_score(req_skills, resume_skills):\n",
    "    score = 0\n",
    "    for skill in req_skills:\n",
    "        if skill in resume_skills:\n",
    "            score += 1\n",
    "    req_skills_len = len(req_skills)\n",
    "    match_score = round(score / req_skills_len * 100, 1)\n",
    "    return match_score\n",
    "\n",
    "\n",
    "def extract_resume_text(pdf_path):\n",
    "    with open(pdf_path, 'rb') as f:\n",
    "        pdf_reader = PyPDF2.PdfReader(f)\n",
    "        resume_text = ''\n",
    "        for page_num in range(len(pdf_reader.pages)):\n",
    "            page = pdf_reader.pages[page_num]\n",
    "            resume_text += page.extract_text()\n",
    "        resume_skills = get_resume_skills(resume_text)\n",
    "        return resume_text, resume_skills\n",
    "\n",
    "\n",
    "def process_resumes(resumes_folder, req_skills, ground_truth_file=None):\n",
    "    resumes = os.listdir(resumes_folder)\n",
    "    match_scores = []\n",
    "    for resume_file in resumes:\n",
    "        if not resume_file.endswith('.pdf'):\n",
    "            continue\n",
    "        resume_path = os.path.join(resumes_folder, resume_file)\n",
    "        resume_text, resume_skills = extract_resume_text(resume_path)\n",
    "        match_score = calculate_match_score(req_skills, resume_skills)\n",
    "        match_scores.append((match_score, resume_file, resume_skills))\n",
    "\n",
    "    # Sort resumes by match score\n",
    "    top_resumes = sorted(match_scores, reverse=True)[:10] # Get top 10 resumes with highest match scores\n",
    "\n",
    "    # If ground truth file is provided, calculate precision, recall, and F1 score\n",
    "    if ground_truth_file is not None:\n",
    "        ground_truth = pd.read_csv(ground_truth_file)\n",
    "        relevant_resumes = set(ground_truth[ground_truth['relevant'] == 1]['resume'].values)\n",
    "        selected_resumes = set([resume_file for _, resume_file, _ in top_resumes])\n",
    "        true_positives = len(relevant_resumes & selected_resumes)\n",
    "        false_positives = len(selected_resumes - relevant_resumes)\n",
    "        false_negatives = len(relevant_resumes - selected_resumes)\n",
    "        precision = true_positives / (true_positives + false_positives)\n",
    "        recall = true_positives / (true_positives + false_negatives)\n",
    "        \n",
    "        if precision != 0 or recall != 0:\n",
    "            f1_score = 2 * precision * recall / (precision + recall)\n",
    "        else:\n",
    "            f1_score = 0\n",
    "\n",
    "        return top_resumes, precision, recall, f1_score\n",
    "    else:\n",
    "        return top_resumes, None, None, None\n",
    "\n",
    "\n",
    "def process_input():\n",
    "    # Get the input skills from the user\n",
    "    input_skills = input_skills_entry.get().lower().split(\",\")\n",
    "\n",
    "    # Get the resumes folder from the user using a file dialog\n",
    "    resumes_folder = filedialog.askdirectory(title=\"Select Resumes Folder\")\n",
    "\n",
    "    # Get the ground truth file from the user using a file dialog\n",
    "    ground_truth_file = filedialog.askopenfilename(title=\"Select Ground Truth File\",\n",
    "                                                   filetypes=[(\"CSV Files\", \"*.csv\")])\n",
    "\n",
    "    # Process the resumes\n",
    "    top_resumes, precision, recall, f1_score = process_resumes(resumes_folder, input_skills, ground_truth_file)\n",
    "\n",
    "    # Print the results to the text widget\n",
    "    result_text.delete(\"1.0\", tk.END)\n",
    "    result_text.insert(tk.END, \"Top Resumes:\\n\")\n",
    "    for i, (match_score, resume_file, resume_skills) in enumerate(top_resumes):\n",
    "        result_text.insert(tk.END, f\"{i+1}. {resume_file} (Match Score: {match_score}%)\\n\")\n",
    "        result_text.insert(tk.END, f\"Skills: {', '.join(resume_skills)}\\n\\n\")\n",
    "\n",
    "    if precision is not None and recall is not None and f1_score is not None:\n",
    "        result_text.insert(tk.END, f\"Precision: {precision}\\n\")\n",
    "        result_text.insert(tk.END, f\"Recall: {recall}\\n\")\n",
    "        result_text.insert(tk.END, f\"F1 Score: {f1_score}\\n\")\n",
    "\n",
    "# Create the main window\n",
    "root = tk.Tk()\n",
    "root.title(\"Resume Matcher\")\n",
    "\n",
    "# Create the input skills label and entry widget\n",
    "input_skills_label = tk.Label(root, text=\"Enter required skills (comma-separated): \")\n",
    "input_skills_label.grid(row=0, column=0, padx=10, pady=10)\n",
    "input_skills_entry = tk.Entry(root)\n",
    "input_skills_entry.grid(row=0, column=1, padx=10, pady=10)\n",
    "\n",
    "# Create the resumes folder label and button\n",
    "resumes_folder_label = tk.Label(root, text=\"Select Resumes Folder: \")\n",
    "resumes_folder_label.grid(row=1, column=0, padx=10, pady=10)\n",
    "resumes_folder_button = tk.Button(root, text=\"Browse\", command=lambda: input_folder.set(filedialog.askdirectory(title=\"Select Resumes Folder\")))\n",
    "resumes_folder_button.grid(row=1, column=1, padx=10, pady=10)\n",
    "input_folder = tk.StringVar()\n",
    "input_folder.set(\"\")\n",
    "\n",
    "# Create the ground truth file label and button\n",
    "ground_truth_label = tk.Label(root, text=\"Select Ground Truth File: \")\n",
    "ground_truth_label.grid(row=2, column=0, padx=10, pady=10)\n",
    "ground_truth_button = tk.Button(root, text=\"Browse\", command=lambda: input_file.set(filedialog.askopenfilename(title=\"Select Ground Truth File\", filetypes=[(\"CSV Files\", \"*.csv\")])))\n",
    "ground_truth_button.grid(row=2, column=1, padx=10, pady=10)\n",
    "input_file = tk.StringVar()\n",
    "input_file.set(\"\")\n",
    "\n",
    "# Create the submit button\n",
    "submit_button = tk.Button(root, text=\"Submit\", command=process_input)\n",
    "submit_button.grid(row=3, column=0, padx=10, pady=10)\n",
    "\n",
    "# Create the result text widget\n",
    "result_text = tk.Text(root, width=80, height=20)\n",
    "result_text.grid(row=4, column=0, columnspan=2, padx=10, pady=10)\n",
    "\n",
    "# Start the main loop\n",
    "root.mainloop()\n"
   ]
  },
  {
   "attachments": {},
   "cell_type": "markdown",
   "metadata": {},
   "source": [
    "### **Topic Modeling - LDA**\n"
   ]
  },
  {
   "cell_type": "code",
   "execution_count": null,
   "metadata": {},
   "outputs": [],
   "source": [
    "docs = data[\"Clean_Resume\"].values\n",
    "dictionary = corpora.Dictionary(d.split() for d in docs)\n",
    "bow = [dictionary.doc2bow(d.split()) for d in docs]\n",
    "lda = gensim.models.ldamodel.LdaModel\n",
    "num_topics = 4\n",
    "ldamodel = lda(\n",
    "    bow, \n",
    "    num_topics=num_topics, \n",
    "    id2word=dictionary, \n",
    "    passes=50, \n",
    "    minimum_probability=0\n",
    ")\n",
    "ldamodel.print_topics(num_topics=num_topics)"
   ]
  },
  {
   "cell_type": "markdown",
   "metadata": {},
   "source": [
    "## pyLDAvis\n",
    "The best way to visualize Topics is to use pyLDAvis from GENSIM.\n",
    "\n",
    "* topic #1 appears to relate to the project,management,system.\n",
    "* topic #2 relates to management,company,business.\n",
    "* topic #3 relates to customer,services , state.\n",
    "* topic #4 relates to state,city,student."
   ]
  },
  {
   "cell_type": "code",
   "execution_count": null,
   "metadata": {},
   "outputs": [
    {
     "data": {
      "text/html": [
       "\n",
       "<link rel=\"stylesheet\" type=\"text/css\" href=\"https://cdn.jsdelivr.net/gh/bmabey/pyLDAvis@3.4.0/pyLDAvis/js/ldavis.v1.0.0.css\">\n",
       "\n",
       "\n",
       "<div id=\"ldavis_el263618412291647207449498791\" style=\"background-color:white;\"></div>\n",
       "<script type=\"text/javascript\">\n",
       "\n",
       "var ldavis_el263618412291647207449498791_data = {\"mdsDat\": {\"x\": [0.032416912269123084, 0.10629604095872142, -0.023824033293611747, -0.11488891993423271], \"y\": [-0.005576837311560403, 0.051770262573589916, -0.11672229806273042, 0.07052887280070089], \"topics\": [1, 2, 3, 4], \"cluster\": [1, 1, 1, 1], \"Freq\": [28.052167600143974, 27.73914193164198, 22.507677069132423, 21.70101339908161]}, \"tinfo\": {\"Term\": [\"marketing\", \"customer\", \"project\", \"system\", \"sale\", \"financial\", \"medium\", \"accounting\", \"engineering\", \"food\", \"design\", \"construction\", \"business\", \"network\", \"account\", \"patient\", \"strategy\", \"hr\", \"technical\", \"server\", \"engineer\", \"tax\", \"development\", \"equipment\", \"software\", \"payroll\", \"employee\", \"fitness\", \"campaign\", \"service\", \"accountant\", \"compensation\", \"receivable\", \"ledger\", \"adp\", \"reconciled\", \"payable\", \"variance\", \"reconciliation\", \"accrual\", \"tax\", \"hris\", \"termination\", \"cpa\", \"ar\", \"hr\", \"gaap\", \"pivot\", \"fmla\", \"depreciation\", \"shrm\", \"statutory\", \"gl\", \"attorney\", \"taxation\", \"wage\", \"exempt\", \"deduction\", \"receivables\", \"disbursement\", \"statement\", \"treasury\", \"settlement\", \"accounting\", \"quickbooks\", \"applicant\", \"payroll\", \"financial\", \"claim\", \"human\", \"finance\", \"benefit\", \"bank\", \"audit\", \"reporting\", \"invoice\", \"loan\", \"account\", \"recruitment\", \"employee\", \"monthly\", \"resource\", \"student\", \"teacher\", \"balance\", \"report\", \"process\", \"management\", \"policy\", \"payment\", \"state\", \"company\", \"analysis\", \"city\", \"name\", \"business\", \"office\", \"skill\", \"program\", \"training\", \"manager\", \"new\", \"system\", \"team\", \"service\", \"client\", \"development\", \"project\", \"stocked\", \"cleanliness\", \"neat\", \"gym\", \"fitness\", \"bartender\", \"liquor\", \"drink\", \"sanitation\", \"garnish\", \"yoga\", \"patron\", \"aide\", \"cooked\", \"pallet\", \"alcoholic\", \"alcohol\", \"weight\", \"specimen\", \"utensil\", \"wound\", \"feeding\", \"assault\", \"salad\", \"therapeutic\", \"meal\", \"illness\", \"greeted\", \"clean\", \"garnishing\", \"beverage\", \"dish\", \"merchandise\", \"patient\", \"food\", \"complaint\", \"guest\", \"dining\", \"greet\", \"exercise\", \"nursing\", \"friendly\", \"medication\", \"kitchen\", \"menu\", \"cleaning\", \"bar\", \"cook\", \"customer\", \"store\", \"care\", \"child\", \"item\", \"cooking\", \"medical\", \"service\", \"advocate\", \"call\", \"health\", \"manner\", \"order\", \"sale\", \"personal\", \"daily\", \"skill\", \"need\", \"state\", \"city\", \"name\", \"company\", \"inventory\", \"maintained\", \"high\", \"staff\", \"product\", \"work\", \"member\", \"equipment\", \"experience\", \"problem\", \"team\", \"client\", \"training\", \"professional\", \"management\", \"new\", \"branding\", \"editorial\", \"seo\", \"festival\", \"blog\", \"nfl\", \"esoh\", \"deloitte\", \"postdoctoral\", \"iraq\", \"campaign\", \"ecommerce\", \"co2\", \"delaware\", \"jamie\", \"asian\", \"johnson\", \"photographer\", \"activation\", \"cordon\", \"cody\", \"leonard\", \"anthropology\", \"follower\", \"wy\", \"producer\", \"mayor\", \"debra\", \"bleu\", \"celebrity\", \"medium\", \"press\", \"pr\", \"marketing\", \"photography\", \"instagram\", \"google\", \"digital\", \"audience\", \"facebook\", \"brand\", \"salesforce\", \"content\", \"channel\", \"analytics\", \"pitch\", \"advertising\", \"indesign\", \"strategy\", \"market\", \"news\", \"strategic\", \"fundraising\", \"website\", \"partnership\", \"public\", \"launch\", \"collateral\", \"executive\", \"relation\", \"graphic\", \"print\", \"event\", \"business\", \"international\", \"development\", \"social\", \"national\", \"sale\", \"art\", \"director\", \"creative\", \"client\", \"communication\", \"relationship\", \"developed\", \"product\", \"company\", \"management\", \"state\", \"city\", \"new\", \"name\", \"team\", \"program\", \"manager\", \"project\", \"managed\", \"university\", \"experience\", \"service\", \"engineer\", \"3d\", \"lan\", \"autocad\", \"router\", \"linux\", \"schematic\", \"asp\", \"aviation\", \"vpn\", \"wan\", \"firewall\", \"naval\", \"fiber\", \"fabrication\", \"hvac\", \"diagram\", \"engineering\", \"welding\", \"scrum\", \"dhcp\", \"matlab\", \"xml\", \"aircraft\", \"ftp\", \"animation\", \"coating\", \"configuration\", \"itil\", \"symantec\", \"java\", \"cad\", \"cisco\", \"construction\", \"hardware\", \"installation\", \"sql\", \"server\", \"upgrade\", \"mechanical\", \"concrete\", \"electrical\", \"troubleshooting\", \"infrastructure\", \"network\", \"qa\", \"architecture\", \"navy\", \"technical\", \"user\", \"window\", \"testing\", \"manufacturing\", \"system\", \"project\", \"component\", \"design\", \"application\", \"test\", \"software\", \"technology\", \"maintenance\", \"site\", \"support\", \"specification\", \"security\", \"computer\", \"equipment\", \"data\", \"control\", \"management\", \"using\", \"process\", \"city\", \"company\", \"state\", \"work\", \"team\", \"name\", \"quality\", \"information\", \"operation\", \"experience\", \"development\", \"service\", \"skill\", \"new\"], \"Freq\": [1826.0, 4752.0, 3202.0, 2721.0, 3445.0, 1647.0, 966.0, 1155.0, 765.0, 1036.0, 1356.0, 680.0, 3078.0, 800.0, 1842.0, 744.0, 965.0, 608.0, 882.0, 503.0, 430.0, 520.0, 2272.0, 959.0, 999.0, 602.0, 1758.0, 465.0, 395.0, 3666.0, 296.93204969983475, 172.1382595002936, 164.3774339478644, 244.6834555273545, 91.05875197461835, 89.14063522280829, 253.905519750499, 89.02354169112682, 371.28670895197905, 71.74396471829351, 515.6038201633169, 64.97557812029648, 69.62685664674733, 60.09852176992736, 54.305704371623, 597.8896228321543, 45.51211653610758, 40.77132063025163, 35.012555524113, 33.0835247075725, 32.11627501458649, 31.121244065923044, 29.197958708405544, 64.99432457115597, 28.221328098612247, 44.195747525166176, 27.265030927244368, 25.34732694602899, 61.9463342034293, 24.385122796709762, 377.49490175816794, 44.99763003723203, 55.11649349888112, 1081.2752674836388, 116.30084805692634, 129.32565239829322, 542.6793560582955, 1423.5861165088736, 269.8134626009676, 548.5315303808749, 517.8682027320147, 441.2393979892807, 404.9169393389456, 350.480363614673, 588.0479822550014, 245.10840926406988, 259.6413799343211, 1235.6488855951097, 222.6062690065637, 1173.103669970842, 562.7587739214634, 656.5960411602883, 863.5490647198552, 356.20820425551256, 206.81347120546621, 901.0211279332916, 1051.5229681217336, 1931.8950240056738, 573.2652776835848, 364.94322994243214, 1938.1638043565445, 1837.3887915138587, 633.5076743617908, 1637.6654987599422, 1283.53560726766, 990.1547998956329, 677.3185402272293, 945.9713431917769, 747.2512521932649, 746.5623508896887, 704.8131433913121, 699.3509116548822, 680.2159949537271, 684.7397965888164, 652.0818793850501, 625.3909123671125, 576.8378507651057, 578.1521943799613, 61.276769585991175, 60.27014438555699, 63.0859224696301, 48.59816265588108, 457.807853777868, 41.87087717781737, 54.1951084930555, 98.7896985506359, 119.54104095590745, 33.16623443292418, 35.021116964238864, 72.86368068381168, 34.04258160171617, 34.99400570732321, 42.520989603329106, 29.300575840253906, 33.99592154153919, 73.66389627927498, 28.32222047579003, 28.323533701064232, 27.350025608268833, 27.33621899660223, 27.323870115693673, 28.269189498404426, 27.300310651459785, 84.70440932603853, 26.337681032895272, 63.02735972091572, 248.1650780411619, 23.47700484147447, 185.5990508098156, 105.22924825853354, 257.3926202172924, 701.1996672397473, 967.1200174619531, 222.61490626188765, 283.3932637581927, 101.06406275525259, 64.16739136995805, 191.65594999650313, 178.67323254324228, 151.91537012628115, 82.24424149140984, 278.048487595872, 264.82085109378875, 92.61173926106487, 174.51317825222964, 104.99098153233561, 3444.12613810454, 553.7843601320363, 506.7850112197364, 374.00071702875516, 314.08428150469734, 127.9427926011188, 424.4967538649855, 2057.1919934611246, 128.1101958661884, 480.3995470401845, 546.6108848179994, 256.6852836201798, 560.3077331612973, 1570.9010440410093, 359.52538468661646, 561.7587507523004, 1338.9932892650309, 571.8824905873716, 2168.8085564979233, 1953.0143496362587, 1515.27578252067, 1824.590125607397, 507.9645410343619, 570.2875962381416, 570.1566184957356, 696.8667336863828, 793.8653856369865, 802.7328505695932, 588.3316157277384, 484.8575767092445, 690.1821229593627, 462.32770137180466, 724.5963726655172, 706.2736046327756, 651.1926166793625, 579.4975746600257, 648.3812802375295, 562.172655020963, 67.97248812455766, 53.43953879788013, 37.96333247543753, 29.243616363011494, 26.320796288064333, 22.45369274401924, 22.42928366071735, 20.53768255786024, 18.62037230928368, 19.51476588310766, 380.39484042958406, 17.642750056006264, 17.634046631815274, 21.340703548573934, 17.626462248692565, 17.60472734441414, 17.58278056287463, 16.6586172053371, 15.711219346207223, 15.645353288328842, 14.747719843764893, 14.714092042544799, 14.708820824277387, 14.719630678714555, 13.779354364030247, 64.32797707124357, 13.737885047089033, 13.745205097900577, 13.704714941894109, 26.548786506301173, 898.2931686431599, 229.15667044214905, 122.69757060496346, 1606.0112736239553, 47.15139195966883, 21.01410195031636, 85.63623048589812, 318.64951140501637, 74.36630206129007, 43.90123180164146, 394.90867143330456, 60.29555372290697, 344.34466911111514, 109.01975378992385, 104.62225974954673, 35.796815483664105, 270.32938390256686, 49.05883860177037, 725.6136122669174, 512.1926669361344, 74.11181895717382, 503.2237502516939, 85.27167817317599, 249.9087933588403, 134.53693459670697, 521.0568216288003, 125.64981487741191, 86.05108204899089, 483.43209370131416, 547.2227994078922, 218.50558818478697, 140.75632623516415, 553.2376451499052, 1482.3111574172158, 292.12925838889555, 1075.9939281187264, 339.1288186918551, 273.43510136623286, 1436.50051242336, 453.44985674965636, 389.26873736213844, 234.3732778597788, 966.5561878050701, 615.3313250764344, 423.6418610749246, 563.658682185304, 717.154583353942, 1496.86724867775, 1178.6456717424337, 1411.213738881239, 1285.984749271446, 776.1180421087072, 1013.7079706062885, 779.9554972356251, 655.6139071929795, 631.8953051431918, 673.8876503601806, 497.9678447447839, 472.4585465949377, 486.6627652654428, 475.9845791751475, 426.87677969577135, 79.16104773432181, 80.09224815140422, 75.30219629987381, 73.3461740364634, 76.17580061693732, 59.905810729842536, 56.063230590317225, 182.18319183812594, 50.274997072054326, 49.298421876176036, 46.42756965744478, 47.34947615838778, 43.538149439802474, 43.49261202739084, 39.64652534844289, 37.755612064764584, 750.7298444850107, 37.71924560161216, 35.788308581763694, 31.99093860408173, 31.025013926698673, 32.88876937988253, 171.96072501956507, 32.836625472665006, 30.024156738653325, 29.0952768256006, 142.66315974267908, 32.838715909628505, 29.086135626393055, 63.568490323626996, 89.39980171449959, 133.32645112895432, 639.5591532974586, 252.8750583319002, 197.8990255295637, 229.29197817854217, 468.64743889956, 143.6062760471208, 189.94284624653983, 79.83788124301498, 168.29121878059243, 204.45644465022772, 170.27895063240166, 665.5756448765737, 111.70320124561954, 108.26776047978154, 115.51117612505084, 671.3282100662299, 347.5702502421456, 363.7240681608345, 377.63503365134943, 233.37960354360243, 1705.0611092021174, 1921.838105381016, 152.63675746239795, 854.5708210774307, 559.5489359551722, 362.74179285505767, 639.6449603798008, 589.4012960621575, 432.27155093076465, 367.2562164279439, 743.994305855032, 212.9076330595297, 326.4826520223337, 394.70331262471854, 450.6990026644144, 567.9599340280147, 420.2484364519435, 1018.887829623248, 396.1114817367509, 621.9718112893736, 1015.615101806637, 1007.0384554461368, 1010.9673662689136, 581.0147326984139, 659.1008277660194, 771.1893120140381, 464.6803845438781, 477.8122636147986, 448.4414576773927, 478.9540309308757, 460.549585903845, 480.8842777495256, 456.53378906351907, 434.195197204619], \"Total\": [1826.0, 4752.0, 3202.0, 2721.0, 3445.0, 1647.0, 966.0, 1155.0, 765.0, 1036.0, 1356.0, 680.0, 3078.0, 800.0, 1842.0, 744.0, 965.0, 608.0, 882.0, 503.0, 430.0, 520.0, 2272.0, 959.0, 999.0, 602.0, 1758.0, 465.0, 395.0, 3666.0, 297.6832384639841, 172.97998844856477, 165.24625930850172, 246.43417443855614, 91.79532701488638, 89.86950675844191, 256.1033079100492, 89.85173968689557, 375.00792344633857, 72.47167417843846, 520.9633900300295, 65.70437307188877, 70.49625692981716, 60.85250687048811, 55.06025051239801, 608.8658320807186, 46.34949878591583, 41.52255479912011, 35.740347027901734, 33.809440296158236, 32.84247177976964, 31.8630344527835, 29.93413760467265, 66.64852960213835, 28.964384288912015, 45.379861237690136, 27.999298876388696, 26.074644990288203, 63.74880053332783, 25.110509076823774, 391.41502699280386, 46.349815453630036, 56.976532219742396, 1155.1355601824914, 121.71314657052538, 136.24205138199156, 602.3020429442008, 1647.301858803088, 300.59622033438154, 636.1450477170656, 622.5956303989818, 527.9093756202413, 483.39465213980543, 415.4338829312657, 745.1477597826661, 285.1186049914037, 311.2872478536743, 1842.382243683629, 265.8334893796392, 1758.1320211849709, 765.895706324819, 933.5570811485577, 1315.3994260944012, 460.31698214335677, 245.5180955982052, 1495.3827996736527, 2010.719769330592, 4777.809805608885, 1012.4615221587637, 528.0547078105201, 6529.153466004621, 6165.8846212451435, 1243.2717417983145, 5892.279699474284, 4583.708672408657, 3078.883333720152, 1566.2709887542833, 3207.9831319371065, 2048.7768529830037, 2258.0050282958864, 2204.719310416089, 2471.8368059891714, 2721.8157568317065, 2848.392494255978, 3666.142729770848, 2687.3424634703247, 2272.0249001008447, 3202.83345954192, 62.0066728766458, 61.029518455583705, 63.933795563828376, 49.37794487402929, 465.17124975300345, 42.6143895172674, 55.20640788942935, 100.72943753777156, 122.09328101337661, 33.900797775572066, 35.80343774011121, 74.5857345094195, 34.849611754704945, 35.83612475052827, 43.563345056260204, 30.025084094226898, 34.85957137897292, 75.54324452506482, 29.050850344942543, 29.054231770332365, 28.080036031470517, 28.07723429844278, 28.070329880223262, 29.0500824873194, 28.067180192618846, 87.15964314272452, 27.102190073585508, 64.89056144043158, 255.7927628127244, 24.20688059095684, 191.84135538448143, 108.51218496324694, 268.39249628180465, 744.283674554621, 1036.073630646098, 234.45890981169575, 300.40137339243586, 105.6062070909744, 66.82591903718836, 204.42724695272605, 190.86686709771624, 161.75694473439876, 86.19865747828776, 305.2452802287313, 290.7304585577771, 97.8215041284509, 189.85422222412234, 112.37489797287706, 4752.556443161237, 667.4391600640728, 619.0113584790938, 469.8452786972284, 393.179740326004, 143.36890403019996, 574.3273019602665, 3666.142729770848, 144.29847921285258, 688.4216466631017, 833.8934443334034, 335.03703832699523, 924.108556882244, 3445.88863658836, 543.2631008662947, 985.233235117575, 3207.9831319371065, 1037.6816466631224, 6529.153466004621, 5892.279699474284, 4583.708672408657, 6165.8846212451435, 925.8517792545098, 1116.5978531359747, 1124.4201272958444, 1555.2383238794962, 1964.186301553366, 2028.124085957702, 1224.3051398334978, 959.3797915378607, 2212.447334593275, 962.2444837688777, 2848.392494255978, 2687.3424634703247, 2258.0050282958864, 1670.6545256956226, 4777.809805608885, 2471.8368059891714, 68.7204443846441, 54.20546476579821, 38.70875816540194, 29.98526208096015, 27.077875878240036, 23.20232251104404, 23.195718595497304, 21.275280186346478, 19.346428907458503, 20.282621691051617, 395.9868198483655, 18.37354244417882, 18.3688175865163, 22.230719462662517, 18.363611649673818, 18.356419302368586, 18.35367427925231, 17.39891851488457, 16.44052083015707, 16.4080584388014, 15.473425826212669, 15.455801972925904, 15.456056634600067, 15.470388005968537, 14.505063342537548, 67.73967756432528, 14.490544218289175, 14.49844464504486, 14.469904274525096, 28.042941892797185, 966.229400282868, 244.91687870103954, 131.61283284000953, 1826.1448140912332, 50.28699337223847, 22.237206948177523, 93.83416087032309, 363.80251170750205, 81.2670602403347, 47.393652770081424, 458.90428350395973, 65.77519770292639, 409.4375167470142, 122.8657772736745, 119.01286923978317, 38.67342863913479, 328.2029486856482, 54.1481485858164, 965.9175447379442, 671.7994175257677, 84.16023383571871, 674.4639097779968, 98.6912469369034, 322.1263283678005, 165.48359437258443, 738.4950377851865, 153.78766192738073, 101.55392630398057, 721.945305290031, 851.7823471697488, 299.72889039550546, 179.88558755354924, 907.2669576292294, 3078.883333720152, 437.35750787096464, 2272.0249001008447, 537.3816235378815, 413.12215419582407, 3445.88863658836, 821.7053344337746, 675.3167235688254, 354.2842009241169, 2687.3424634703247, 1450.29046820819, 852.7673344405846, 1311.271500863224, 1964.186301553366, 6165.8846212451435, 4777.809805608885, 6529.153466004621, 5892.279699474284, 2471.8368059891714, 4583.708672408657, 2848.392494255978, 2048.7768529830037, 2204.719310416089, 3202.83345954192, 1359.3588704711094, 1407.7870556854414, 2212.447334593275, 3666.142729770848, 430.3665735669041, 79.89450021401127, 80.86344681059406, 76.03913605048932, 74.11123084324194, 77.00552539354341, 60.638440956632124, 56.792155042342884, 184.8086466549675, 51.015883120688684, 50.05307649672568, 47.16396246763909, 48.11734555454887, 44.27054663395486, 44.254534532427215, 40.401384906371376, 38.49053219866612, 765.4807697471108, 38.483320483954934, 36.567595058400165, 32.722474969912376, 31.755557896794254, 33.6805685662207, 176.15227279409058, 33.65360352467136, 30.7788304701082, 29.830310241030094, 146.30368061074964, 33.68085312488853, 29.834258068363546, 65.444950414057, 92.38099284575948, 138.62613961076326, 680.8709074353224, 265.7503893911046, 206.99306738948295, 242.64625479527595, 503.7411947187139, 152.0992896392576, 204.1380469739667, 83.70753789301602, 183.914456135032, 226.30737155794827, 187.78849410707684, 800.7688486015422, 120.33992419384175, 116.50242338187624, 126.13068262048029, 882.0318684383057, 424.93561341359793, 451.0436947213621, 473.12056689173073, 277.41734256052075, 2721.8157568317065, 3202.83345954192, 173.34280457244503, 1356.5159199397322, 828.3060362522478, 492.63678282949786, 999.071575126575, 920.1342165848416, 716.90921510051, 580.6912039328067, 1656.7188303856387, 272.8014107636471, 545.1517781580832, 760.673630326635, 959.3797915378607, 1425.3717055603047, 895.0734575704078, 4777.809805608885, 824.5628664996957, 2010.719769330592, 5892.279699474284, 6165.8846212451435, 6529.153466004621, 2028.124085957702, 2848.392494255978, 4583.708672408657, 1293.9807599100818, 1636.1795738206783, 1523.0601174324522, 2212.447334593275, 2272.0249001008447, 3666.142729770848, 3207.9831319371065, 2471.8368059891714], \"Category\": [\"Default\", \"Default\", \"Default\", \"Default\", \"Default\", \"Default\", \"Default\", \"Default\", \"Default\", \"Default\", \"Default\", \"Default\", \"Default\", \"Default\", \"Default\", \"Default\", \"Default\", \"Default\", \"Default\", \"Default\", \"Default\", \"Default\", \"Default\", \"Default\", \"Default\", \"Default\", \"Default\", \"Default\", \"Default\", \"Default\", \"Topic1\", \"Topic1\", \"Topic1\", \"Topic1\", \"Topic1\", \"Topic1\", \"Topic1\", \"Topic1\", \"Topic1\", \"Topic1\", \"Topic1\", \"Topic1\", \"Topic1\", \"Topic1\", \"Topic1\", \"Topic1\", \"Topic1\", \"Topic1\", \"Topic1\", \"Topic1\", \"Topic1\", \"Topic1\", \"Topic1\", \"Topic1\", \"Topic1\", \"Topic1\", \"Topic1\", \"Topic1\", \"Topic1\", \"Topic1\", \"Topic1\", \"Topic1\", \"Topic1\", \"Topic1\", \"Topic1\", \"Topic1\", \"Topic1\", \"Topic1\", \"Topic1\", \"Topic1\", \"Topic1\", \"Topic1\", \"Topic1\", \"Topic1\", \"Topic1\", \"Topic1\", \"Topic1\", \"Topic1\", \"Topic1\", \"Topic1\", \"Topic1\", \"Topic1\", \"Topic1\", \"Topic1\", \"Topic1\", \"Topic1\", \"Topic1\", \"Topic1\", \"Topic1\", \"Topic1\", \"Topic1\", \"Topic1\", \"Topic1\", \"Topic1\", \"Topic1\", \"Topic1\", \"Topic1\", \"Topic1\", \"Topic1\", \"Topic1\", \"Topic1\", \"Topic1\", \"Topic1\", \"Topic1\", \"Topic1\", \"Topic1\", \"Topic1\", \"Topic1\", \"Topic2\", \"Topic2\", \"Topic2\", \"Topic2\", \"Topic2\", \"Topic2\", \"Topic2\", \"Topic2\", \"Topic2\", \"Topic2\", \"Topic2\", \"Topic2\", \"Topic2\", \"Topic2\", \"Topic2\", \"Topic2\", \"Topic2\", \"Topic2\", \"Topic2\", \"Topic2\", \"Topic2\", \"Topic2\", \"Topic2\", \"Topic2\", \"Topic2\", \"Topic2\", \"Topic2\", \"Topic2\", \"Topic2\", \"Topic2\", \"Topic2\", \"Topic2\", \"Topic2\", \"Topic2\", \"Topic2\", \"Topic2\", \"Topic2\", \"Topic2\", \"Topic2\", \"Topic2\", \"Topic2\", \"Topic2\", \"Topic2\", \"Topic2\", \"Topic2\", \"Topic2\", \"Topic2\", \"Topic2\", \"Topic2\", \"Topic2\", \"Topic2\", \"Topic2\", \"Topic2\", \"Topic2\", \"Topic2\", \"Topic2\", \"Topic2\", \"Topic2\", \"Topic2\", \"Topic2\", \"Topic2\", \"Topic2\", \"Topic2\", \"Topic2\", \"Topic2\", \"Topic2\", \"Topic2\", \"Topic2\", \"Topic2\", \"Topic2\", \"Topic2\", \"Topic2\", \"Topic2\", \"Topic2\", \"Topic2\", \"Topic2\", \"Topic2\", \"Topic2\", \"Topic2\", \"Topic2\", \"Topic2\", \"Topic2\", \"Topic2\", \"Topic2\", \"Topic2\", \"Topic2\", \"Topic3\", \"Topic3\", \"Topic3\", \"Topic3\", \"Topic3\", \"Topic3\", \"Topic3\", \"Topic3\", \"Topic3\", \"Topic3\", \"Topic3\", \"Topic3\", \"Topic3\", \"Topic3\", \"Topic3\", \"Topic3\", \"Topic3\", \"Topic3\", \"Topic3\", \"Topic3\", \"Topic3\", \"Topic3\", \"Topic3\", \"Topic3\", \"Topic3\", \"Topic3\", \"Topic3\", \"Topic3\", \"Topic3\", \"Topic3\", \"Topic3\", \"Topic3\", \"Topic3\", \"Topic3\", \"Topic3\", \"Topic3\", \"Topic3\", \"Topic3\", \"Topic3\", \"Topic3\", \"Topic3\", \"Topic3\", \"Topic3\", \"Topic3\", \"Topic3\", \"Topic3\", \"Topic3\", \"Topic3\", \"Topic3\", \"Topic3\", \"Topic3\", \"Topic3\", \"Topic3\", \"Topic3\", \"Topic3\", \"Topic3\", \"Topic3\", \"Topic3\", \"Topic3\", \"Topic3\", \"Topic3\", \"Topic3\", \"Topic3\", \"Topic3\", \"Topic3\", \"Topic3\", \"Topic3\", \"Topic3\", \"Topic3\", \"Topic3\", \"Topic3\", \"Topic3\", \"Topic3\", \"Topic3\", \"Topic3\", \"Topic3\", \"Topic3\", \"Topic3\", \"Topic3\", \"Topic3\", \"Topic3\", \"Topic3\", \"Topic3\", \"Topic3\", \"Topic3\", \"Topic3\", \"Topic3\", \"Topic3\", \"Topic3\", \"Topic3\", \"Topic3\", \"Topic4\", \"Topic4\", \"Topic4\", \"Topic4\", \"Topic4\", \"Topic4\", \"Topic4\", \"Topic4\", \"Topic4\", \"Topic4\", \"Topic4\", \"Topic4\", \"Topic4\", \"Topic4\", \"Topic4\", \"Topic4\", \"Topic4\", \"Topic4\", \"Topic4\", \"Topic4\", \"Topic4\", \"Topic4\", \"Topic4\", \"Topic4\", \"Topic4\", \"Topic4\", \"Topic4\", \"Topic4\", \"Topic4\", \"Topic4\", \"Topic4\", \"Topic4\", \"Topic4\", \"Topic4\", \"Topic4\", \"Topic4\", \"Topic4\", \"Topic4\", \"Topic4\", \"Topic4\", \"Topic4\", \"Topic4\", \"Topic4\", \"Topic4\", \"Topic4\", \"Topic4\", \"Topic4\", \"Topic4\", \"Topic4\", \"Topic4\", \"Topic4\", \"Topic4\", \"Topic4\", \"Topic4\", \"Topic4\", \"Topic4\", \"Topic4\", \"Topic4\", \"Topic4\", \"Topic4\", \"Topic4\", \"Topic4\", \"Topic4\", \"Topic4\", \"Topic4\", \"Topic4\", \"Topic4\", \"Topic4\", \"Topic4\", \"Topic4\", \"Topic4\", \"Topic4\", \"Topic4\", \"Topic4\", \"Topic4\", \"Topic4\", \"Topic4\", \"Topic4\", \"Topic4\", \"Topic4\", \"Topic4\", \"Topic4\", \"Topic4\", \"Topic4\", \"Topic4\", \"Topic4\", \"Topic4\"], \"logprob\": [30.0, 29.0, 28.0, 27.0, 26.0, 25.0, 24.0, 23.0, 22.0, 21.0, 20.0, 19.0, 18.0, 17.0, 16.0, 15.0, 14.0, 13.0, 12.0, 11.0, 10.0, 9.0, 8.0, 7.0, 6.0, 5.0, 4.0, 3.0, 2.0, 1.0, -6.3858, -6.931, -6.9771, -6.5793, -7.5678, -7.5891, -6.5423, -7.5904, -6.1623, -7.8062, -5.8339, -7.9053, -7.8361, -7.9833, -8.0846, -5.6859, -8.2613, -8.3713, -8.5236, -8.5802, -8.6099, -8.6414, -8.7052, -7.905, -8.7392, -8.2906, -8.7737, -8.8466, -7.953, -8.8853, -6.1457, -8.2727, -8.0698, -5.0934, -7.3231, -7.2169, -5.7828, -4.8183, -6.4815, -5.772, -5.8296, -5.9897, -6.0756, -6.22, -5.7025, -6.5776, -6.52, -4.9599, -6.6739, -5.0119, -5.7464, -5.5922, -5.3182, -6.2038, -6.7475, -5.2757, -5.1213, -4.513, -5.7279, -6.1795, -4.5098, -4.5632, -5.628, -4.6782, -4.9219, -5.1814, -5.5611, -5.2271, -5.4629, -5.4638, -5.5213, -5.5291, -5.5569, -5.5502, -5.5991, -5.6409, -5.7217, -5.7194, -7.9527, -7.9692, -7.9236, -8.1845, -5.9416, -8.3335, -8.0755, -7.4751, -7.2844, -8.5665, -8.5121, -7.7795, -8.5404, -8.5129, -8.3181, -8.6904, -8.5418, -7.7685, -8.7244, -8.7244, -8.7593, -8.7598, -8.7603, -8.7263, -8.7612, -7.6289, -8.7971, -7.9245, -6.554, -8.912, -6.8445, -7.4119, -6.5175, -5.5153, -5.1937, -6.6626, -6.4212, -7.4523, -7.9066, -6.8124, -6.8825, -7.0447, -7.6584, -6.4403, -6.489, -7.5396, -6.9061, -7.4142, -3.9236, -5.7513, -5.84, -6.1438, -6.3184, -7.2165, -6.0171, -4.439, -7.2152, -5.8934, -5.7643, -6.5202, -5.7396, -4.7086, -6.1833, -5.737, -4.8684, -5.7191, -4.3861, -4.4909, -4.7447, -4.5589, -5.8376, -5.7219, -5.7221, -5.5215, -5.3911, -5.38, -5.6908, -5.8842, -5.5311, -5.9318, -5.4824, -5.5081, -5.5892, -5.7059, -5.5936, -5.7362, -7.64, -7.8805, -8.2224, -8.4834, -8.5887, -8.7476, -8.7487, -8.8368, -8.9348, -8.8879, -5.9179, -8.9887, -8.9892, -8.7984, -8.9897, -8.9909, -8.9921, -9.0461, -9.1047, -9.1089, -9.168, -9.1703, -9.1706, -9.1699, -9.2359, -7.6951, -9.2389, -9.2384, -9.2413, -8.5801, -5.0586, -6.4247, -7.0493, -4.4776, -8.0057, -8.8139, -7.409, -6.095, -7.5501, -8.0771, -5.8804, -7.7598, -6.0174, -7.1675, -7.2087, -8.2812, -6.2594, -7.966, -5.272, -5.6204, -7.5535, -5.638, -7.4132, -6.338, -6.9572, -5.6032, -7.0256, -7.4041, -5.6782, -5.5542, -6.4723, -6.912, -5.5433, -4.5577, -6.1819, -4.8781, -6.0327, -6.248, -4.5891, -5.7422, -5.8948, -6.4022, -4.9853, -5.4369, -5.8102, -5.5246, -5.2838, -4.5479, -4.7869, -4.6069, -4.6998, -5.2048, -4.9377, -5.1998, -5.3735, -5.4103, -5.346, -5.6485, -5.7011, -5.6715, -5.6937, -5.7661, -7.4511, -7.4394, -7.5011, -7.5274, -7.4895, -7.7298, -7.7961, -6.6176, -7.9051, -7.9247, -7.9847, -7.965, -8.0489, -8.05, -8.1426, -8.1914, -5.2015, -8.1924, -8.2449, -8.3571, -8.3878, -8.3294, -6.6753, -8.331, -8.4206, -8.452, -6.8621, -8.331, -8.4523, -7.6705, -7.3295, -6.9298, -5.3618, -6.2897, -6.5348, -6.3876, -5.6727, -6.8555, -6.5758, -7.4426, -6.6969, -6.5022, -6.6851, -5.3219, -7.1067, -7.138, -7.0732, -5.3133, -5.9716, -5.9262, -5.8886, -6.3699, -4.3812, -4.2615, -6.7945, -5.072, -5.4954, -5.9289, -5.3617, -5.4435, -5.7535, -5.9165, -5.2105, -6.4617, -6.0342, -5.8444, -5.7118, -5.4805, -5.7817, -4.8961, -5.8409, -5.3897, -4.8993, -4.9078, -4.9039, -5.4578, -5.3317, -5.1746, -5.6812, -5.6534, -5.7168, -5.651, -5.6901, -5.6469, -5.6989, -5.7491], \"loglift\": [30.0, 29.0, 28.0, 27.0, 26.0, 25.0, 24.0, 23.0, 22.0, 21.0, 20.0, 19.0, 18.0, 17.0, 16.0, 15.0, 14.0, 13.0, 12.0, 11.0, 10.0, 9.0, 8.0, 7.0, 6.0, 5.0, 4.0, 3.0, 2.0, 1.0, 1.2686, 1.2662, 1.2658, 1.264, 1.263, 1.263, 1.2625, 1.2618, 1.2611, 1.261, 1.2608, 1.26, 1.2587, 1.2586, 1.2573, 1.2529, 1.2529, 1.2528, 1.2505, 1.2494, 1.2487, 1.2475, 1.2462, 1.246, 1.2451, 1.2447, 1.2445, 1.2428, 1.2424, 1.2418, 1.2349, 1.2415, 1.2379, 1.205, 1.2256, 1.219, 1.1669, 1.1251, 1.1631, 1.1229, 1.0869, 1.0918, 1.094, 1.1011, 1.0343, 1.1199, 1.0897, 0.8716, 1.0936, 0.8665, 0.9629, 0.9192, 0.8503, 1.0147, 1.0996, 0.7645, 0.6229, 0.3656, 0.7023, 0.9016, 0.0566, 0.0604, 0.5969, -0.0093, -0.0018, 0.1366, 0.4328, 0.0499, 0.2625, 0.1643, 0.1307, 0.0085, -0.1155, -0.1544, -0.4556, -0.1868, -0.0998, -0.4408, 1.2705, 1.2698, 1.269, 1.2664, 1.2664, 1.2647, 1.2638, 1.2629, 1.2612, 1.2604, 1.2602, 1.259, 1.2589, 1.2585, 1.2581, 1.2579, 1.2572, 1.2571, 1.2569, 1.2569, 1.256, 1.2556, 1.2554, 1.2551, 1.2546, 1.2538, 1.2537, 1.2532, 1.2521, 1.2517, 1.2492, 1.2516, 1.2405, 1.2227, 1.2135, 1.2305, 1.224, 1.2384, 1.2417, 1.2178, 1.2163, 1.2196, 1.2354, 1.189, 1.189, 1.2276, 1.1981, 1.2144, 0.9603, 1.0957, 1.0823, 1.0542, 1.0577, 1.1685, 0.98, 0.7045, 1.1633, 0.9225, 0.86, 1.0159, 0.782, 0.4968, 0.8695, 0.7205, 0.4086, 0.6865, 0.1802, 0.1781, 0.1754, 0.0646, 0.682, 0.6104, 0.6032, 0.4795, 0.3764, 0.3555, 0.5495, 0.5999, 0.1174, 0.5493, -0.0866, -0.054, 0.0389, 0.2235, -0.7149, -0.1986, 1.4804, 1.4771, 1.4719, 1.4663, 1.463, 1.4585, 1.4577, 1.456, 1.4531, 1.4527, 1.4511, 1.4507, 1.4505, 1.4505, 1.4503, 1.4495, 1.4484, 1.4478, 1.4459, 1.4437, 1.4433, 1.4421, 1.4418, 1.4416, 1.44, 1.4396, 1.438, 1.438, 1.437, 1.4366, 1.4184, 1.4248, 1.4212, 1.3629, 1.4269, 1.4347, 1.3999, 1.3588, 1.4026, 1.4148, 1.3411, 1.4043, 1.3182, 1.3718, 1.3624, 1.414, 1.2973, 1.3926, 1.2053, 1.2201, 1.3642, 1.1984, 1.3452, 1.2375, 1.2843, 1.1426, 1.2892, 1.3257, 1.0903, 1.0488, 1.1752, 1.246, 0.9967, 0.7603, 1.0878, 0.7439, 1.031, 1.0786, 0.6163, 0.8968, 0.9404, 1.0781, 0.4687, 0.634, 0.7917, 0.647, 0.4838, 0.0757, 0.0917, -0.0405, -0.0308, 0.3329, -0.0176, 0.196, 0.3519, 0.2417, -0.0674, 0.4871, 0.3995, -0.023, -0.5502, 1.5197, 1.5186, 1.5182, 1.5181, 1.5174, 1.517, 1.5157, 1.5149, 1.5135, 1.5132, 1.5126, 1.5121, 1.5117, 1.5111, 1.5104, 1.509, 1.5085, 1.5084, 1.5078, 1.5063, 1.5052, 1.5045, 1.504, 1.5037, 1.5032, 1.503, 1.5029, 1.5026, 1.5025, 1.5024, 1.4987, 1.495, 1.4888, 1.4652, 1.4781, 1.4829, 1.4712, 1.4556, 1.4704, 1.4557, 1.4805, 1.439, 1.4263, 1.4299, 1.3429, 1.4533, 1.4545, 1.4399, 1.2548, 1.3268, 1.3126, 1.3024, 1.355, 1.0601, 1.0171, 1.4006, 1.0657, 1.1356, 1.2217, 1.0819, 1.0824, 1.0219, 1.0697, 0.7273, 1.2799, 1.0151, 0.8717, 0.7723, 0.6077, 0.7718, -0.0175, 0.7947, 0.3545, -0.2303, -0.2842, -0.3376, 0.2777, 0.0642, -0.2545, 0.5037, 0.2969, 0.3051, -0.0024, -0.0682, -0.5035, -0.4219, -0.2114]}, \"token.table\": {\"Topic\": [4, 1, 2, 3, 4, 1, 1, 2, 3, 4, 1, 3, 1, 1, 2, 3, 1, 2, 3, 4, 2, 1, 2, 3, 4, 2, 2, 1, 2, 3, 4, 1, 2, 3, 4, 3, 1, 2, 4, 1, 2, 3, 4, 1, 3, 4, 1, 2, 3, 4, 3, 4, 2, 1, 3, 1, 2, 3, 1, 2, 3, 4, 4, 1, 3, 4, 1, 2, 4, 1, 2, 3, 4, 1, 2, 3, 4, 2, 1, 2, 3, 4, 2, 3, 4, 3, 3, 1, 2, 3, 4, 3, 1, 2, 3, 4, 1, 4, 1, 2, 3, 4, 1, 2, 3, 1, 2, 3, 4, 2, 3, 1, 2, 3, 4, 1, 2, 3, 3, 4, 1, 2, 3, 4, 1, 2, 4, 1, 2, 3, 4, 2, 4, 2, 1, 2, 3, 4, 3, 4, 3, 1, 2, 3, 4, 1, 2, 3, 4, 1, 2, 3, 4, 1, 1, 2, 4, 1, 2, 3, 4, 1, 2, 3, 4, 1, 2, 4, 1, 3, 4, 1, 2, 3, 4, 1, 2, 3, 4, 1, 2, 3, 4, 2, 3, 2, 2, 3, 4, 3, 1, 1, 2, 3, 4, 1, 2, 3, 4, 1, 2, 3, 4, 1, 2, 3, 4, 3, 1, 3, 3, 1, 1, 2, 3, 4, 1, 2, 3, 4, 1, 2, 3, 4, 4, 4, 2, 3, 4, 2, 3, 1, 2, 3, 4, 1, 2, 3, 2, 3, 3, 3, 1, 2, 3, 4, 1, 2, 3, 4, 3, 4, 1, 3, 4, 1, 2, 3, 4, 3, 1, 2, 3, 4, 1, 2, 3, 4, 1, 2, 3, 4, 1, 2, 3, 4, 4, 2, 3, 2, 3, 4, 1, 2, 3, 4, 1, 2, 3, 4, 4, 1, 2, 3, 4, 1, 3, 2, 3, 1, 2, 3, 4, 4, 1, 2, 3, 1, 2, 2, 1, 1, 2, 3, 4, 2, 3, 4, 2, 3, 1, 2, 1, 2, 3, 2, 1, 3, 4, 1, 2, 3, 4, 1, 2, 3, 4, 1, 3, 4, 1, 1, 2, 3, 4, 4, 2, 3, 4, 1, 2, 3, 4, 1, 3, 4, 2, 3, 1, 2, 3, 4, 1, 2, 3, 4, 1, 2, 3, 4, 1, 2, 4, 3, 1, 2, 3, 4, 4, 3, 3, 4, 3, 2, 3, 4, 4, 1, 2, 3, 4, 1, 4, 3, 4, 2, 3, 1, 3, 1, 2, 3, 4, 1, 2, 3, 4, 1, 2, 3, 4, 1, 2, 3, 4, 1, 2, 3, 4, 1, 2, 3, 4, 1, 2, 3, 4, 1, 2, 3, 4, 1, 2, 3, 4, 4, 3, 2, 3, 4, 1, 2, 4, 1, 2, 3, 4, 2, 3, 1, 2, 3, 4, 1, 2, 3, 4, 2, 3, 2, 3, 4, 1, 2, 3, 4, 1, 2, 3, 4, 1, 2, 3, 4, 4, 2, 3, 4, 2, 1, 2, 3, 4, 1, 2, 3, 4, 1, 2, 3, 4, 2, 3, 4, 3, 1, 2, 3, 1, 2, 3, 4, 1, 2, 3, 4, 1, 2, 3, 4, 1, 2, 1, 2, 3, 1, 2, 3, 2, 3, 1, 2, 1, 2, 3, 4, 1, 2, 4, 1, 2, 3, 4, 3, 2, 3, 4, 3, 4, 1, 1, 2, 3, 4, 3, 1, 2, 3, 4, 1, 2, 3, 4, 1, 2, 3, 4, 1, 2, 3, 4, 1, 2, 3, 4, 2, 3, 1, 2, 3, 4, 1, 2, 3, 4, 1, 2, 3, 4, 1, 2, 3, 4, 1, 2, 3, 4, 2, 3, 4, 1, 2, 3, 4, 1, 4, 1, 1, 3, 1, 1, 2, 1, 2, 3, 1, 2, 3, 4, 1, 2, 3, 4, 1, 2, 3, 4, 1, 2, 3, 4, 1, 2, 3, 4, 4, 2, 1, 2, 3, 4, 1, 2, 3, 4, 2, 3, 4, 4, 1, 2, 3, 4, 3, 2, 3, 4, 1, 2, 3, 4, 1, 3, 1, 1, 2, 3, 4, 1, 2, 3, 4, 1, 2, 3, 1, 2, 3, 4, 1, 2, 3, 4, 2, 1, 3, 4, 1, 2, 3, 4, 1, 2, 3, 4, 1, 3, 4, 1, 2, 1, 2, 3, 4, 1, 2, 3, 4, 1, 2, 3, 4, 1, 2, 3, 4, 1, 2, 3, 4, 4, 1, 2, 3, 4, 1, 2, 1, 1, 2, 3, 1, 2, 3, 4, 1, 2, 3, 4, 1, 2, 3, 4, 1, 1, 2, 3, 4, 1, 2, 3, 4, 2, 1, 2, 3, 4, 1, 3, 1, 2, 3, 4, 1, 2, 3, 4, 1, 2, 3, 4, 1, 3, 4, 1, 2, 3, 4, 2, 1, 4, 1, 2, 4, 1, 2, 3, 4, 2, 4, 4, 1, 2, 3, 4, 1, 2, 3, 4, 2, 3, 4, 2], \"Freq\": [0.9888039826068729, 0.6708705558998234, 0.08358743172214628, 0.22850849840924403, 0.0173688169812252, 0.9977048137896191, 0.9358209003878477, 0.0380907674533444, 0.015582586685459074, 0.010388391123639384, 0.9934916064271246, 0.9732051779436929, 0.9913358659885007, 0.06398479990535898, 0.10968822840918681, 0.8226617130689011, 0.01386015993314683, 0.8870502357213971, 0.0485105597660139, 0.0485105597660139, 0.9756206249675008, 0.00567690659983098, 0.01135381319966196, 0.00567690659983098, 0.9764279351709285, 0.9753418833057881, 0.9658590766637021, 0.5099448324008063, 0.016086587772896097, 0.22119058187732135, 0.25336375742311357, 0.10082943194842903, 0.016804905324738172, 0.882257529548754, 0.9746959043533319, 0.9704933382827329, 0.9468442282795163, 0.03669938869300451, 0.007339877738600902, 0.1955798858269643, 0.0760588444882639, 0.05312046281720018, 0.6760786176734569, 0.980743812414016, 0.06866809949332371, 0.92701934315987, 0.17281134008683316, 0.21783964701086714, 0.551292514502362, 0.05719811960620534, 0.9805833972030376, 0.9860516819312056, 0.961869707809264, 0.975265326752453, 0.015004081950037738, 0.036915325731335255, 0.036915325731335255, 0.9105780347062696, 0.8424926670170235, 0.02647834096339217, 0.019256975246103397, 0.11072760766509453, 0.9863341944101082, 0.005411002234473215, 0.005411002234473215, 0.9848024066741251, 0.843115044109658, 0.13440964471313388, 0.024438117220569797, 0.8378247425932788, 0.10964126261097228, 0.04137406136263105, 0.010343515340657762, 0.036870394126586874, 0.9217598531646719, 0.02106879664376393, 0.02633599580470491, 0.9855825808083336, 0.8353706533093271, 0.1363870454382575, 0.022731174239709582, 0.0056827935599273955, 0.9695511149158929, 0.015637921208320853, 0.010425280805547235, 0.9675254054477483, 0.9601934847811965, 0.019611932866001113, 0.10023876798178347, 0.8607459424522711, 0.019611932866001113, 0.9895163020103362, 0.3215451489042955, 0.0948395792727821, 0.4813433441173393, 0.10198502702621089, 0.02164947505315543, 0.9634016398654166, 0.19029035567806382, 0.697247104774585, 0.05229353285809388, 0.06100912166777619, 0.010101346306252599, 0.027778702342194646, 0.9596278990939969, 0.09208231677694666, 0.819047975542315, 0.06461916966803274, 0.02423218862551228, 0.035659596764947454, 0.9628091126535814, 0.008138962876314805, 0.040694814381574025, 0.8871469535183137, 0.06511170301051844, 0.13195833354314332, 0.7960067216957355, 0.07236424742688505, 0.03606823369704359, 0.9594150163413594, 0.2779908767986938, 0.33145066079844254, 0.21825168959897448, 0.1724290175991898, 0.898214886732952, 0.0798413232651513, 0.019960330816287824, 0.011728244251368496, 0.969534858113129, 0.003909414750456165, 0.01563765900182466, 0.9507112043368326, 0.05111350560950713, 0.9831308114231153, 0.23257177248369768, 0.2627130741975849, 0.35983504638677705, 0.14475267119385343, 0.9799215390550216, 0.9721655512691234, 0.9694039425056948, 0.02954095532476138, 0.039387940433015176, 0.8468407193098263, 0.07877588086603035, 0.19582284116565787, 0.25443179010608363, 0.4240529835101394, 0.12549210243714695, 0.297929674789963, 0.2959834820314004, 0.24278754663068844, 0.16331800898938093, 0.9943346715573624, 0.03412111745476063, 0.9511261490514525, 0.012795419045535236, 0.05192023990957546, 0.03461349327305031, 0.028844577727541922, 0.8826440784627828, 0.1787888978635966, 0.2550371043054246, 0.047326472963893224, 0.5192765783538285, 0.011946355431909472, 0.023892710863818944, 0.9557084345527578, 0.01367019607197121, 0.006835098035985605, 0.9774190191459414, 0.01909319352323025, 0.005874828776378538, 0.03524897265827123, 0.9399726042205662, 0.017096625769946736, 0.08792550395972606, 0.8401770378373824, 0.0512898773098402, 0.22344534776272004, 0.2815411381810273, 0.026813441731526406, 0.4692352303017121, 0.9343723722476075, 0.06229149148317383, 0.9766681035868437, 0.8928016913140204, 0.09765018498747098, 0.006975013213390785, 0.9751306079068787, 0.9859906039318562, 0.1016133372758294, 0.2032266745516588, 0.6604866922928911, 0.031048519723170097, 0.11846255941055416, 0.724662619200619, 0.06775300911225299, 0.0890047293617485, 0.2649118916180827, 0.5704233068557949, 0.06597422588189798, 0.09946883286809236, 0.3051835519837292, 0.13891113400638708, 0.15715198998702376, 0.3984925460385246, 0.9656208195259611, 0.9587858246703468, 0.9446387929671118, 0.9870610312092086, 0.9760587490041882, 0.02137829683656674, 0.025801392733787447, 0.32288600049711147, 0.6302911653539505, 0.2600529331839486, 0.1372713430296503, 0.43011687482623756, 0.17311441593183677, 0.25395848433456414, 0.06998162739895268, 0.4735863590017175, 0.20290270585482506, 0.9779211391993828, 0.9872557699089668, 0.008246232237154002, 0.8768493612173757, 0.11544725132015604, 0.9563831784337602, 0.03787656152212912, 0.31392677332148705, 0.06367382666426388, 0.5760260133115965, 0.04590438666493443, 0.955775126922905, 0.9676332665825823, 0.02764666475950235, 0.9828308627542663, 0.009927584472265317, 0.9796695468326976, 0.9777611949089159, 0.021749241925078235, 0.03806117336888691, 0.027186552406347795, 0.9134681608532859, 0.6671853910091489, 0.20590035084851824, 0.07678604244350819, 0.050053123963175704, 0.0069708016009138885, 0.9921774278634102, 0.002612737091567608, 0.01698279109518945, 0.9810827778836367, 0.011465740780684247, 0.5055349344210781, 0.01250808085165554, 0.47009537200805407, 0.9484508923241803, 0.1036078733051521, 0.2722462202805592, 0.6095229142313735, 0.014328748435818908, 0.2728738570034168, 0.047094980396528784, 0.669025750927159, 0.011081171858006774, 0.9643098607289989, 0.9392094393581504, 0.0440254424699133, 0.0146751474899711, 0.25175740515531686, 0.3118718304437498, 0.22011823395087846, 0.2165023286703712, 0.9716518421065312, 0.06329961555303107, 0.9283943614444556, 0.9616331762953403, 0.9671417885793379, 0.9938887893977945, 0.8320006995038607, 0.0016061789565711597, 0.16061789565711596, 0.006424715826284639, 0.8644438737139915, 0.02549623784830593, 0.09166504559748084, 0.018818651745178185, 0.9753209355885285, 0.002149745928044736, 0.984583635044489, 0.006449237784134207, 0.008598983712178944, 0.9792853990107102, 0.9695942981011815, 0.933331349623266, 0.06563240100763401, 0.02472845914942267, 0.9396814476780614, 0.0061821147873556675, 0.02472845914942267, 0.9805784981037111, 0.11145871940429192, 0.02026522170987126, 0.8612719226695285, 0.9924594915787519, 0.9734284195453018, 0.9501430766173274, 0.9687935688340381, 0.0426283984734293, 0.010657099618357325, 0.9165105671787299, 0.0426283984734293, 0.0333634838697216, 0.730660296746903, 0.23688073547502336, 0.9577122308543824, 0.02992850721419945, 0.015410561687279941, 0.9708653862986363, 0.009986638763068786, 0.9420729233161554, 0.046604314227654334, 0.9923458767878355, 0.003762929575724162, 0.04139222533296578, 0.9520211826582129, 0.14270408384745853, 0.6559591081055447, 0.17987909728671245, 0.02278468565631691, 0.14140622009531653, 0.5069279588322668, 0.19565640516333105, 0.15652512413066483, 0.9821539795662599, 0.0032847959182818057, 0.014781581632268127, 0.9892796622362092, 0.8630107268306133, 0.05187496172205872, 0.08331433246270038, 0.0015719685370320826, 0.9900650706083078, 0.9593320661321857, 0.904924753287596, 0.09233926053955062, 0.30742346869997517, 0.2951998715349662, 0.105122935619077, 0.29214397224371397, 0.021300559541838612, 0.0692268185109755, 0.9052737805281411, 0.04496967637754328, 0.9443632039284089, 0.004831079671467339, 0.019324318685869354, 0.019324318685869354, 0.9565537749505331, 0.205781307923844, 0.0731666872618112, 0.6676460212640272, 0.0525885564694268, 0.24085928762761383, 0.548683937734654, 0.04320345966414598, 0.16741340619856568, 0.8592915218822242, 0.09820474535796848, 0.04208774801055792, 0.9860658205158801, 0.10936473981173765, 0.7986169372298982, 0.035607124589868075, 0.05849741896906898, 0.9797851579838572, 0.9801993389638973, 0.015280017689267112, 0.9779211321130952, 0.9807300557985756, 0.9107429926244381, 0.0851774021878971, 0.0032760539303037343, 0.9893221616855327, 0.00650247222350129, 0.04551730556450903, 0.8193115001611625, 0.1365519166935271, 0.994180294020407, 0.004057878751103702, 0.9705093288769915, 0.9869421656640276, 0.9781473213789672, 0.01811383928479569, 0.8352414106029081, 0.1638358151567243, 0.28479366954440605, 0.5104792189946901, 0.08060198194653001, 0.12448528322852968, 0.14785693609076975, 0.23015466466959442, 0.01952827457802619, 0.6025867584076654, 0.2949920059454399, 0.14197869612835387, 0.3663491744659079, 0.19715176457201472, 0.4043693823332898, 0.13562699780122764, 0.24676578766612248, 0.2132776400608811, 0.31976859669585234, 0.21590049932939817, 0.2866578058323102, 0.17780041121244555, 0.18206942224836697, 0.7670793691447592, 0.008954233881067227, 0.04178642477831373, 0.11895435121472549, 0.014418709238148544, 0.021628063857222816, 0.8398898131221527, 0.09080091230900818, 0.1146175450457972, 0.762132247577249, 0.03274787001308491, 0.03942732221695695, 0.07283102576187882, 0.8794483261171231, 0.008214025461866031, 0.9762070658859208, 0.966147288128072, 0.9752219827335905, 0.011473199796865771, 0.011473199796865771, 0.01959458346591369, 0.048986458664784224, 0.9307427146309002, 0.15322273501476005, 0.7382549959802076, 0.08009370239407912, 0.02785867909359274, 0.9512909179664969, 0.03480332626706696, 0.024838821912243503, 0.028978625564284086, 0.929385919883111, 0.016559214608162336, 0.23686905377154524, 0.48027242626782274, 0.19112882269841924, 0.09148046214625195, 0.9114972036799381, 0.08599030223395643, 0.9575528509938562, 0.018629432898713157, 0.022355319478455787, 0.7350870299320228, 0.12664909751937162, 0.1279547583185404, 0.010445286393350236, 0.28012251470713145, 0.33051838768014347, 0.2212182475958188, 0.16820440719563737, 0.15249726832644606, 0.09682366242948955, 0.6608214960812662, 0.08956188774727783, 0.9767787366141764, 0.031713140029819405, 0.047569710044729104, 0.9196810608647628, 0.9853943355686412, 0.21297476033296986, 0.5512287914500397, 0.1541898717342768, 0.08094968266049533, 0.0374639948249633, 0.0012487998274987768, 0.13112398188737157, 0.8317006851141853, 0.2827856589506023, 0.2273612880260923, 0.313936582754889, 0.17557793416961576, 0.04752838505425287, 0.8792751235036781, 0.05941048131781609, 0.9481809413487917, 0.05239254016193601, 0.9378264688986545, 0.010478508032387202, 0.4322368254668655, 0.25666056696850803, 0.13663025206781274, 0.17429934025473307, 0.276417191403918, 0.22586107801175248, 0.20353759937105603, 0.2941446597362358, 0.20452142618140873, 0.6059894109078777, 0.036792214233692576, 0.1525794766750192, 0.02295507837399866, 0.9870683700819424, 0.14502948217310455, 0.042300265633822165, 0.8157908372237132, 0.028215048533163634, 0.9418451915117956, 0.029558622272838092, 0.9787394396549218, 0.013407389584313997, 0.9917872676959412, 0.00780934856453497, 0.6912162596057596, 0.27269901748829967, 0.009468715885010406, 0.024618661301027054, 0.9015410230815127, 0.09795749606226381, 0.0016602965434282001, 0.1914357883577224, 0.662662344315193, 0.12332882519199424, 0.0239294735447153, 0.9770722235095647, 0.03977171562426565, 0.9346353171702428, 0.019885857812132826, 0.9308716932217003, 0.05171509406787224, 0.9874151578184881, 0.5659474335165382, 0.2627260337092481, 0.07407688920373537, 0.09679380189288088, 0.9820933925782579, 0.022794129837223728, 0.03799021639537288, 0.9345593233261728, 0.007598043279074576, 0.004083017901026989, 0.048996214812323864, 0.9350110993351803, 0.012249053703080966, 0.02223635619951632, 0.04447271239903264, 0.7838315560329502, 0.15009540434673513, 0.20161196377052656, 0.4801274601133158, 0.0820997172055237, 0.2359067823500491, 0.523195731223268, 0.07012414268296653, 0.09747753167277617, 0.3093419627574836, 0.044287190430618954, 0.9447933958532044, 0.04174756739477856, 0.40423864038358753, 0.36503665636653937, 0.18888228662759568, 0.28491827165871075, 0.34657075481175115, 0.2298500342792961, 0.1388677290437414, 0.3646077897221328, 0.21329799746796793, 0.3201910442539747, 0.10201208574554987, 0.18046520598128993, 0.009054482653040498, 0.21043866579825157, 0.6000936434187529, 0.1733254706543237, 0.09343326152459636, 0.7054888297726769, 0.027082104789738076, 0.02492938249792849, 0.04985876499585698, 0.9306969465893303, 0.16228989371881605, 0.3701755194824423, 0.1081932624792107, 0.3593561932345212, 0.9530605630410273, 0.041080196682802904, 0.9924581693182231, 0.9725673186209431, 0.015686569655176504, 0.9903247854605562, 0.9893124299627977, 0.007999830970049577, 0.8388709809302156, 0.015047013110855885, 0.14670837783084487, 0.2348017667477472, 0.11622687454013486, 0.6421828320550886, 0.00587004416869368, 0.20169628109973514, 0.26384687934558376, 0.49720478596678896, 0.03752488950692747, 0.6025213077190879, 0.18323067515541627, 0.07021613463984931, 0.14377589473873906, 0.7891052375591914, 0.02147225136215487, 0.11138730394117838, 0.07917892689794608, 0.7037598592168475, 0.03963335584630648, 0.13496764423336802, 0.12211358287780914, 0.9850059048999957, 0.9638526848322111, 0.11346855375660482, 0.45590562135965773, 0.4170187001233788, 0.013639442523172446, 0.030406598077180973, 0.04560989711577146, 0.9121979423154292, 0.015203299038590487, 0.9828550678956095, 0.016380917798260158, 0.9894713494186184, 0.9844781955856357, 0.12106720118018456, 0.17793209870421065, 0.10272368584985357, 0.5979985997687904, 0.9816899792451769, 0.061539537216745224, 0.005955439085491474, 0.9310336436985004, 0.17784359422382698, 0.5610801738012455, 0.12983673443334606, 0.13120056567739383, 0.9653097136182408, 0.017551085702149832, 0.9743481006722342, 0.11882391111263357, 0.08093802641005475, 0.16704230982500662, 0.6320054402657467, 0.29488933111339893, 0.4173962096837645, 0.14526260919539527, 0.1424571081594327, 0.12281774647500107, 0.24563549295000214, 0.6308366068943236, 0.24322581689826747, 0.0340315957800045, 0.08207620158706969, 0.6405947440942024, 0.003665670192836326, 0.19428052022032527, 0.021994021157017957, 0.7807877510741374, 0.9638272087575748, 0.024727354663117648, 0.028848580440303924, 0.943760702975657, 0.32149413522215986, 0.44816282449969086, 0.16139005588152425, 0.0687997449375422, 0.2968225528915188, 0.33220233086775247, 0.21610764815786018, 0.15484396335052916, 0.9631720143614494, 0.025548329293407147, 0.007664498788022144, 0.9729142416092732, 0.9837650880148263, 0.02996527803085459, 0.8300382014546721, 0.0913940979941065, 0.04944270875091007, 0.17495376444803443, 0.025205203352682927, 0.7457774874352654, 0.05337572474685796, 0.1842807400794152, 0.039340832151785264, 0.7516169511104238, 0.02484684135902227, 0.6568347095644802, 0.21742445247157563, 0.0980690712196967, 0.028128338256812234, 0.2812788696869752, 0.1231349558286329, 0.1466754620899892, 0.44908042713972, 0.9720369091648973, 0.24983322191930618, 0.06980634141862967, 0.05364066235326279, 0.6264200637829662, 0.9904726702009841, 0.009597603393420388, 0.9667044781862947, 0.7733801137259166, 0.19334502843147916, 0.03258624074687851, 0.2404865205133632, 0.2545295290104939, 0.27383866569404863, 0.23135856499022825, 0.0861646871496411, 0.052152310643203824, 0.10090338363576391, 0.760743487860647, 0.1521517159959796, 0.03260393914199563, 0.17388767542397668, 0.6401240051545142, 0.9929605208640905, 0.11976369214886654, 0.13803272993428686, 0.004059786174537849, 0.7368511906786195, 0.14584020401672795, 0.04438614904856938, 0.012681756871019823, 0.7989506828742489, 0.9619776484386737, 0.33082300111783186, 0.2883075953516848, 0.20150530857913454, 0.17936186807593293, 0.9708776520376777, 0.021575058934170617, 0.0574439971199578, 0.03535015207382018, 0.004418769009227523, 0.9014288778824147, 0.3331469756778288, 0.1541426305375029, 0.33527797978664226, 0.17687334103151253, 0.026298610660753407, 0.019723957995565054, 0.006574652665188352, 0.9467499837871227, 0.07059893088038359, 0.11060499171260095, 0.8189475982124496, 0.19040391749203023, 0.2643825096386152, 0.06548924550681294, 0.4802544670499616, 0.9637150354321585, 0.990520609952978, 0.9800869247272384, 0.96959309261739, 0.022036206650395226, 0.9789608038020486, 0.07140055926673226, 0.031043721420318377, 0.7760930355079594, 0.12417488568127351, 0.9795713761731165, 0.01323745102936644, 0.9874407801126088, 0.0532099224107906, 0.11972232542427885, 0.019953720904046474, 0.8070171565636575, 0.23815110887158672, 0.39593238182998786, 0.07987676943519058, 0.2864716237150971, 0.9615372277207881, 0.9651802042769162, 0.979793435942668, 0.9775597598771611], \"Term\": [\"3d\", \"account\", \"account\", \"account\", \"account\", \"accountant\", \"accounting\", \"accounting\", \"accounting\", \"accounting\", \"accrual\", \"activation\", \"adp\", \"advertising\", \"advertising\", \"advertising\", \"advocate\", \"advocate\", \"advocate\", \"advocate\", \"aide\", \"aircraft\", \"aircraft\", \"aircraft\", \"aircraft\", \"alcohol\", \"alcoholic\", \"analysis\", \"analysis\", \"analysis\", \"analysis\", \"analytics\", \"analytics\", \"analytics\", \"animation\", \"anthropology\", \"applicant\", \"applicant\", \"applicant\", \"application\", \"application\", \"application\", \"application\", \"ar\", \"architecture\", \"architecture\", \"art\", \"art\", \"art\", \"art\", \"asian\", \"asp\", \"assault\", \"attorney\", \"attorney\", \"audience\", \"audience\", \"audience\", \"audit\", \"audit\", \"audit\", \"audit\", \"autocad\", \"aviation\", \"aviation\", \"aviation\", \"balance\", \"balance\", \"balance\", \"bank\", \"bank\", \"bank\", \"bank\", \"bar\", \"bar\", \"bar\", \"bar\", \"bartender\", \"benefit\", \"benefit\", \"benefit\", \"benefit\", \"beverage\", \"beverage\", \"beverage\", \"bleu\", \"blog\", \"brand\", \"brand\", \"brand\", \"brand\", \"branding\", \"business\", \"business\", \"business\", \"business\", \"cad\", \"cad\", \"call\", \"call\", \"call\", \"call\", \"campaign\", \"campaign\", \"campaign\", \"care\", \"care\", \"care\", \"care\", \"celebrity\", \"celebrity\", \"channel\", \"channel\", \"channel\", \"channel\", \"child\", \"child\", \"child\", \"cisco\", \"cisco\", \"city\", \"city\", \"city\", \"city\", \"claim\", \"claim\", \"claim\", \"clean\", \"clean\", \"clean\", \"clean\", \"cleaning\", \"cleaning\", \"cleanliness\", \"client\", \"client\", \"client\", \"client\", \"co2\", \"coating\", \"cody\", \"collateral\", \"collateral\", \"collateral\", \"collateral\", \"communication\", \"communication\", \"communication\", \"communication\", \"company\", \"company\", \"company\", \"company\", \"compensation\", \"complaint\", \"complaint\", \"complaint\", \"component\", \"component\", \"component\", \"component\", \"computer\", \"computer\", \"computer\", \"computer\", \"concrete\", \"concrete\", \"concrete\", \"configuration\", \"configuration\", \"configuration\", \"construction\", \"construction\", \"construction\", \"construction\", \"content\", \"content\", \"content\", \"content\", \"control\", \"control\", \"control\", \"control\", \"cook\", \"cook\", \"cooked\", \"cooking\", \"cooking\", \"cooking\", \"cordon\", \"cpa\", \"creative\", \"creative\", \"creative\", \"creative\", \"customer\", \"customer\", \"customer\", \"customer\", \"daily\", \"daily\", \"daily\", \"daily\", \"data\", \"data\", \"data\", \"data\", \"debra\", \"deduction\", \"delaware\", \"deloitte\", \"depreciation\", \"design\", \"design\", \"design\", \"design\", \"developed\", \"developed\", \"developed\", \"developed\", \"development\", \"development\", \"development\", \"development\", \"dhcp\", \"diagram\", \"digital\", \"digital\", \"digital\", \"dining\", \"dining\", \"director\", \"director\", \"director\", \"director\", \"disbursement\", \"dish\", \"dish\", \"drink\", \"drink\", \"ecommerce\", \"editorial\", \"electrical\", \"electrical\", \"electrical\", \"electrical\", \"employee\", \"employee\", \"employee\", \"employee\", \"engineer\", \"engineer\", \"engineering\", \"engineering\", \"engineering\", \"equipment\", \"equipment\", \"equipment\", \"equipment\", \"esoh\", \"event\", \"event\", \"event\", \"event\", \"executive\", \"executive\", \"executive\", \"executive\", \"exempt\", \"exercise\", \"exercise\", \"exercise\", \"experience\", \"experience\", \"experience\", \"experience\", \"fabrication\", \"facebook\", \"facebook\", \"feeding\", \"festival\", \"fiber\", \"finance\", \"finance\", \"finance\", \"finance\", \"financial\", \"financial\", \"financial\", \"financial\", \"firewall\", \"fitness\", \"fitness\", \"fitness\", \"fitness\", \"fmla\", \"follower\", \"food\", \"food\", \"friendly\", \"friendly\", \"friendly\", \"friendly\", \"ftp\", \"fundraising\", \"fundraising\", \"fundraising\", \"gaap\", \"garnish\", \"garnishing\", \"gl\", \"google\", \"google\", \"google\", \"google\", \"graphic\", \"graphic\", \"graphic\", \"greet\", \"greet\", \"greeted\", \"greeted\", \"guest\", \"guest\", \"guest\", \"gym\", \"hardware\", \"hardware\", \"hardware\", \"health\", \"health\", \"health\", \"health\", \"high\", \"high\", \"high\", \"high\", \"hr\", \"hr\", \"hr\", \"hris\", \"human\", \"human\", \"human\", \"human\", \"hvac\", \"illness\", \"indesign\", \"indesign\", \"information\", \"information\", \"information\", \"information\", \"infrastructure\", \"infrastructure\", \"infrastructure\", \"instagram\", \"instagram\", \"installation\", \"installation\", \"installation\", \"installation\", \"international\", \"international\", \"international\", \"international\", \"inventory\", \"inventory\", \"inventory\", \"inventory\", \"invoice\", \"invoice\", \"invoice\", \"iraq\", \"item\", \"item\", \"item\", \"item\", \"itil\", \"jamie\", \"java\", \"java\", \"johnson\", \"kitchen\", \"kitchen\", \"kitchen\", \"lan\", \"launch\", \"launch\", \"launch\", \"launch\", \"ledger\", \"ledger\", \"leonard\", \"linux\", \"liquor\", \"liquor\", \"loan\", \"loan\", \"maintained\", \"maintained\", \"maintained\", \"maintained\", \"maintenance\", \"maintenance\", \"maintenance\", \"maintenance\", \"managed\", \"managed\", \"managed\", \"managed\", \"management\", \"management\", \"management\", \"management\", \"manager\", \"manager\", \"manager\", \"manager\", \"manner\", \"manner\", \"manner\", \"manner\", \"manufacturing\", \"manufacturing\", \"manufacturing\", \"manufacturing\", \"market\", \"market\", \"market\", \"market\", \"marketing\", \"marketing\", \"marketing\", \"marketing\", \"matlab\", \"mayor\", \"meal\", \"meal\", \"meal\", \"mechanical\", \"mechanical\", \"mechanical\", \"medical\", \"medical\", \"medical\", \"medical\", \"medication\", \"medication\", \"medium\", \"medium\", \"medium\", \"medium\", \"member\", \"member\", \"member\", \"member\", \"menu\", \"menu\", \"merchandise\", \"merchandise\", \"merchandise\", \"monthly\", \"monthly\", \"monthly\", \"monthly\", \"name\", \"name\", \"name\", \"name\", \"national\", \"national\", \"national\", \"national\", \"naval\", \"navy\", \"navy\", \"navy\", \"neat\", \"need\", \"need\", \"need\", \"need\", \"network\", \"network\", \"network\", \"network\", \"new\", \"new\", \"new\", \"new\", \"news\", \"news\", \"news\", \"nfl\", \"nursing\", \"nursing\", \"nursing\", \"office\", \"office\", \"office\", \"office\", \"operation\", \"operation\", \"operation\", \"operation\", \"order\", \"order\", \"order\", \"order\", \"pallet\", \"pallet\", \"partnership\", \"partnership\", \"partnership\", \"patient\", \"patient\", \"patient\", \"patron\", \"patron\", \"payable\", \"payable\", \"payment\", \"payment\", \"payment\", \"payment\", \"payroll\", \"payroll\", \"payroll\", \"personal\", \"personal\", \"personal\", \"personal\", \"photographer\", \"photography\", \"photography\", \"photography\", \"pitch\", \"pitch\", \"pivot\", \"policy\", \"policy\", \"policy\", \"policy\", \"postdoctoral\", \"pr\", \"pr\", \"pr\", \"pr\", \"press\", \"press\", \"press\", \"press\", \"print\", \"print\", \"print\", \"print\", \"problem\", \"problem\", \"problem\", \"problem\", \"process\", \"process\", \"process\", \"process\", \"producer\", \"producer\", \"product\", \"product\", \"product\", \"product\", \"professional\", \"professional\", \"professional\", \"professional\", \"program\", \"program\", \"program\", \"program\", \"project\", \"project\", \"project\", \"project\", \"public\", \"public\", \"public\", \"public\", \"qa\", \"qa\", \"qa\", \"quality\", \"quality\", \"quality\", \"quality\", \"quickbooks\", \"quickbooks\", \"receivable\", \"receivables\", \"receivables\", \"reconciled\", \"reconciliation\", \"reconciliation\", \"recruitment\", \"recruitment\", \"recruitment\", \"relation\", \"relation\", \"relation\", \"relation\", \"relationship\", \"relationship\", \"relationship\", \"relationship\", \"report\", \"report\", \"report\", \"report\", \"reporting\", \"reporting\", \"reporting\", \"reporting\", \"resource\", \"resource\", \"resource\", \"resource\", \"router\", \"salad\", \"sale\", \"sale\", \"sale\", \"sale\", \"salesforce\", \"salesforce\", \"salesforce\", \"salesforce\", \"sanitation\", \"sanitation\", \"schematic\", \"scrum\", \"security\", \"security\", \"security\", \"security\", \"seo\", \"server\", \"server\", \"server\", \"service\", \"service\", \"service\", \"service\", \"settlement\", \"settlement\", \"shrm\", \"site\", \"site\", \"site\", \"site\", \"skill\", \"skill\", \"skill\", \"skill\", \"social\", \"social\", \"social\", \"software\", \"software\", \"software\", \"software\", \"specification\", \"specification\", \"specification\", \"specification\", \"specimen\", \"sql\", \"sql\", \"sql\", \"staff\", \"staff\", \"staff\", \"staff\", \"state\", \"state\", \"state\", \"state\", \"statement\", \"statement\", \"statement\", \"statutory\", \"stocked\", \"store\", \"store\", \"store\", \"store\", \"strategic\", \"strategic\", \"strategic\", \"strategic\", \"strategy\", \"strategy\", \"strategy\", \"strategy\", \"student\", \"student\", \"student\", \"student\", \"support\", \"support\", \"support\", \"support\", \"symantec\", \"system\", \"system\", \"system\", \"system\", \"tax\", \"tax\", \"taxation\", \"teacher\", \"teacher\", \"teacher\", \"team\", \"team\", \"team\", \"team\", \"technical\", \"technical\", \"technical\", \"technical\", \"technology\", \"technology\", \"technology\", \"technology\", \"termination\", \"test\", \"test\", \"test\", \"test\", \"testing\", \"testing\", \"testing\", \"testing\", \"therapeutic\", \"training\", \"training\", \"training\", \"training\", \"treasury\", \"treasury\", \"troubleshooting\", \"troubleshooting\", \"troubleshooting\", \"troubleshooting\", \"university\", \"university\", \"university\", \"university\", \"upgrade\", \"upgrade\", \"upgrade\", \"upgrade\", \"user\", \"user\", \"user\", \"using\", \"using\", \"using\", \"using\", \"utensil\", \"variance\", \"vpn\", \"wage\", \"wage\", \"wan\", \"website\", \"website\", \"website\", \"website\", \"weight\", \"weight\", \"welding\", \"window\", \"window\", \"window\", \"window\", \"work\", \"work\", \"work\", \"work\", \"wound\", \"wy\", \"xml\", \"yoga\"]}, \"R\": 30, \"lambda.step\": 0.01, \"plot.opts\": {\"xlab\": \"PC1\", \"ylab\": \"PC2\"}, \"topic.order\": [3, 4, 1, 2]};\n",
       "\n",
       "function LDAvis_load_lib(url, callback){\n",
       "  var s = document.createElement('script');\n",
       "  s.src = url;\n",
       "  s.async = true;\n",
       "  s.onreadystatechange = s.onload = callback;\n",
       "  s.onerror = function(){console.warn(\"failed to load library \" + url);};\n",
       "  document.getElementsByTagName(\"head\")[0].appendChild(s);\n",
       "}\n",
       "\n",
       "if(typeof(LDAvis) !== \"undefined\"){\n",
       "   // already loaded: just create the visualization\n",
       "   !function(LDAvis){\n",
       "       new LDAvis(\"#\" + \"ldavis_el263618412291647207449498791\", ldavis_el263618412291647207449498791_data);\n",
       "   }(LDAvis);\n",
       "}else if(typeof define === \"function\" && define.amd){\n",
       "   // require.js is available: use it to load d3/LDAvis\n",
       "   require.config({paths: {d3: \"https://d3js.org/d3.v5\"}});\n",
       "   require([\"d3\"], function(d3){\n",
       "      window.d3 = d3;\n",
       "      LDAvis_load_lib(\"https://cdn.jsdelivr.net/gh/bmabey/pyLDAvis@3.4.0/pyLDAvis/js/ldavis.v3.0.0.js\", function(){\n",
       "        new LDAvis(\"#\" + \"ldavis_el263618412291647207449498791\", ldavis_el263618412291647207449498791_data);\n",
       "      });\n",
       "    });\n",
       "}else{\n",
       "    // require.js not available: dynamically load d3 & LDAvis\n",
       "    LDAvis_load_lib(\"https://d3js.org/d3.v5.js\", function(){\n",
       "         LDAvis_load_lib(\"https://cdn.jsdelivr.net/gh/bmabey/pyLDAvis@3.4.0/pyLDAvis/js/ldavis.v3.0.0.js\", function(){\n",
       "                 new LDAvis(\"#\" + \"ldavis_el263618412291647207449498791\", ldavis_el263618412291647207449498791_data);\n",
       "            })\n",
       "         });\n",
       "}\n",
       "</script>"
      ],
      "text/plain": [
       "PreparedData(topic_coordinates=              x         y  topics  cluster       Freq\n",
       "topic                                                \n",
       "2      0.032417 -0.005577       1        1  28.052168\n",
       "3      0.106296  0.051770       2        1  27.739142\n",
       "0     -0.023824 -0.116722       3        1  22.507677\n",
       "1     -0.114889  0.070529       4        1  21.701013, topic_info=            Term         Freq        Total Category  logprob  loglift\n",
       "156    marketing  1826.000000  1826.000000  Default  30.0000  30.0000\n",
       "72      customer  4752.000000  4752.000000  Default  29.0000  29.0000\n",
       "483      project  3202.000000  3202.000000  Default  28.0000  28.0000\n",
       "529       system  2721.000000  2721.000000  Default  27.0000  27.0000\n",
       "223         sale  3445.000000  3445.000000  Default  26.0000  26.0000\n",
       "..           ...          ...          ...      ...      ...      ...\n",
       "98    experience   478.954031  2212.447335   Topic4  -5.6510  -0.0024\n",
       "376  development   460.549586  2272.024900   Topic4  -5.6901  -0.0682\n",
       "227      service   480.884278  3666.142730   Topic4  -5.6469  -0.5035\n",
       "231        skill   456.533789  3207.983132   Topic4  -5.6989  -0.4219\n",
       "170          new   434.195197  2471.836806   Topic4  -5.7491  -0.2114\n",
       "\n",
       "[372 rows x 6 columns], token_table=      Topic      Freq     Term\n",
       "term                          \n",
       "4517      4  0.988804       3d\n",
       "8         1  0.670871  account\n",
       "8         2  0.083587  account\n",
       "8         3  0.228508  account\n",
       "8         4  0.017369  account\n",
       "...     ...       ...      ...\n",
       "275       4  0.286472     work\n",
       "9499      2  0.961537    wound\n",
       "9626      3  0.965180       wy\n",
       "5840      4  0.979793      xml\n",
       "1903      2  0.977560     yoga\n",
       "\n",
       "[793 rows x 3 columns], R=30, lambda_step=0.01, plot_opts={'xlab': 'PC1', 'ylab': 'PC2'}, topic_order=[3, 4, 1, 2])"
      ]
     },
     "execution_count": 145,
     "metadata": {},
     "output_type": "execute_result"
    }
   ],
   "source": [
    "pyLDAvis.enable_notebook()\n",
    "pyLDAvis.gensim_models.prepare(ldamodel, bow, dictionary)"
   ]
  }
 ],
 "metadata": {
  "colab": {
   "name": "Resume_Analysis_With_Spacy.ipynb",
   "provenance": []
  },
  "kernelspec": {
   "display_name": "Python 3 (ipykernel)",
   "language": "python",
   "name": "python3"
  },
  "language_info": {
   "codemirror_mode": {
    "name": "ipython",
    "version": 3
   },
   "file_extension": ".py",
   "mimetype": "text/x-python",
   "name": "python",
   "nbconvert_exporter": "python",
   "pygments_lexer": "ipython3",
   "version": "3.9.13"
  }
 },
 "nbformat": 4,
 "nbformat_minor": 1
}
